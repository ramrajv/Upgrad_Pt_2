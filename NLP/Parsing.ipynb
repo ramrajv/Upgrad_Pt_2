{
  "nbformat": 4,
  "nbformat_minor": 0,
  "metadata": {
    "colab": {
      "name": "Parsing.ipynb",
      "provenance": [],
      "authorship_tag": "ABX9TyMoEM1BC/iRSCHuhHoIZHc7",
      "include_colab_link": true
    },
    "kernelspec": {
      "name": "python3",
      "display_name": "Python 3"
    },
    "language_info": {
      "name": "python"
    }
  },
  "cells": [
    {
      "cell_type": "markdown",
      "metadata": {
        "id": "view-in-github",
        "colab_type": "text"
      },
      "source": [
        "<a href=\"https://colab.research.google.com/github/ramrajv/Upgrad_Pt_2/blob/main/NLP/Parsing.ipynb\" target=\"_parent\"><img src=\"https://colab.research.google.com/assets/colab-badge.svg\" alt=\"Open In Colab\"/></a>"
      ]
    },
    {
      "cell_type": "code",
      "execution_count": 1,
      "metadata": {
        "id": "URzogh-1WyJR"
      },
      "outputs": [],
      "source": [
        "import json\n",
        "\n",
        "# python object(dictionary) to be dumped\n",
        "dict1 ={\n",
        "  \"emp1\": {\n",
        "    \"name\": \"Lisa\",\n",
        "    \"designation\": \"programmer\",\n",
        "    \"age\": \"34\",\n",
        "    \"salary\": \"54000\"\n",
        "  },\n",
        "  \"emp2\": {\n",
        "    \"name\": \"Elis\",\n",
        "    \"designation\": \"Trainee\",\n",
        "    \"age\": \"24\",\n",
        "    \"salary\": \"40000\"\n",
        "  },\n",
        "}\n",
        "\n",
        "# the json file where the output must be stored\n",
        "out_file = open(\"myfile.json\", \"w\")\n",
        "\n",
        "json.dump(dict1, out_file, indent = 6)\n",
        "\n",
        "out_file.close()"
      ]
    },
    {
      "cell_type": "code",
      "source": [
        "myfile.json"
      ],
      "metadata": {
        "colab": {
          "base_uri": "https://localhost:8080/",
          "height": 165
        },
        "id": "5UuPsTTwWzXJ",
        "outputId": "be5cd0ff-849b-4a4b-efae-12d57c978b3a"
      },
      "execution_count": 2,
      "outputs": [
        {
          "output_type": "error",
          "ename": "NameError",
          "evalue": "ignored",
          "traceback": [
            "\u001b[0;31m---------------------------------------------------------------------------\u001b[0m",
            "\u001b[0;31mNameError\u001b[0m                                 Traceback (most recent call last)",
            "\u001b[0;32m<ipython-input-2-cfa3408c06ac>\u001b[0m in \u001b[0;36m<module>\u001b[0;34m()\u001b[0m\n\u001b[0;32m----> 1\u001b[0;31m \u001b[0mmyfile\u001b[0m\u001b[0;34m.\u001b[0m\u001b[0mjson\u001b[0m\u001b[0;34m\u001b[0m\u001b[0;34m\u001b[0m\u001b[0m\n\u001b[0m",
            "\u001b[0;31mNameError\u001b[0m: name 'myfile' is not defined"
          ]
        }
      ]
    },
    {
      "cell_type": "code",
      "source": [
        "import spacy\n",
        "from spacy import displacy\n",
        "nlp = spacy.load(\"en_core_web_sm\")\n",
        " \n",
        "s= \"upGrad is teaching NLP.\"\n",
        "doc = nlp(s)\n",
        " \n",
        "for tok in doc:\n",
        "    print(tok,tok.dep_)# PRINT THE DEPENDENCY TAGS)\n",
        "    print(tok, tok.dep)\n",
        "    print(tok, tok.pos)"
      ],
      "metadata": {
        "colab": {
          "base_uri": "https://localhost:8080/"
        },
        "id": "1R6vpb8EXYx7",
        "outputId": "43d961fc-0784-4c84-d0ab-2823d7c681c2"
      },
      "execution_count": 8,
      "outputs": [
        {
          "output_type": "stream",
          "name": "stdout",
          "text": [
            "upGrad nsubj\n",
            "upGrad 429\n",
            "upGrad 96\n",
            "is aux\n",
            "is 405\n",
            "is 87\n",
            "teaching ROOT\n",
            "teaching 8206900633647566924\n",
            "teaching 100\n",
            "NLP dobj\n",
            "NLP 416\n",
            "NLP 96\n",
            ". punct\n",
            ". 445\n",
            ". 97\n"
          ]
        }
      ]
    },
    {
      "cell_type": "code",
      "source": [
        "import spacy\n",
        "from spacy import displacy\n",
        "nlp = spacy.load(\"en_core_web_sm\")\n",
        " \n",
        "doc = nlp(\"When was the church built?\")\n",
        "for tok in doc:\n",
        "    print(tok,tok.pos_)## Statements)\n",
        "    print(tok.lemma_)"
      ],
      "metadata": {
        "colab": {
          "base_uri": "https://localhost:8080/"
        },
        "id": "sfmtFoZRKKid",
        "outputId": "c933e4cd-c13e-4413-d35e-9a9200587889"
      },
      "execution_count": 11,
      "outputs": [
        {
          "output_type": "stream",
          "name": "stdout",
          "text": [
            "When SCONJ\n",
            "when\n",
            "was AUX\n",
            "be\n",
            "the DET\n",
            "the\n",
            "church NOUN\n",
            "church\n",
            "built VERB\n",
            "build\n",
            "? PUNCT\n",
            "?\n"
          ]
        }
      ]
    },
    {
      "cell_type": "code",
      "source": [
        "import spacy\n",
        "from spacy.matcher import Matcher\n",
        "nlp = spacy.load(\"en_core_web_sm\")\n",
        "\n",
        "rule = [{'DEP':'nsubjpass'}]\n",
        "matcher = Matcher(nlp.vocab)\n",
        "matcher.add('Rule',[rule])\n",
        "\n",
        "doc = nlp('I am learning NLP from upGrad.')\n",
        "matcher(doc)"
      ],
      "metadata": {
        "colab": {
          "base_uri": "https://localhost:8080/"
        },
        "id": "IEpCS3UGK8qS",
        "outputId": "91638685-0514-4a84-a760-57314bfc2c30"
      },
      "execution_count": 13,
      "outputs": [
        {
          "output_type": "execute_result",
          "data": {
            "text/plain": [
              "[]"
            ]
          },
          "metadata": {},
          "execution_count": 13
        }
      ]
    },
    {
      "cell_type": "code",
      "source": [
        "``"
      ],
      "metadata": {
        "id": "rK1nYC6rL7zP"
      },
      "execution_count": null,
      "outputs": []
    }
  ]
}