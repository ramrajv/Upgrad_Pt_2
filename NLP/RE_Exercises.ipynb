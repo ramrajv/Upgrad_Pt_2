{
  "cells": [
    {
      "cell_type": "markdown",
      "metadata": {
        "id": "view-in-github",
        "colab_type": "text"
      },
      "source": [
        "<a href=\"https://colab.research.google.com/github/ramrajv/Upgrad_Pt_2/blob/main/NLP/RE_Exercises.ipynb\" target=\"_parent\"><img src=\"https://colab.research.google.com/assets/colab-badge.svg\" alt=\"Open In Colab\"/></a>"
      ]
    },
    {
      "cell_type": "code",
      "execution_count": 1,
      "metadata": {
        "collapsed": true,
        "id": "2Zs_HyYs1fL8"
      },
      "outputs": [],
      "source": [
        "import re"
      ]
    },
    {
      "cell_type": "code",
      "source": [
        "word = input('Enter a word ending with ing or ed: ')\n",
        "pattern = '(ing)$|(ed)$'\n",
        "result = re.search(pattern,word)\n",
        "re.split(pattern,word)[0]"
      ],
      "metadata": {
        "colab": {
          "base_uri": "https://localhost:8080/",
          "height": 53
        },
        "id": "w9B6vLBxOzNL",
        "outputId": "37e7b02d-a154-4a56-98c6-e9cce9a74d81"
      },
      "execution_count": 8,
      "outputs": [
        {
          "name": "stdout",
          "output_type": "stream",
          "text": [
            "Enter a word ending with ing or ed: asdfked\n"
          ]
        },
        {
          "output_type": "execute_result",
          "data": {
            "text/plain": [
              "'asdfk'"
            ],
            "application/vnd.google.colaboratory.intrinsic+json": {
              "type": "string"
            }
          },
          "metadata": {},
          "execution_count": 8
        }
      ]
    },
    {
      "cell_type": "markdown",
      "metadata": {
        "id": "PUamXh7E1fL-"
      },
      "source": [
        "### Q1.\n",
        "Write a regular expression to match all the files that have either .exe, .xml or .jar extensions. A valid file name can contain any alphabet, digit and underscore followed by the extension."
      ]
    },
    {
      "cell_type": "code",
      "execution_count": null,
      "metadata": {
        "colab": {
          "base_uri": "https://localhost:8080/"
        },
        "id": "2_fPHYat1fL_",
        "outputId": "d5b3f634-3373-4e75-ec42-78b4bb68acfa"
      },
      "outputs": [
        {
          "output_type": "stream",
          "name": "stdout",
          "text": [
            "['employees.xml', 'calculator.jar', 'nfsmw.exe']\n"
          ]
        }
      ],
      "source": [
        "files = ['employees.xml', 'calculator.jar', 'nfsmw.exe', 'bkgrnd001.jpg', 'sales_report.ppt']\n",
        "\n",
        "pattern = \"^.+\\.(xml|jar|exe)$\"\n",
        "\n",
        "result = []\n",
        "\n",
        "for file in files:\n",
        "    match = re.search(pattern, file)\n",
        "    if match !=None:\n",
        "        result.append(file)\n",
        "\n",
        "# print result - result should only contain the items that match the pattern\n",
        "print(result)"
      ]
    },
    {
      "cell_type": "markdown",
      "metadata": {
        "id": "Vubqvm6U1fMA"
      },
      "source": [
        "### Q2\n",
        "Write a regular expression to match all the addresses that have Koramangala embedded in them.\n",
        "\n",
        "Strings that should match:\n",
        "* 466, 5th block, Koramangala, Bangalore\n",
        "* 4th BLOCK, KORAMANGALA - 560034\n",
        "\n",
        "Strings that shouldn't match:\n",
        "* 999, St. Marks Road, Bangalore\n"
      ]
    },
    {
      "cell_type": "code",
      "execution_count": null,
      "metadata": {
        "colab": {
          "base_uri": "https://localhost:8080/"
        },
        "id": "Rh3RrJ5O1fMA",
        "outputId": "0ce5ff4c-92ab-41a5-be44-5d8a6f2e11e6"
      },
      "outputs": [
        {
          "output_type": "stream",
          "name": "stdout",
          "text": [
            "['466, 5th block, Koramangala, Bangalore', '4th BLOCK, KORAMANGALA - 560034']\n"
          ]
        }
      ],
      "source": [
        "addresses = ['466, 5th block, Koramangala, Bangalore', '4th BLOCK, KORAMANGALA - 560034', '999, St. Marks Road, Bangalore']\n",
        "\n",
        "pattern = \"^[\\w\\d\\s,-]*koramangala[\\w\\d\\s,-]*$\"\n",
        "\n",
        "result = []\n",
        "\n",
        "for address in addresses:\n",
        "    match = re.search(pattern, address, re.I)\n",
        "    if match !=None:\n",
        "        result.append(address)\n",
        "\n",
        "# print result - result should only contain the items that match the pattern\n",
        "print(result)"
      ]
    },
    {
      "cell_type": "markdown",
      "metadata": {
        "id": "AHLJxCz41fMB"
      },
      "source": [
        "### Q3. \n",
        "Write a regular expression that matches either integer numbers or floats upto 2 decimal places.\n",
        "\n",
        "Strings that should match: \n",
        "* 2\n",
        "* 2.3\n",
        "* 4.56\n",
        "* .61\n",
        "\n",
        "Strings that shoudln't match:\n",
        "* 4.567\n",
        "* 75.8792\n",
        "* abc\n"
      ]
    },
    {
      "cell_type": "code",
      "execution_count": null,
      "metadata": {
        "colab": {
          "base_uri": "https://localhost:8080/"
        },
        "id": "4fS4JM9L1fMB",
        "outputId": "59c1639a-baa1-4a61-abb7-a9aad446c193"
      },
      "outputs": [
        {
          "output_type": "stream",
          "name": "stdout",
          "text": [
            "['2', '2.3', '4.56', '.61']\n"
          ]
        }
      ],
      "source": [
        "numbers = ['2', '2.3', '4.56', '.61', '4.567', '75.8792', 'abc','2023.23.25.62']\n",
        "\n",
        "pattern = \"^[0-9]*(\\.[0-9]{,2})?$\"\n",
        "\n",
        "result = []\n",
        "\n",
        "for number in numbers:\n",
        "    match = re.search(pattern, number)\n",
        "    if match != None:\n",
        "        result.append(number)\n",
        "\n",
        "# print result - result should only contain the items that match the pattern\n",
        "print(result)"
      ]
    },
    {
      "cell_type": "markdown",
      "metadata": {
        "id": "61eKnP3f1fMC"
      },
      "source": [
        "### Q4. \n",
        "Write a regular expression to match the model names of smartphones which follow the following pattern: \n",
        "\n",
        "mobile company name followed by underscore followed by model name followed by underscore followed by model number\n",
        "\n",
        "Strings that should match:\n",
        "* apple_iphone_6\n",
        "* samsung_note_4\n",
        "* google_pixel_2\n",
        "\n",
        "Strings that shouldn’t match:\n",
        "* apple_6\n",
        "* iphone_6\n",
        "* google\\_pixel\\_\n"
      ]
    },
    {
      "cell_type": "code",
      "execution_count": null,
      "metadata": {
        "colab": {
          "base_uri": "https://localhost:8080/"
        },
        "id": "7Ws_MoXg1fMC",
        "outputId": "7f77f261-26e4-4103-d7b3-6f0f61d54d11"
      },
      "outputs": [
        {
          "output_type": "stream",
          "name": "stdout",
          "text": [
            "['apple_iphone_6', 'samsung_note_4', 'google_pixel_2']\n"
          ]
        }
      ],
      "source": [
        "phones = ['apple_iphone_6', 'samsung_note_4', 'google_pixel_2', 'apple_6', 'iphone_6', 'google_pixel_']\n",
        "\n",
        "pattern = \"^.*_.*_\\d$\"\n",
        "\n",
        "result = []\n",
        "\n",
        "for phone in phones:\n",
        "    match = re.search(pattern, phone)\n",
        "    if match !=None:\n",
        "        result.append(phone)\n",
        "\n",
        "# print result - result should only contain the items that match the pattern\n",
        "print(result)"
      ]
    },
    {
      "cell_type": "markdown",
      "metadata": {
        "id": "qYhC-dfc1fMC"
      },
      "source": [
        "### Q5. \n",
        "Write a regular expression that can be used to match the emails present in a database. \n",
        "\n",
        "The pattern of a valid email address is defined as follows:\n",
        "The '@' character can be preceded either by alphanumeric characters, period characters or underscore characters. The length of the part that precedes the '@' character should be between 4 to 20 characters.\n",
        "\n",
        "The '@' character should be followed by a domain name (e.g. gmail.com). The domain name has three parts - a prefix (e.g. 'gmail'), the period character and a suffix (e.g. 'com'). The prefix can have a length between 3 to 15 characters followed by a period character followed by either of these suffixes - 'com', 'in' or 'org'.\n",
        "\n",
        "\n",
        "Emails that should match:\n",
        "* random.guy123@gmail.com\n",
        "* mr_x_in_bombay@gov.in\n",
        "\n",
        "Emails that shouldn’t match:\n",
        "* 1@ued.org\n",
        "* @gmail.com\n",
        "* abc!@yahoo.in\n",
        "* sam_12@gov.us\n",
        "* neeraj@"
      ]
    },
    {
      "cell_type": "code",
      "execution_count": null,
      "metadata": {
        "colab": {
          "base_uri": "https://localhost:8080/"
        },
        "id": "Wrxx-yS01fMD",
        "outputId": "1429b10b-eb16-4d18-dac3-237af7199c24"
      },
      "outputs": [
        {
          "output_type": "stream",
          "name": "stdout",
          "text": [
            "['random.guy123@gmail.com', 'mr_x_in_bombay@gov.in']\n"
          ]
        }
      ],
      "source": [
        "emails = ['random.guy123@gmail.com', 'mr_x_in_bombay@gov.in', '1@ued.org',\n",
        "          '@gmail.com', 'abc!@yahoo.in', 'sam_12@gov.us', 'neeraj@']\n",
        "\n",
        "pattern = \"^[a-z_.0-9]{4,20}@[a-z]{3,15}\\.(com|in|org)$\"\n",
        "\n",
        "result = []\n",
        "\n",
        "for email in emails:\n",
        "    match = re.search(pattern, email, re.I)\n",
        "    if match !=None:\n",
        "        result.append(email)\n",
        "\n",
        "# print result - result should only contain the items that match the pattern\n",
        "print(result)"
      ]
    },
    {
      "cell_type": "code",
      "source": [
        "re.search(pattern,'ramraj')"
      ],
      "metadata": {
        "id": "7jGUjdnb4PaO"
      },
      "execution_count": null,
      "outputs": []
    },
    {
      "cell_type": "code",
      "source": [
        "re.sub('jil','jack','thisisnot')"
      ],
      "metadata": {
        "colab": {
          "base_uri": "https://localhost:8080/",
          "height": 35
        },
        "id": "UeP9kpex4-Ee",
        "outputId": "e4249ce4-b174-4dc0-b81d-7c43837fd65b"
      },
      "execution_count": null,
      "outputs": [
        {
          "output_type": "execute_result",
          "data": {
            "text/plain": [
              "'thisisnot'"
            ],
            "application/vnd.google.colaboratory.intrinsic+json": {
              "type": "string"
            }
          },
          "metadata": {},
          "execution_count": 8
        }
      ]
    },
    {
      "cell_type": "code",
      "source": [
        "re.match(pattern,'ramraj')"
      ],
      "metadata": {
        "id": "A3bhVrSP5D8E"
      },
      "execution_count": null,
      "outputs": []
    },
    {
      "cell_type": "code",
      "source": [
        "re.findall(pattern,'ramraj')"
      ],
      "metadata": {
        "id": "mnVIsOio5JQO",
        "outputId": "e8432cb5-4c83-4c60-a18b-59a3c71dd10b",
        "colab": {
          "base_uri": "https://localhost:8080/"
        }
      },
      "execution_count": null,
      "outputs": [
        {
          "output_type": "execute_result",
          "data": {
            "text/plain": [
              "[]"
            ]
          },
          "metadata": {},
          "execution_count": 10
        }
      ]
    },
    {
      "cell_type": "code",
      "source": [
        ""
      ],
      "metadata": {
        "id": "Zrl5Yxs45Md4"
      },
      "execution_count": null,
      "outputs": []
    }
  ],
  "metadata": {
    "kernelspec": {
      "display_name": "Python 3",
      "language": "python",
      "name": "python3"
    },
    "language_info": {
      "codemirror_mode": {
        "name": "ipython",
        "version": 3
      },
      "file_extension": ".py",
      "mimetype": "text/x-python",
      "name": "python",
      "nbconvert_exporter": "python",
      "pygments_lexer": "ipython3",
      "version": "3.6.5"
    },
    "colab": {
      "name": "RE_Exercises.ipynb",
      "provenance": [],
      "include_colab_link": true
    }
  },
  "nbformat": 4,
  "nbformat_minor": 0
}