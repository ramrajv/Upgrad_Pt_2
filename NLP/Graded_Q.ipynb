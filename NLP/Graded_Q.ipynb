{
  "nbformat": 4,
  "nbformat_minor": 0,
  "metadata": {
    "colab": {
      "name": "Graded_Q.ipynb",
      "provenance": [],
      "authorship_tag": "ABX9TyO1/1ReRJxpHdypTuw8jGwP",
      "include_colab_link": true
    },
    "kernelspec": {
      "name": "python3",
      "display_name": "Python 3"
    },
    "language_info": {
      "name": "python"
    }
  },
  "cells": [
    {
      "cell_type": "markdown",
      "metadata": {
        "id": "view-in-github",
        "colab_type": "text"
      },
      "source": [
        "<a href=\"https://colab.research.google.com/github/ramrajv/Upgrad_Pt_2/blob/main/NLP/Graded_Q.ipynb\" target=\"_parent\"><img src=\"https://colab.research.google.com/assets/colab-badge.svg\" alt=\"Open In Colab\"/></a>"
      ]
    },
    {
      "cell_type": "code",
      "execution_count": null,
      "metadata": {
        "colab": {
          "base_uri": "https://localhost:8080/"
        },
        "id": "SmiQSfOO3p8U",
        "outputId": "068f9cd9-0570-4083-b8f1-c651cdf92551"
      },
      "outputs": [
        {
          "output_type": "stream",
          "name": "stdout",
          "text": [
            "upGrad PROPN NNP\n",
            "is AUX VBZ\n",
            "teaching VERB VBG\n",
            "Data PROPN NNP\n",
            "Science PROPN NNP\n",
            "courses NOUN NNS\n",
            "to ADP IN\n",
            "the DET DT\n",
            "working VERB VBG\n",
            "professionals NOUN NNS\n",
            ". PUNCT .\n"
          ]
        }
      ],
      "source": [
        "import spacy\n",
        "nlp = spacy.load(\"en_core_web_sm\")\n",
        "doc = nlp(\"upGrad is teaching Data Science courses to the working professionals.\")\n",
        "for token in doc:\n",
        "    print(token.text, token.pos_, token.tag_)"
      ]
    },
    {
      "cell_type": "markdown",
      "source": [
        "<em>Can you write a descriptive answer about the meaning of the PoS tags ‘VBG’ and ‘NNP’ that are assigned to the words ‘teaching’ and ‘upGrad’, respectively?</em>\n",
        "\n",
        "The word ‘teaching’ is assigned the PoS tag VBG, which is used to tag words that are verbs or gerunds or those with present participle tense. \n",
        "\n",
        "NNP stands for proper nouns that name specific people, places, things or ideas. ‘upGrad’ is a proper noun; hence, it is assigned an NNP tag."
      ],
      "metadata": {
        "id": "RmUv2zdW4iU9"
      }
    },
    {
      "cell_type": "code",
      "source": [
        "up1 = nlp('Apple is looking at buying UK-based start-up for $1 billion')\n",
        "for token in up1:\n",
        "    print(token.text, token.pos_, token.tag_)"
      ],
      "metadata": {
        "colab": {
          "base_uri": "https://localhost:8080/"
        },
        "id": "sx5Wj5LI3rbb",
        "outputId": "c0e7e690-5f52-4340-ad25-5deccedd2466"
      },
      "execution_count": null,
      "outputs": [
        {
          "output_type": "stream",
          "name": "stdout",
          "text": [
            "Apple PROPN NNP\n",
            "is AUX VBZ\n",
            "looking VERB VBG\n",
            "at ADP IN\n",
            "buying VERB VBG\n",
            "UK PROPN NNP\n",
            "- PUNCT HYPH\n",
            "based VERB VBN\n",
            "start NOUN NN\n",
            "- PUNCT HYPH\n",
            "up NOUN NN\n",
            "for ADP IN\n",
            "$ SYM $\n",
            "1 NUM CD\n",
            "billion NUM CD\n"
          ]
        }
      ]
    },
    {
      "cell_type": "code",
      "source": [
        ""
      ],
      "metadata": {
        "id": "nlPPFm61itXt"
      },
      "execution_count": null,
      "outputs": []
    }
  ]
}