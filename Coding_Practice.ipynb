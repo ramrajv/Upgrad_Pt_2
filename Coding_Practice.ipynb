{
  "nbformat": 4,
  "nbformat_minor": 0,
  "metadata": {
    "colab": {
      "name": "Coding_Practice.ipynb",
      "provenance": [],
      "collapsed_sections": [],
      "toc_visible": true,
      "authorship_tag": "ABX9TyMLLxXyMSiy6f2cYWMyE4Tj",
      "include_colab_link": true
    },
    "kernelspec": {
      "name": "python3",
      "display_name": "Python 3"
    },
    "language_info": {
      "name": "python"
    }
  },
  "cells": [
    {
      "cell_type": "markdown",
      "metadata": {
        "id": "view-in-github",
        "colab_type": "text"
      },
      "source": [
        "<a href=\"https://colab.research.google.com/github/ramrajv/Upgrad_Pt_2/blob/main/Coding_Practice.ipynb\" target=\"_parent\"><img src=\"https://colab.research.google.com/assets/colab-badge.svg\" alt=\"Open In Colab\"/></a>"
      ]
    },
    {
      "cell_type": "markdown",
      "source": [
        "## Dictionary Manipulations"
      ],
      "metadata": {
        "id": "aTXuztCBiX4N"
      }
    },
    {
      "cell_type": "code",
      "execution_count": 12,
      "metadata": {
        "id": "cp--6juiTr2l"
      },
      "outputs": [],
      "source": [
        "import random\n",
        "\n",
        "d = {\"a\": 1, \"b\": 5, \"c\": 6, \"d\": 4, \"e\": 3}\n",
        "key = random.choice(list(d))"
      ]
    },
    {
      "cell_type": "code",
      "source": [
        "key"
      ],
      "metadata": {
        "colab": {
          "base_uri": "https://localhost:8080/",
          "height": 35
        },
        "id": "TynFQ_-lT0JF",
        "outputId": "88703e01-e8b0-40ec-dc45-2ac963183011"
      },
      "execution_count": 13,
      "outputs": [
        {
          "output_type": "execute_result",
          "data": {
            "text/plain": [
              "'e'"
            ],
            "application/vnd.google.colaboratory.intrinsic+json": {
              "type": "string"
            }
          },
          "metadata": {},
          "execution_count": 13
        }
      ]
    },
    {
      "cell_type": "code",
      "source": [
        "list(d)"
      ],
      "metadata": {
        "colab": {
          "base_uri": "https://localhost:8080/"
        },
        "id": "vfLZWeVbT0ud",
        "outputId": "67b8d069-bca0-4910-d30f-2770d39342ce"
      },
      "execution_count": 14,
      "outputs": [
        {
          "output_type": "execute_result",
          "data": {
            "text/plain": [
              "['a', 'b', 'c', 'd', 'e']"
            ]
          },
          "metadata": {},
          "execution_count": 14
        }
      ]
    },
    {
      "cell_type": "code",
      "source": [
        "vals = list(d.values())"
      ],
      "metadata": {
        "id": "l9qbQDZDUAGy"
      },
      "execution_count": 15,
      "outputs": []
    },
    {
      "cell_type": "code",
      "source": [
        "vals"
      ],
      "metadata": {
        "colab": {
          "base_uri": "https://localhost:8080/"
        },
        "id": "-QWzyV2VUELz",
        "outputId": "ea08495c-8afc-4088-fc95-5a0263cc1148"
      },
      "execution_count": 16,
      "outputs": [
        {
          "output_type": "execute_result",
          "data": {
            "text/plain": [
              "[1, 5, 6, 4, 3]"
            ]
          },
          "metadata": {},
          "execution_count": 16
        }
      ]
    },
    {
      "cell_type": "code",
      "source": [
        "vals.index(4)"
      ],
      "metadata": {
        "colab": {
          "base_uri": "https://localhost:8080/"
        },
        "id": "pi6reorwUSUp",
        "outputId": "159874e9-6efe-4b45-ff37-dbba0dc4476d"
      },
      "execution_count": 17,
      "outputs": [
        {
          "output_type": "execute_result",
          "data": {
            "text/plain": [
              "3"
            ]
          },
          "metadata": {},
          "execution_count": 17
        }
      ]
    },
    {
      "cell_type": "code",
      "source": [
        "vals.sort()"
      ],
      "metadata": {
        "id": "0blHD8wtVFOt"
      },
      "execution_count": 18,
      "outputs": []
    },
    {
      "cell_type": "code",
      "source": [
        "vals"
      ],
      "metadata": {
        "colab": {
          "base_uri": "https://localhost:8080/"
        },
        "id": "5PvpEj9OVYd0",
        "outputId": "3ace2229-5e43-4522-f322-a7f2caf32f52"
      },
      "execution_count": 19,
      "outputs": [
        {
          "output_type": "execute_result",
          "data": {
            "text/plain": [
              "[1, 3, 4, 5, 6]"
            ]
          },
          "metadata": {},
          "execution_count": 19
        }
      ]
    },
    {
      "cell_type": "markdown",
      "source": [
        "## Arrange dictionary by order of its VALUES"
      ],
      "metadata": {
        "id": "om-Tox-5aVSJ"
      }
    },
    {
      "cell_type": "code",
      "source": [
        "import operator\n",
        "d = {\"a\": 1, \"b\": 5, \"c\": 6, \"d\": 4, \"e\": 3}\n",
        "print('Original dictionary : ',d)\n",
        "sorted_d = sorted(d.items(), key=operator.itemgetter(1))\n",
        "print('Dictionary in ascending order by value : ',dict(sorted_d))\n",
        "sorted_d = dict( sorted(d.items(), key=operator.itemgetter(1),reverse=True))\n",
        "print('Dictionary in descending order by value : ',sorted_d)"
      ],
      "metadata": {
        "colab": {
          "base_uri": "https://localhost:8080/"
        },
        "id": "_ri7L5qaVZPc",
        "outputId": "7a346b0e-532b-4e73-c249-8500618e8a40"
      },
      "execution_count": 49,
      "outputs": [
        {
          "output_type": "stream",
          "name": "stdout",
          "text": [
            "Original dictionary :  {'a': 1, 'b': 5, 'c': 6, 'd': 4, 'e': 3}\n",
            "Dictionary in ascending order by value :  {'a': 1, 'e': 3, 'd': 4, 'b': 5, 'c': 6}\n",
            "Dictionary in descending order by value :  {'c': 6, 'b': 5, 'd': 4, 'e': 3, 'a': 1}\n"
          ]
        }
      ]
    },
    {
      "cell_type": "code",
      "source": [
        "std_d = sorted(d.items(),key = operator.itemgetter(1))"
      ],
      "metadata": {
        "id": "j-WQ_6hQWASU"
      },
      "execution_count": 52,
      "outputs": []
    },
    {
      "cell_type": "code",
      "source": [
        "std_d"
      ],
      "metadata": {
        "colab": {
          "base_uri": "https://localhost:8080/"
        },
        "id": "Btx2H1Z9WkrC",
        "outputId": "3a6b867b-22ed-4dac-d879-559561a3494d"
      },
      "execution_count": 53,
      "outputs": [
        {
          "output_type": "execute_result",
          "data": {
            "text/plain": [
              "[('a', 1), ('e', 3), ('d', 4), ('b', 5), ('c', 6)]"
            ]
          },
          "metadata": {},
          "execution_count": 53
        }
      ]
    },
    {
      "cell_type": "code",
      "source": [
        "# Get the value of third key\n",
        "\n",
        "d[list(d)[3]]"
      ],
      "metadata": {
        "colab": {
          "base_uri": "https://localhost:8080/"
        },
        "id": "8eOFunaKXNDy",
        "outputId": "311cb426-fe24-427b-8608-8f896a2854f2"
      },
      "execution_count": 51,
      "outputs": [
        {
          "output_type": "execute_result",
          "data": {
            "text/plain": [
              "4"
            ]
          },
          "metadata": {},
          "execution_count": 51
        }
      ]
    },
    {
      "cell_type": "markdown",
      "source": [
        "## Arrange dictionary by order of its KEYS"
      ],
      "metadata": {
        "id": "SotQtcEeagOl"
      }
    },
    {
      "cell_type": "code",
      "source": [
        "d"
      ],
      "metadata": {
        "colab": {
          "base_uri": "https://localhost:8080/"
        },
        "id": "rYBKC2ldZ9GI",
        "outputId": "ef84d3de-6101-42a9-898f-84bcfe195d76"
      },
      "execution_count": 54,
      "outputs": [
        {
          "output_type": "execute_result",
          "data": {
            "text/plain": [
              "{'a': 1, 'b': 5, 'c': 6, 'd': 4, 'e': 3}"
            ]
          },
          "metadata": {},
          "execution_count": 54
        }
      ]
    },
    {
      "cell_type": "code",
      "source": [
        "# itemgetter(n) - n is the order in tuple. Keys have number 0 and values 1\n",
        "\n",
        "sorted_d = sorted(d.items(), key = operator.itemgetter(0),reverse = True)\n",
        "sorted_d"
      ],
      "metadata": {
        "colab": {
          "base_uri": "https://localhost:8080/"
        },
        "id": "DxR9W1CGajXn",
        "outputId": "81fe8a27-cad1-481a-db3e-d28d5786991c"
      },
      "execution_count": 57,
      "outputs": [
        {
          "output_type": "execute_result",
          "data": {
            "text/plain": [
              "[('e', 3), ('d', 4), ('c', 6), ('b', 5), ('a', 1)]"
            ]
          },
          "metadata": {},
          "execution_count": 57
        }
      ]
    },
    {
      "cell_type": "markdown",
      "source": [
        "## Add a key value pair to dictionary"
      ],
      "metadata": {
        "id": "KrgJZWISgeYc"
      }
    },
    {
      "cell_type": "code",
      "source": [
        "d['f']=6\n",
        "d"
      ],
      "metadata": {
        "colab": {
          "base_uri": "https://localhost:8080/"
        },
        "id": "0RI56Sj3auzE",
        "outputId": "e152d290-a2c6-4cba-d252-d98f95e228b3"
      },
      "execution_count": 58,
      "outputs": [
        {
          "output_type": "execute_result",
          "data": {
            "text/plain": [
              "{'a': 1, 'b': 5, 'c': 6, 'd': 4, 'e': 3, 'f': 6}"
            ]
          },
          "metadata": {},
          "execution_count": 58
        }
      ]
    },
    {
      "cell_type": "markdown",
      "source": [
        "## Concatenate dictionaries into a single one"
      ],
      "metadata": {
        "id": "qHwSjE8kg4bt"
      }
    },
    {
      "cell_type": "code",
      "source": [
        "dic1={1:10, 2:20}\n",
        "dic2={3:30, 4:40}\n",
        "dic3={5:50,6:60}\n",
        "dic4 = {}\n",
        "for d in (dic1, dic2, dic3): dic4.update(d)\n",
        "print(dic4)"
      ],
      "metadata": {
        "colab": {
          "base_uri": "https://localhost:8080/"
        },
        "id": "U_ZmDmPogj8H",
        "outputId": "4771350a-65d3-4eca-c929-338d9ad80d95"
      },
      "execution_count": 2,
      "outputs": [
        {
          "output_type": "stream",
          "name": "stdout",
          "text": [
            "{1: 10, 2: 20, 3: 30, 4: 40, 5: 50, 6: 60}\n"
          ]
        }
      ]
    },
    {
      "cell_type": "code",
      "source": [
        "for d in (dic3,dic2,dic1): print(d)"
      ],
      "metadata": {
        "colab": {
          "base_uri": "https://localhost:8080/"
        },
        "id": "H6jGeWSvXF90",
        "outputId": "580d6416-a181-4b75-ae2b-b90f4ed23f0e"
      },
      "execution_count": 9,
      "outputs": [
        {
          "output_type": "stream",
          "name": "stdout",
          "text": [
            "{5: 50, 6: 60}\n",
            "{3: 30, 4: 40}\n",
            "{1: 10, 2: 20}\n"
          ]
        }
      ]
    },
    {
      "cell_type": "code",
      "source": [
        "print(list(d))"
      ],
      "metadata": {
        "colab": {
          "base_uri": "https://localhost:8080/"
        },
        "id": "NafD-izKXNkf",
        "outputId": "2e527ae2-2078-469d-b098-15a3fe63568d"
      },
      "execution_count": 10,
      "outputs": [
        {
          "output_type": "stream",
          "name": "stdout",
          "text": [
            "[1, 2]\n"
          ]
        }
      ]
    },
    {
      "cell_type": "markdown",
      "source": [
        "## Check if key in dictionary"
      ],
      "metadata": {
        "id": "qSBliO70iTNd"
      }
    },
    {
      "cell_type": "code",
      "source": [
        "x = int(input('Enter a number: '))\n",
        "if x in dic4:\n",
        "    print(x,'is valid and its value is',dic4[x])\n",
        "else:\n",
        "    print(x,'is invalid')"
      ],
      "metadata": {
        "colab": {
          "base_uri": "https://localhost:8080/"
        },
        "id": "1DXeLBWRhQ3I",
        "outputId": "e70419ce-3825-498f-b5a1-f05f63be6b26"
      },
      "execution_count": 64,
      "outputs": [
        {
          "output_type": "stream",
          "name": "stdout",
          "text": [
            "Enter a number: 6\n",
            "6 is valid and its value is 60\n"
          ]
        }
      ]
    },
    {
      "cell_type": "markdown",
      "source": [
        "## Create dictionary with keys 1 to 15 and values as square of keys"
      ],
      "metadata": {
        "id": "8qYxe0SVikaO"
      }
    },
    {
      "cell_type": "code",
      "source": [
        "dict1 = {}\n",
        "for x in range(1,16):\n",
        "    dict1[x] = x**2\n",
        "print(dict1)"
      ],
      "metadata": {
        "colab": {
          "base_uri": "https://localhost:8080/"
        },
        "id": "LO3aAWEphzUu",
        "outputId": "af85362b-4df5-4a7c-e12e-e97887a5d03a"
      },
      "execution_count": 1,
      "outputs": [
        {
          "output_type": "stream",
          "name": "stdout",
          "text": [
            "{1: 1, 2: 4, 3: 9, 4: 16, 5: 25, 6: 36, 7: 49, 8: 64, 9: 81, 10: 100, 11: 121, 12: 144, 13: 169, 14: 196, 15: 225}\n"
          ]
        }
      ]
    },
    {
      "cell_type": "code",
      "source": [
        "mydict = {}\n",
        "for x in range(1,16):mydict[x] = x**2\n",
        "print(mydict)"
      ],
      "metadata": {
        "colab": {
          "base_uri": "https://localhost:8080/"
        },
        "id": "w_iCxazsazK7",
        "outputId": "2a4d12ae-7e3a-467e-bc2e-47e15c991d64"
      },
      "execution_count": 21,
      "outputs": [
        {
          "output_type": "stream",
          "name": "stdout",
          "text": [
            "{1: 1, 2: 4, 3: 9, 4: 16, 5: 25, 6: 36, 7: 49, 8: 64, 9: 81, 10: 100, 11: 121, 12: 144, 13: 169, 14: 196, 15: 225}\n"
          ]
        }
      ]
    },
    {
      "cell_type": "code",
      "source": [
        "# Merge two dictionaries\n",
        "\n",
        "dic1.update(dic2)\n",
        "print(dic1)"
      ],
      "metadata": {
        "colab": {
          "base_uri": "https://localhost:8080/"
        },
        "id": "FgLdyuKtizpH",
        "outputId": "ce050033-6f85-4517-c530-b7edee3252cc"
      },
      "execution_count": 11,
      "outputs": [
        {
          "output_type": "stream",
          "name": "stdout",
          "text": [
            "{1: 10, 2: 20, 3: 30, 4: 40}\n"
          ]
        }
      ]
    },
    {
      "cell_type": "markdown",
      "source": [
        "## Operations on all items in a dictionary"
      ],
      "metadata": {
        "id": "w9IWOfwaYAYC"
      }
    },
    {
      "cell_type": "markdown",
      "source": [
        "### Sum all values in dictionary"
      ],
      "metadata": {
        "id": "Npzv8J3LZvIX"
      }
    },
    {
      "cell_type": "code",
      "source": [
        "my_dict = {'data1':100,'data2':-54,'data3':247}\n",
        "print(sum(my_dict.values()))"
      ],
      "metadata": {
        "colab": {
          "base_uri": "https://localhost:8080/"
        },
        "id": "GEYSOFcuXwv5",
        "outputId": "1d41f044-de1c-4812-c371-33d3a1bbdc1a"
      },
      "execution_count": 12,
      "outputs": [
        {
          "output_type": "stream",
          "name": "stdout",
          "text": [
            "293\n"
          ]
        }
      ]
    },
    {
      "cell_type": "markdown",
      "source": [
        "### Product of values in dictionary"
      ],
      "metadata": {
        "id": "OeOiJshWZmNR"
      }
    },
    {
      "cell_type": "code",
      "source": [
        "import numpy as np\n",
        "print(np.prod(list(my_dict.values())))"
      ],
      "metadata": {
        "colab": {
          "base_uri": "https://localhost:8080/"
        },
        "id": "Ixr-g2YfYDMQ",
        "outputId": "30c9ad65-8e2a-450d-ab10-582414928a54"
      },
      "execution_count": 18,
      "outputs": [
        {
          "output_type": "stream",
          "name": "stdout",
          "text": [
            "-1333800\n"
          ]
        }
      ]
    },
    {
      "cell_type": "markdown",
      "source": [
        "### Delete key value pair"
      ],
      "metadata": {
        "id": "lJk_LDj-aCki"
      }
    },
    {
      "cell_type": "code",
      "source": [
        "myDict = {'a':1,'b':2,'c':3,'d':4}\n",
        "print(myDict)\n",
        "del myDict['a']\n",
        "print(myDict)"
      ],
      "metadata": {
        "colab": {
          "base_uri": "https://localhost:8080/"
        },
        "id": "ugv6IL7zYJ3y",
        "outputId": "9e8a6018-db1a-46dd-c149-98f4ed4398ec"
      },
      "execution_count": 27,
      "outputs": [
        {
          "output_type": "stream",
          "name": "stdout",
          "text": [
            "{'a': 1, 'b': 2, 'c': 3, 'd': 4}\n",
            "{'b': 2, 'c': 3, 'd': 4}\n"
          ]
        }
      ]
    },
    {
      "cell_type": "markdown",
      "source": [
        "## Make two lists into a dictionary"
      ],
      "metadata": {
        "id": "7HnAdd0WaX4U"
      }
    },
    {
      "cell_type": "code",
      "source": [
        "keys = ['red', 'green', 'blue']\n",
        "values = ['#FF0000','#008000', '#0000FF']\n",
        "color_dictionary = dict(zip(keys, values))\n",
        "print(color_dictionary)"
      ],
      "metadata": {
        "colab": {
          "base_uri": "https://localhost:8080/"
        },
        "id": "814kDwHtaL1V",
        "outputId": "ce63df4c-92a1-4ef4-d8a9-f87a3436c2e1"
      },
      "execution_count": 20,
      "outputs": [
        {
          "output_type": "stream",
          "name": "stdout",
          "text": [
            "{'red': '#FF0000', 'green': '#008000', 'blue': '#0000FF'}\n"
          ]
        }
      ]
    },
    {
      "cell_type": "code",
      "source": [
        "color_dictionary = dict(zip(values, keys))\n",
        "print(color_dictionary)"
      ],
      "metadata": {
        "colab": {
          "base_uri": "https://localhost:8080/"
        },
        "id": "D8i-eGy7adKE",
        "outputId": "976d19b6-11a7-4e15-a90e-f38436f759bf"
      },
      "execution_count": 22,
      "outputs": [
        {
          "output_type": "stream",
          "name": "stdout",
          "text": [
            "{'#FF0000': 'red', '#008000': 'green', '#0000FF': 'blue'}\n"
          ]
        }
      ]
    },
    {
      "cell_type": "code",
      "source": [
        "# Get max value in dict\n",
        "\n",
        "max(myDict.values())"
      ],
      "metadata": {
        "colab": {
          "base_uri": "https://localhost:8080/"
        },
        "id": "4v-TzXmacDqm",
        "outputId": "d83fa93c-6366-438d-b7e2-20d8a68fd249"
      },
      "execution_count": 26,
      "outputs": [
        {
          "output_type": "execute_result",
          "data": {
            "text/plain": [
              "4"
            ]
          },
          "metadata": {},
          "execution_count": 26
        }
      ]
    },
    {
      "cell_type": "markdown",
      "source": [
        "## Get key for known value from dictionary\n",
        "\n",
        "The approach is to GET INDEX of required value of list of dict values and use that as index for list of dict keys."
      ],
      "metadata": {
        "id": "SwE8vtlJsaZ0"
      }
    },
    {
      "cell_type": "code",
      "source": [
        "print(list(myDict.keys())[list(myDict.values()).index(3)])"
      ],
      "metadata": {
        "colab": {
          "base_uri": "https://localhost:8080/"
        },
        "id": "0M8k01YbcPLq",
        "outputId": "3fa0cc1d-9314-4207-a6e4-15f87d81d171"
      },
      "execution_count": 29,
      "outputs": [
        {
          "output_type": "stream",
          "name": "stdout",
          "text": [
            "c\n"
          ]
        }
      ]
    },
    {
      "cell_type": "code",
      "source": [
        "# Get key with minimum value\n",
        "\n",
        "minval = min(list(myDict.values()))\n",
        "print(list(myDict.keys())[list(myDict.values()).index(minval)])"
      ],
      "metadata": {
        "colab": {
          "base_uri": "https://localhost:8080/"
        },
        "id": "EdxuQ1o0sy9l",
        "outputId": "81915b63-86c9-4a5a-9479-24655251b881"
      },
      "execution_count": 31,
      "outputs": [
        {
          "output_type": "stream",
          "name": "stdout",
          "text": [
            "b\n"
          ]
        }
      ]
    },
    {
      "cell_type": "markdown",
      "source": [
        "## Check if dictionary is empty\n",
        "\n",
        "Approach - get bool value of dictionary. If empty, it will pass False"
      ],
      "metadata": {
        "id": "Yn6cz1b8ux23"
      }
    },
    {
      "cell_type": "code",
      "source": [
        "bool(myDict)"
      ],
      "metadata": {
        "colab": {
          "base_uri": "https://localhost:8080/"
        },
        "id": "qKKSC0oOthAw",
        "outputId": "d7de416b-a991-42f6-8e6a-aacc5a0f5fe2"
      },
      "execution_count": 32,
      "outputs": [
        {
          "output_type": "execute_result",
          "data": {
            "text/plain": [
              "True"
            ]
          },
          "metadata": {},
          "execution_count": 32
        }
      ]
    },
    {
      "cell_type": "code",
      "source": [
        "empDict = {}\n",
        "bool(empDict)"
      ],
      "metadata": {
        "colab": {
          "base_uri": "https://localhost:8080/"
        },
        "id": "5bfd6g7ku4sz",
        "outputId": "660e870c-5c6e-4709-f0bd-4f691211f5b1"
      },
      "execution_count": 33,
      "outputs": [
        {
          "output_type": "execute_result",
          "data": {
            "text/plain": [
              "False"
            ]
          },
          "metadata": {},
          "execution_count": 33
        }
      ]
    },
    {
      "cell_type": "code",
      "source": [
        ""
      ],
      "metadata": {
        "id": "ccXktgqmu9l0"
      },
      "execution_count": null,
      "outputs": []
    },
    {
      "cell_type": "markdown",
      "source": [
        "## Check Dictionary for Duplicates\n",
        "\n",
        "Approach - Create a new dictionary individual pair wise while checking if element is already existing in the previously stored pairs."
      ],
      "metadata": {
        "id": "jMyIk0aovBPR"
      }
    },
    {
      "cell_type": "code",
      "source": [
        "myDict"
      ],
      "metadata": {
        "colab": {
          "base_uri": "https://localhost:8080/"
        },
        "id": "lJC4JYSGvzpK",
        "outputId": "7826ccb5-3c14-4a4c-9682-8b9c814754f8"
      },
      "execution_count": 34,
      "outputs": [
        {
          "output_type": "execute_result",
          "data": {
            "text/plain": [
              "{'b': 2, 'c': 3, 'd': 4}"
            ]
          },
          "metadata": {},
          "execution_count": 34
        }
      ]
    },
    {
      "cell_type": "code",
      "source": [
        "myDict['e']=2\n",
        "myDict['b'] = 2\n",
        "myDict['f'] = 4\n",
        "myDict['g'] = 3\n",
        "nonDupDict = {}\n",
        "for key, values in myDict.items():\n",
        "    if values not in nonDupDict.values(): # Check for duplicates in values; keys cannot be duplicated\n",
        "        nonDupDict[key]=values\n",
        "\n",
        "print('Dict with Duplicates',myDict)\n",
        "print('Dict without duplicates',nonDupDict)"
      ],
      "metadata": {
        "colab": {
          "base_uri": "https://localhost:8080/"
        },
        "id": "G4suBa6xv1Fy",
        "outputId": "ad130fbf-a6f9-4f19-f55b-a88b52277c6d"
      },
      "execution_count": 42,
      "outputs": [
        {
          "output_type": "stream",
          "name": "stdout",
          "text": [
            "Dict with Duplicates {'b': 2, 'c': 3, 'd': 4, 'e': 2, 'f': 4, 'g': 3}\n",
            "Dict without duplicates {'b': 2, 'c': 3, 'd': 4}\n"
          ]
        }
      ]
    },
    {
      "cell_type": "code",
      "source": [
        ""
      ],
      "metadata": {
        "id": "5Vkh7CUkwSc2"
      },
      "execution_count": null,
      "outputs": []
    }
  ]
}