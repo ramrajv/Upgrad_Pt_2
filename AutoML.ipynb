{
  "cells": [
    {
      "cell_type": "markdown",
      "metadata": {
        "id": "view-in-github",
        "colab_type": "text"
      },
      "source": [
        "<a href=\"https://colab.research.google.com/github/ramrajv/Upgrad_Pt_2/blob/main/AutoML.ipynb\" target=\"_parent\"><img src=\"https://colab.research.google.com/assets/colab-badge.svg\" alt=\"Open In Colab\"/></a>"
      ]
    },
    {
      "cell_type": "markdown",
      "metadata": {
        "id": "XUyj46TKQgki"
      },
      "source": [
        "# AutoML"
      ]
    },
    {
      "cell_type": "code",
      "source": [
        "# !pip install auto-sklearn"
      ],
      "metadata": {
        "id": "2ynH5-S2JsLm"
      },
      "execution_count": 1,
      "outputs": []
    },
    {
      "cell_type": "code",
      "source": [
        "# from autosklearn.experimental.askl2 import AutoSklearn2Classifier"
      ],
      "metadata": {
        "id": "uXa_WKQqLD5C"
      },
      "execution_count": 2,
      "outputs": []
    },
    {
      "cell_type": "code",
      "execution_count": 3,
      "metadata": {
        "collapsed": true,
        "id": "ABECLNp9Qgkk"
      },
      "outputs": [],
      "source": [
        "import pandas as pd\n",
        "import numpy as np\n",
        "from sklearn.model_selection import train_test_split\n",
        "from sklearn import metrics\n",
        "from sklearn.metrics import confusion_matrix\n",
        "from sklearn.model_selection import KFold\n",
        "from sklearn.model_selection import cross_val_score\n",
        "from sklearn.model_selection import GridSearchCV\n",
        "import matplotlib.pyplot as plt\n",
        "import seaborn as sns\n",
        "from sklearn.preprocessing import scale"
      ]
    },
    {
      "cell_type": "code",
      "source": [
        "import autosklearn.classification\n",
        "import sklearn.model_selection\n",
        "import sklearn.datasets\n",
        "import sklearn.metrics"
      ],
      "metadata": {
        "id": "eImNpKF7LsK6"
      },
      "execution_count": 4,
      "outputs": []
    },
    {
      "cell_type": "markdown",
      "metadata": {
        "id": "J190yqE7Qgkl"
      },
      "source": [
        "**Loading Data**"
      ]
    },
    {
      "cell_type": "code",
      "execution_count": 5,
      "metadata": {
        "collapsed": true,
        "id": "4s0T8XapQgkl"
      },
      "outputs": [],
      "source": [
        "url = 'https://raw.githubusercontent.com/ramrajv/SVM/main/Spam.csv'\n",
        "email_rec = pd.read_csv(url,  sep = ',')"
      ]
    },
    {
      "cell_type": "markdown",
      "metadata": {
        "id": "FOHDbKLBQgkl"
      },
      "source": [
        "## Data Preparation"
      ]
    },
    {
      "cell_type": "code",
      "execution_count": 6,
      "metadata": {
        "id": "V4hn9-gXQgkm"
      },
      "outputs": [],
      "source": [
        "# splitting into X and y\n",
        "X = email_rec.drop(\"spam\", axis = 1)\n",
        "y = email_rec.spam.values.astype(int)"
      ]
    },
    {
      "cell_type": "code",
      "source": [
        "if __name__ == \"__main__\":\n",
        "    # X, y = sklearn.datasets.load_digits(return_X_y=True)\n",
        "    X_train, X_test, y_train, y_test = \\\n",
        "        sklearn.model_selection.train_test_split(X, y, random_state=1)\n",
        "    automl = autosklearn.classification.AutoSklearnClassifier()\n",
        "    automl.fit(X_train, y_train)\n",
        "    y_hat = automl.predict(X_test)\n",
        "    print(\"Accuracy score\", sklearn.metrics.accuracy_score(y_test, y_hat))"
      ],
      "metadata": {
        "id": "MAkvKrDDLx6b",
        "outputId": "06951257-ecd6-4021-9339-4d9b442b97a5",
        "colab": {
          "base_uri": "https://localhost:8080/"
        }
      },
      "execution_count": 7,
      "outputs": [
        {
          "output_type": "stream",
          "name": "stdout",
          "text": [
            "Accuracy score 0.9635099913119027\n"
          ]
        }
      ]
    },
    {
      "cell_type": "code",
      "source": [
        "automl.show_models()"
      ],
      "metadata": {
        "id": "eufzBrHhMU9n",
        "outputId": "80dc4985-2a7f-4811-f687-dd545a87ef54",
        "colab": {
          "base_uri": "https://localhost:8080/"
        }
      },
      "execution_count": 11,
      "outputs": [
        {
          "output_type": "execute_result",
          "data": {
            "text/plain": [
              "{2: {'balancing': Balancing(random_state=1),\n",
              "  'classifier': <autosklearn.pipeline.components.classification.ClassifierChoice at 0x7fcec3bf8a50>,\n",
              "  'cost': 0.05531167690956984,\n",
              "  'data_preprocessor': <autosklearn.pipeline.components.data_preprocessing.DataPreprocessorChoice at 0x7fcec2277690>,\n",
              "  'ensemble_weight': 0.02,\n",
              "  'feature_preprocessor': <autosklearn.pipeline.components.feature_preprocessing.FeaturePreprocessorChoice at 0x7fcec3bffd90>,\n",
              "  'model_id': 2,\n",
              "  'rank': 10,\n",
              "  'sklearn_classifier': RandomForestClassifier(max_features=7, n_estimators=512, n_jobs=1,\n",
              "                         random_state=1, warm_start=True)},\n",
              " 6: {'balancing': Balancing(random_state=1, strategy='weighting'),\n",
              "  'classifier': <autosklearn.pipeline.components.classification.ClassifierChoice at 0x7fcebfed0d50>,\n",
              "  'cost': 0.06584723441615448,\n",
              "  'data_preprocessor': <autosklearn.pipeline.components.data_preprocessing.DataPreprocessorChoice at 0x7fcec007c090>,\n",
              "  'ensemble_weight': 0.02,\n",
              "  'feature_preprocessor': <autosklearn.pipeline.components.feature_preprocessing.FeaturePreprocessorChoice at 0x7fcebfed0190>,\n",
              "  'model_id': 6,\n",
              "  'rank': 15,\n",
              "  'sklearn_classifier': MLPClassifier(alpha=0.0017940473175767063, beta_1=0.999, beta_2=0.9,\n",
              "                early_stopping=True, hidden_layer_sizes=(101, 101),\n",
              "                learning_rate_init=0.0004684917334431039, max_iter=64,\n",
              "                n_iter_no_change=32, random_state=1, verbose=0, warm_start=True)},\n",
              " 9: {'balancing': Balancing(random_state=1, strategy='weighting'),\n",
              "  'classifier': <autosklearn.pipeline.components.classification.ClassifierChoice at 0x7fcec2039cd0>,\n",
              "  'cost': 0.05179982440737485,\n",
              "  'data_preprocessor': <autosklearn.pipeline.components.data_preprocessing.DataPreprocessorChoice at 0x7fcec3907390>,\n",
              "  'ensemble_weight': 0.02,\n",
              "  'feature_preprocessor': <autosklearn.pipeline.components.feature_preprocessing.FeaturePreprocessorChoice at 0x7fcec2039950>,\n",
              "  'model_id': 9,\n",
              "  'rank': 7,\n",
              "  'sklearn_classifier': ExtraTreesClassifier(criterion='entropy', max_features=1579, min_samples_leaf=2,\n",
              "                       min_samples_split=20, n_estimators=512, n_jobs=1,\n",
              "                       random_state=1, warm_start=True)},\n",
              " 10: {'balancing': Balancing(random_state=1),\n",
              "  'classifier': <autosklearn.pipeline.components.classification.ClassifierChoice at 0x7fcebfef2890>,\n",
              "  'cost': 0.06584723441615448,\n",
              "  'data_preprocessor': <autosklearn.pipeline.components.data_preprocessing.DataPreprocessorChoice at 0x7fcebfecf790>,\n",
              "  'ensemble_weight': 0.04,\n",
              "  'feature_preprocessor': <autosklearn.pipeline.components.feature_preprocessing.FeaturePreprocessorChoice at 0x7fcebfef29d0>,\n",
              "  'model_id': 10,\n",
              "  'rank': 16,\n",
              "  'sklearn_classifier': MLPClassifier(activation='tanh', alpha=0.0001363185819149026, beta_1=0.999,\n",
              "                beta_2=0.9, early_stopping=True,\n",
              "                hidden_layer_sizes=(115, 115, 115),\n",
              "                learning_rate_init=0.00018009776276177523, max_iter=32,\n",
              "                n_iter_no_change=32, random_state=1, verbose=0, warm_start=True)},\n",
              " 15: {'balancing': Balancing(random_state=1, strategy='weighting'),\n",
              "  'classifier': <autosklearn.pipeline.components.classification.ClassifierChoice at 0x7fcebf7ac6d0>,\n",
              "  'cost': 0.06935908691834947,\n",
              "  'data_preprocessor': <autosklearn.pipeline.components.data_preprocessing.DataPreprocessorChoice at 0x7fcebfef07d0>,\n",
              "  'ensemble_weight': 0.04,\n",
              "  'feature_preprocessor': <autosklearn.pipeline.components.feature_preprocessing.FeaturePreprocessorChoice at 0x7fcebfaef550>,\n",
              "  'model_id': 15,\n",
              "  'rank': 17,\n",
              "  'sklearn_classifier': MLPClassifier(alpha=0.003989533567739603, beta_1=0.999, beta_2=0.9,\n",
              "                early_stopping=True, hidden_layer_sizes=(264, 264),\n",
              "                learning_rate_init=0.0009934511776384044, max_iter=32,\n",
              "                n_iter_no_change=32, random_state=1, verbose=0, warm_start=True)},\n",
              " 17: {'balancing': Balancing(random_state=1),\n",
              "  'classifier': <autosklearn.pipeline.components.classification.ClassifierChoice at 0x7fcebf197390>,\n",
              "  'cost': 0.0860403863037752,\n",
              "  'data_preprocessor': <autosklearn.pipeline.components.data_preprocessing.DataPreprocessorChoice at 0x7fcebfaef890>,\n",
              "  'ensemble_weight': 0.12,\n",
              "  'feature_preprocessor': <autosklearn.pipeline.components.feature_preprocessing.FeaturePreprocessorChoice at 0x7fcebf7393d0>,\n",
              "  'model_id': 17,\n",
              "  'rank': 18,\n",
              "  'sklearn_classifier': AdaBoostClassifier(algorithm='SAMME',\n",
              "                     base_estimator=DecisionTreeClassifier(max_depth=2),\n",
              "                     learning_rate=0.13167493237005792, n_estimators=56,\n",
              "                     random_state=1)},\n",
              " 39: {'balancing': Balancing(random_state=1, strategy='weighting'),\n",
              "  'classifier': <autosklearn.pipeline.components.classification.ClassifierChoice at 0x7fcec1c4a550>,\n",
              "  'cost': 0.052677787532923626,\n",
              "  'data_preprocessor': <autosklearn.pipeline.components.data_preprocessing.DataPreprocessorChoice at 0x7fcec3cace90>,\n",
              "  'ensemble_weight': 0.08,\n",
              "  'feature_preprocessor': <autosklearn.pipeline.components.feature_preprocessing.FeaturePreprocessorChoice at 0x7fcec3b44ad0>,\n",
              "  'model_id': 39,\n",
              "  'rank': 8,\n",
              "  'sklearn_classifier': AdaBoostClassifier(algorithm='SAMME',\n",
              "                     base_estimator=DecisionTreeClassifier(max_depth=6),\n",
              "                     learning_rate=0.19662376304744808, n_estimators=91,\n",
              "                     random_state=1)},\n",
              " 40: {'balancing': Balancing(random_state=1, strategy='weighting'),\n",
              "  'classifier': <autosklearn.pipeline.components.classification.ClassifierChoice at 0x7fcebfea5150>,\n",
              "  'cost': 0.06496927129060581,\n",
              "  'data_preprocessor': <autosklearn.pipeline.components.data_preprocessing.DataPreprocessorChoice at 0x7fcec2243510>,\n",
              "  'ensemble_weight': 0.02,\n",
              "  'feature_preprocessor': <autosklearn.pipeline.components.feature_preprocessing.FeaturePreprocessorChoice at 0x7fcebfea5050>,\n",
              "  'model_id': 40,\n",
              "  'rank': 14,\n",
              "  'sklearn_classifier': ExtraTreesClassifier(bootstrap=True, max_features=25, min_samples_leaf=8,\n",
              "                       min_samples_split=6, n_estimators=512, n_jobs=1,\n",
              "                       random_state=1, warm_start=True)},\n",
              " 46: {'balancing': Balancing(random_state=1),\n",
              "  'classifier': <autosklearn.pipeline.components.classification.ClassifierChoice at 0x7fcec3b7ce90>,\n",
              "  'cost': 0.043020193151887653,\n",
              "  'data_preprocessor': <autosklearn.pipeline.components.data_preprocessing.DataPreprocessorChoice at 0x7fcec3c289d0>,\n",
              "  'ensemble_weight': 0.14,\n",
              "  'feature_preprocessor': <autosklearn.pipeline.components.feature_preprocessing.FeaturePreprocessorChoice at 0x7fcec3b7cdd0>,\n",
              "  'model_id': 46,\n",
              "  'rank': 2,\n",
              "  'sklearn_classifier': HistGradientBoostingClassifier(early_stopping=True,\n",
              "                                 l2_regularization=0.0015789124052297426,\n",
              "                                 learning_rate=0.1533368494872183, max_iter=256,\n",
              "                                 max_leaf_nodes=48, min_samples_leaf=3,\n",
              "                                 n_iter_no_change=2, random_state=1,\n",
              "                                 validation_fraction=None, warm_start=True)},\n",
              " 47: {'balancing': Balancing(random_state=1, strategy='weighting'),\n",
              "  'classifier': <autosklearn.pipeline.components.classification.ClassifierChoice at 0x7fcec227c150>,\n",
              "  'cost': 0.052677787532923626,\n",
              "  'data_preprocessor': <autosklearn.pipeline.components.data_preprocessing.DataPreprocessorChoice at 0x7fcec203dad0>,\n",
              "  'ensemble_weight': 0.14,\n",
              "  'feature_preprocessor': <autosklearn.pipeline.components.feature_preprocessing.FeaturePreprocessorChoice at 0x7fcec2279110>,\n",
              "  'model_id': 47,\n",
              "  'rank': 9,\n",
              "  'sklearn_classifier': AdaBoostClassifier(algorithm='SAMME',\n",
              "                     base_estimator=DecisionTreeClassifier(max_depth=7),\n",
              "                     learning_rate=0.2925425978964883, n_estimators=239,\n",
              "                     random_state=1)},\n",
              " 59: {'balancing': Balancing(random_state=1, strategy='weighting'),\n",
              "  'classifier': <autosklearn.pipeline.components.classification.ClassifierChoice at 0x7fcec007f2d0>,\n",
              "  'cost': 0.05706760316066728,\n",
              "  'data_preprocessor': <autosklearn.pipeline.components.data_preprocessing.DataPreprocessorChoice at 0x7fcec221e090>,\n",
              "  'ensemble_weight': 0.02,\n",
              "  'feature_preprocessor': <autosklearn.pipeline.components.feature_preprocessing.FeaturePreprocessorChoice at 0x7fcec3aee350>,\n",
              "  'model_id': 59,\n",
              "  'rank': 12,\n",
              "  'sklearn_classifier': RandomForestClassifier(criterion='entropy', max_features=10,\n",
              "                         min_samples_split=18, n_estimators=512, n_jobs=1,\n",
              "                         random_state=1, warm_start=True)},\n",
              " 64: {'balancing': Balancing(random_state=1),\n",
              "  'classifier': <autosklearn.pipeline.components.classification.ClassifierChoice at 0x7fcec3907910>,\n",
              "  'cost': 0.050921861281826186,\n",
              "  'data_preprocessor': <autosklearn.pipeline.components.data_preprocessing.DataPreprocessorChoice at 0x7fcec3c03790>,\n",
              "  'ensemble_weight': 0.06,\n",
              "  'feature_preprocessor': <autosklearn.pipeline.components.feature_preprocessing.FeaturePreprocessorChoice at 0x7fcec3907510>,\n",
              "  'model_id': 64,\n",
              "  'rank': 6,\n",
              "  'sklearn_classifier': HistGradientBoostingClassifier(early_stopping=True,\n",
              "                                 l2_regularization=2.3594954683493384e-07,\n",
              "                                 learning_rate=0.022086981519430053, max_iter=512,\n",
              "                                 max_leaf_nodes=34, min_samples_leaf=47,\n",
              "                                 n_iter_no_change=2, random_state=1,\n",
              "                                 validation_fraction=None, warm_start=True)},\n",
              " 68: {'balancing': Balancing(random_state=1),\n",
              "  'classifier': <autosklearn.pipeline.components.classification.ClassifierChoice at 0x7fcec3d85450>,\n",
              "  'cost': 0.04653204565408253,\n",
              "  'data_preprocessor': <autosklearn.pipeline.components.data_preprocessing.DataPreprocessorChoice at 0x7fcec39dec50>,\n",
              "  'ensemble_weight': 0.12,\n",
              "  'feature_preprocessor': <autosklearn.pipeline.components.feature_preprocessing.FeaturePreprocessorChoice at 0x7fcec3d859d0>,\n",
              "  'model_id': 68,\n",
              "  'rank': 4,\n",
              "  'sklearn_classifier': HistGradientBoostingClassifier(early_stopping=True,\n",
              "                                 l2_regularization=4.046320987312207e-06,\n",
              "                                 learning_rate=0.014332462911050286, max_iter=512,\n",
              "                                 max_leaf_nodes=300, min_samples_leaf=148,\n",
              "                                 n_iter_no_change=12, random_state=1,\n",
              "                                 validation_fraction=None, warm_start=True)},\n",
              " 70: {'balancing': Balancing(random_state=1),\n",
              "  'classifier': <autosklearn.pipeline.components.classification.ClassifierChoice at 0x7fcec38d7b10>,\n",
              "  'cost': 0.04389815627743632,\n",
              "  'data_preprocessor': <autosklearn.pipeline.components.data_preprocessing.DataPreprocessorChoice at 0x7fcec38fd110>,\n",
              "  'ensemble_weight': 0.02,\n",
              "  'feature_preprocessor': <autosklearn.pipeline.components.feature_preprocessing.FeaturePreprocessorChoice at 0x7fcec38d7750>,\n",
              "  'model_id': 70,\n",
              "  'rank': 3,\n",
              "  'sklearn_classifier': HistGradientBoostingClassifier(early_stopping=True,\n",
              "                                 l2_regularization=0.0020034911521251333,\n",
              "                                 learning_rate=0.17954189325696604, max_iter=512,\n",
              "                                 max_leaf_nodes=229, min_samples_leaf=161,\n",
              "                                 n_iter_no_change=3, random_state=1,\n",
              "                                 validation_fraction=None, warm_start=True)},\n",
              " 74: {'balancing': Balancing(random_state=1),\n",
              "  'classifier': <autosklearn.pipeline.components.classification.ClassifierChoice at 0x7fcec3c0f950>,\n",
              "  'cost': 0.04916593503072875,\n",
              "  'data_preprocessor': <autosklearn.pipeline.components.data_preprocessing.DataPreprocessorChoice at 0x7fcec3b43690>,\n",
              "  'ensemble_weight': 0.02,\n",
              "  'feature_preprocessor': <autosklearn.pipeline.components.feature_preprocessing.FeaturePreprocessorChoice at 0x7fcec3c0f550>,\n",
              "  'model_id': 74,\n",
              "  'rank': 5,\n",
              "  'sklearn_classifier': HistGradientBoostingClassifier(early_stopping=True,\n",
              "                                 l2_regularization=0.002325809046898621,\n",
              "                                 learning_rate=0.2301766743672928, max_iter=32,\n",
              "                                 max_leaf_nodes=283, min_samples_leaf=40,\n",
              "                                 n_iter_no_change=1, random_state=1,\n",
              "                                 validation_fraction=0.14673850258851107,\n",
              "                                 warm_start=True)},\n",
              " 81: {'balancing': Balancing(random_state=1, strategy='weighting'),\n",
              "  'classifier': <autosklearn.pipeline.components.classification.ClassifierChoice at 0x7fcec38a2f50>,\n",
              "  'cost': 0.06057945566286216,\n",
              "  'data_preprocessor': <autosklearn.pipeline.components.data_preprocessing.DataPreprocessorChoice at 0x7fcec00e5650>,\n",
              "  'ensemble_weight': 0.04,\n",
              "  'feature_preprocessor': <autosklearn.pipeline.components.feature_preprocessing.FeaturePreprocessorChoice at 0x7fcec389fc50>,\n",
              "  'model_id': 81,\n",
              "  'rank': 13,\n",
              "  'sklearn_classifier': SGDClassifier(alpha=0.019644260792786545, average=True,\n",
              "                epsilon=2.2517042569541626e-05, eta0=0.01, loss='modified_huber',\n",
              "                max_iter=64, random_state=1, tol=3.92693249027809e-05,\n",
              "                warm_start=True)},\n",
              " 85: {'balancing': Balancing(random_state=1, strategy='weighting'),\n",
              "  'classifier': <autosklearn.pipeline.components.classification.ClassifierChoice at 0x7fcec3cb5810>,\n",
              "  'cost': 0.04214223002633888,\n",
              "  'data_preprocessor': <autosklearn.pipeline.components.data_preprocessing.DataPreprocessorChoice at 0x7fcec38fa950>,\n",
              "  'ensemble_weight': 0.06,\n",
              "  'feature_preprocessor': <autosklearn.pipeline.components.feature_preprocessing.FeaturePreprocessorChoice at 0x7fcec3cb5f90>,\n",
              "  'model_id': 85,\n",
              "  'rank': 1,\n",
              "  'sklearn_classifier': HistGradientBoostingClassifier(early_stopping=True,\n",
              "                                 l2_regularization=0.00370604658220403,\n",
              "                                 learning_rate=0.17348322799906363, max_iter=512,\n",
              "                                 max_leaf_nodes=35, min_samples_leaf=78,\n",
              "                                 n_iter_no_change=12, random_state=1,\n",
              "                                 validation_fraction=None, warm_start=True)},\n",
              " 86: {'balancing': Balancing(random_state=1, strategy='weighting'),\n",
              "  'classifier': <autosklearn.pipeline.components.classification.ClassifierChoice at 0x7fcec2221550>,\n",
              "  'cost': 0.05531167690956984,\n",
              "  'data_preprocessor': <autosklearn.pipeline.components.data_preprocessing.DataPreprocessorChoice at 0x7fcec1c0bdd0>,\n",
              "  'ensemble_weight': 0.02,\n",
              "  'feature_preprocessor': <autosklearn.pipeline.components.feature_preprocessing.FeaturePreprocessorChoice at 0x7fcec2221810>,\n",
              "  'model_id': 86,\n",
              "  'rank': 11,\n",
              "  'sklearn_classifier': RandomForestClassifier(bootstrap=False, max_features=5, min_samples_split=7,\n",
              "                         n_estimators=512, n_jobs=1, random_state=1,\n",
              "                         warm_start=True)}}"
            ]
          },
          "metadata": {},
          "execution_count": 11
        }
      ]
    },
    {
      "cell_type": "code",
      "source": [
        ""
      ],
      "metadata": {
        "id": "p-xjgzQvMU6W"
      },
      "execution_count": null,
      "outputs": []
    },
    {
      "cell_type": "code",
      "source": [
        ""
      ],
      "metadata": {
        "id": "L77FVC0qMU3R"
      },
      "execution_count": null,
      "outputs": []
    },
    {
      "cell_type": "code",
      "source": [
        ""
      ],
      "metadata": {
        "id": "6FqVVYgWMU0T"
      },
      "execution_count": null,
      "outputs": []
    },
    {
      "cell_type": "code",
      "source": [
        ""
      ],
      "metadata": {
        "id": "klWiuRIBMUxI"
      },
      "execution_count": null,
      "outputs": []
    },
    {
      "cell_type": "code",
      "source": [
        ""
      ],
      "metadata": {
        "id": "5hdltE8lMUtx"
      },
      "execution_count": null,
      "outputs": []
    },
    {
      "cell_type": "code",
      "source": [
        ""
      ],
      "metadata": {
        "id": "QRJOvFAxMUnm"
      },
      "execution_count": null,
      "outputs": []
    },
    {
      "cell_type": "code",
      "source": [
        ""
      ],
      "metadata": {
        "id": "wfrfxCNgMUel"
      },
      "execution_count": null,
      "outputs": []
    },
    {
      "cell_type": "code",
      "execution_count": 4,
      "metadata": {
        "collapsed": true,
        "id": "4vFxao6UQgkm"
      },
      "outputs": [],
      "source": [
        "# scaling the features\n",
        "X_scaled = scale(X)\n",
        "\n",
        "# train test split\n",
        "X_train, X_test, y_train, y_test = train_test_split(X_scaled, y, test_size = 0.3, random_state = 4)"
      ]
    },
    {
      "cell_type": "code",
      "source": [
        "X.columns"
      ],
      "metadata": {
        "id": "0bAvnD1LQ25C",
        "outputId": "cb0385ef-6665-4283-e0ff-27b5942d949a",
        "colab": {
          "base_uri": "https://localhost:8080/"
        }
      },
      "execution_count": 5,
      "outputs": [
        {
          "output_type": "execute_result",
          "data": {
            "text/plain": [
              "Index(['word_freq_make', 'word_freq_address', 'word_freq_all', 'word_freq_3d',\n",
              "       'word_freq_our', 'word_freq_over', 'word_freq_remove',\n",
              "       'word_freq_internet', 'word_freq_order', 'word_freq_mail',\n",
              "       'word_freq_receive', 'word_freq_will', 'word_freq_people',\n",
              "       'word_freq_report', 'word_freq_addresses', 'word_freq_free',\n",
              "       'word_freq_business', 'word_freq_email', 'word_freq_you',\n",
              "       'word_freq_credit', 'word_freq_your', 'word_freq_font', 'word_freq_000',\n",
              "       'word_freq_money', 'word_freq_hp', 'word_freq_hpl', 'word_freq_george',\n",
              "       'word_freq_650', 'word_freq_lab', 'word_freq_labs', 'word_freq_telnet',\n",
              "       'word_freq_857', 'word_freq_data', 'word_freq_415', 'word_freq_85',\n",
              "       'word_freq_technology', 'word_freq_1999', 'word_freq_parts',\n",
              "       'word_freq_pm', 'word_freq_direct', 'word_freq_cs', 'word_freq_meeting',\n",
              "       'word_freq_original', 'word_freq_project', 'word_freq_re',\n",
              "       'word_freq_edu', 'word_freq_table', 'word_freq_conference',\n",
              "       'char_freq_;', 'char_freq_(', 'char_freq_[', 'char_freq_!',\n",
              "       'char_freq_$', 'char_freq_hash', 'capital_run_length_average',\n",
              "       'capital_run_length_longest', 'capital_run_length_total'],\n",
              "      dtype='object')"
            ]
          },
          "metadata": {},
          "execution_count": 5
        }
      ]
    },
    {
      "cell_type": "markdown",
      "source": [
        "## Perform PCA"
      ],
      "metadata": {
        "id": "S_N1Pow_ROyB"
      }
    },
    {
      "cell_type": "code",
      "source": [
        "# performing preprocessing part\n",
        "from sklearn.preprocessing import StandardScaler\n",
        "sc = StandardScaler()\n",
        " \n",
        "X_train_pca = sc.fit_transform(X_train)\n",
        "X_test_pca = sc.transform(X_test)"
      ],
      "metadata": {
        "id": "wuMu6qQhQ_OA"
      },
      "execution_count": 6,
      "outputs": []
    },
    {
      "cell_type": "code",
      "source": [
        "# Applying PCA function on training\n",
        "# and testing set of X component\n",
        "from sklearn.decomposition import PCA\n",
        "\n",
        "pca = PCA(n_components = 2)\n",
        "\n",
        "X_train_pca = pca.fit_transform(X_train_pca)\n",
        "X_test_pca = pca.transform(X_test_pca)\n",
        "\n",
        "explained_variance = pca.explained_variance_ratio_"
      ],
      "metadata": {
        "id": "oi0A2h24RZQ3"
      },
      "execution_count": 7,
      "outputs": []
    },
    {
      "cell_type": "code",
      "source": [
        "# Fitting Logistic Regression To the training set\n",
        "from sklearn.linear_model import LogisticRegression\n",
        "\n",
        "classifier = LogisticRegression(random_state = 0)\n",
        "classifier.fit(X_train_pca, y_train)"
      ],
      "metadata": {
        "id": "8PJUk3ttSCnv",
        "outputId": "9e91008b-19f0-4113-f6ab-136e68020870",
        "colab": {
          "base_uri": "https://localhost:8080/"
        }
      },
      "execution_count": 8,
      "outputs": [
        {
          "output_type": "execute_result",
          "data": {
            "text/plain": [
              "LogisticRegression(random_state=0)"
            ]
          },
          "metadata": {},
          "execution_count": 8
        }
      ]
    },
    {
      "cell_type": "code",
      "source": [
        "# Predicting the training set\n",
        "# result through scatter plot\n",
        "from matplotlib.colors import ListedColormap\n",
        "\n",
        "X_set, y_set = X_train_pca, y_train\n",
        "X1, X2 = np.meshgrid(np.arange(start = X_set[:, 0].min() - 1,\n",
        "\t\t\t\t\tstop = X_set[:, 0].max() + 1, step = 0.01),\n",
        "\t\t\t\t\tnp.arange(start = X_set[:, 1].min() - 1,\n",
        "\t\t\t\t\tstop = X_set[:, 1].max() + 1, step = 0.01))\n",
        "\n",
        "plt.contourf(X1, X2, classifier.predict(np.array([X1.ravel(),\n",
        "\t\t\tX2.ravel()]).T).reshape(X1.shape), alpha = 0.75,\n",
        "\t\t\tcmap = ListedColormap(('yellow', 'white', 'aquamarine')))\n",
        "\n",
        "plt.xlim(X1.min(), X1.max())\n",
        "plt.ylim(X2.min(), X2.max())\n",
        "\n",
        "for i, j in enumerate(np.unique(y_set)):\n",
        "\tplt.scatter(X_set[y_set == j, 0], X_set[y_set == j, 1],\n",
        "\t\t\t\tc = ListedColormap(('red', 'green', 'blue'))(i), label = j)\n",
        "\n",
        "plt.title('Logistic Regression (Training set)')\n",
        "plt.xlabel('PC1') # for Xlabel\n",
        "plt.ylabel('PC2') # for Ylabel\n",
        "plt.legend() # to show legend\n",
        "\n",
        "# show scatter plot\n",
        "plt.show()\n"
      ],
      "metadata": {
        "id": "QmFBnmFXRl-5",
        "outputId": "15192cf7-ad80-4281-f432-093d5305251b",
        "colab": {
          "base_uri": "https://localhost:8080/",
          "height": 350
        }
      },
      "execution_count": 9,
      "outputs": [
        {
          "output_type": "stream",
          "name": "stderr",
          "text": [
            "*c* argument looks like a single numeric RGB or RGBA sequence, which should be avoided as value-mapping will have precedence in case its length matches with *x* & *y*.  Please use the *color* keyword-argument or provide a 2-D array with a single row if you intend to specify the same RGB or RGBA value for all points.\n",
            "*c* argument looks like a single numeric RGB or RGBA sequence, which should be avoided as value-mapping will have precedence in case its length matches with *x* & *y*.  Please use the *color* keyword-argument or provide a 2-D array with a single row if you intend to specify the same RGB or RGBA value for all points.\n"
          ]
        },
        {
          "output_type": "display_data",
          "data": {
            "text/plain": [
              "<Figure size 432x288 with 1 Axes>"
            ],
            "image/png": "[encoded data removed]"
          },
          "metadata": {
            "needs_background": "light"
          }
        }
      ]
    },
    {
      "cell_type": "markdown",
      "metadata": {
        "id": "yYThzH2ZQgkn"
      },
      "source": [
        "## Model Building"
      ]
    },
    {
      "cell_type": "code",
      "execution_count": 18,
      "metadata": {
        "collapsed": true,
        "id": "Y5vZqhEuQgkn"
      },
      "outputs": [],
      "source": [
        "# using rbf kernel, C=1, default value of gamma\n",
        "\n",
        "model = SVC(C = 1, kernel='linear')\n",
        "model.fit(X_train, y_train)\n",
        "y_pred = model.predict(X_test)"
      ]
    },
    {
      "cell_type": "markdown",
      "metadata": {
        "id": "VVxj5cM7Qgko"
      },
      "source": [
        "## Model Evaluation Metrics"
      ]
    },
    {
      "cell_type": "code",
      "execution_count": 19,
      "metadata": {
        "id": "38WTETjgQgko",
        "outputId": "12ebf174-db70-485f-d014-6b13b21513d5",
        "colab": {
          "base_uri": "https://localhost:8080/"
        }
      },
      "outputs": [
        {
          "output_type": "execute_result",
          "data": {
            "text/plain": [
              "array([[807,  42],\n",
              "       [ 57, 475]])"
            ]
          },
          "metadata": {},
          "execution_count": 19
        }
      ],
      "source": [
        "# confusion matrix\n",
        "confusion_matrix(y_true=y_test, y_pred=y_pred)"
      ]
    },
    {
      "cell_type": "code",
      "execution_count": 20,
      "metadata": {
        "id": "6lRY5A8pQgkp",
        "outputId": "b5681815-c637-464a-e060-f1b15b4b537e",
        "colab": {
          "base_uri": "https://localhost:8080/"
        }
      },
      "outputs": [
        {
          "output_type": "stream",
          "name": "stdout",
          "text": [
            "accuracy 0.9283128167994207\n",
            "precision 0.9187620889748549\n",
            "recall 0.8928571428571429\n"
          ]
        }
      ],
      "source": [
        "# accuracy\n",
        "print(\"accuracy\", metrics.accuracy_score(y_test, y_pred))\n",
        "\n",
        "# precision\n",
        "print(\"precision\", metrics.precision_score(y_test, y_pred))\n",
        "\n",
        "# recall/sensitivity\n",
        "print(\"recall\", metrics.recall_score(y_test, y_pred))"
      ]
    },
    {
      "cell_type": "markdown",
      "metadata": {
        "id": "yC7G5z5WQgkp"
      },
      "source": [
        "## Hyperparameter Tuning \n",
        "\n",
        "Now, we have multiple hyperparameters to optimise - \n",
        "- The choice of kernel (linear, rbf etc.)\n",
        "- C\n",
        "- gamma\n",
        "\n",
        "We'll use the ```GridSearchCV()``` method to tune the hyperparameters. "
      ]
    },
    {
      "cell_type": "markdown",
      "metadata": {
        "id": "PLjwhICRQgkp"
      },
      "source": [
        "## Grid Search to Find Optimal Hyperparameters\n",
        "\n",
        "Let's first use the RBF kernel to find the optimal C and gamma (we can consider the kernel as a hyperparameter as well, though training the model will take an exorbitant amount of time). "
      ]
    },
    {
      "cell_type": "code",
      "execution_count": 13,
      "metadata": {
        "id": "DfSALUhuQgkp",
        "outputId": "64df3ebb-3fba-484c-a582-b7f5773ec5d0",
        "colab": {
          "base_uri": "https://localhost:8080/"
        }
      },
      "outputs": [
        {
          "output_type": "stream",
          "name": "stdout",
          "text": [
            "Fitting 5 folds for each of 12 candidates, totalling 60 fits\n"
          ]
        },
        {
          "output_type": "execute_result",
          "data": {
            "text/plain": [
              "GridSearchCV(cv=KFold(n_splits=5, random_state=4, shuffle=True),\n",
              "             estimator=SVC(),\n",
              "             param_grid=[{'C': [1, 10, 100, 1000],\n",
              "                          'gamma': [0.01, 0.001, 0.0001]}],\n",
              "             return_train_score=True, scoring='accuracy', verbose=1)"
            ]
          },
          "metadata": {},
          "execution_count": 13
        }
      ],
      "source": [
        "# creating a KFold object with 5 splits \n",
        "folds = KFold(n_splits = 5, shuffle = True, random_state = 4)\n",
        "\n",
        "# specify range of hyperparameters\n",
        "# Set the parameters by cross-validation\n",
        "hyper_params = [ {'gamma': [1e-2, 1e-3, 1e-4],\n",
        "                     'C': [1, 10, 100, 1000]}]\n",
        "\n",
        "\n",
        "# specify model\n",
        "model = SVC(kernel=\"rbf\")\n",
        "\n",
        "# set up GridSearchCV()\n",
        "model_cv = GridSearchCV(estimator = model, \n",
        "                        param_grid = hyper_params, \n",
        "                        scoring= 'accuracy', \n",
        "                        cv = folds, \n",
        "                        verbose = 1,\n",
        "                        return_train_score=True)      \n",
        "\n",
        "# fit the model\n",
        "model_cv.fit(X_train, y_train)                  \n"
      ]
    },
    {
      "cell_type": "code",
      "execution_count": 14,
      "metadata": {
        "id": "7wARWOOSQgkq",
        "outputId": "5d601059-7f98-422c-e92f-86e1e0f86546",
        "colab": {
          "base_uri": "https://localhost:8080/",
          "height": 988
        }
      },
      "outputs": [
        {
          "output_type": "execute_result",
          "data": {
            "text/plain": [
              "    mean_fit_time  std_fit_time  mean_score_time  std_score_time param_C  \\\n",
              "0        0.371175      0.112531         0.104225        0.041479       1   \n",
              "1        0.258133      0.005080         0.079564        0.001367       1   \n",
              "2        0.422627      0.005360         0.135408        0.002138       1   \n",
              "3        0.157983      0.004110         0.044115        0.002939      10   \n",
              "4        0.176798      0.005147         0.050808        0.002135      10   \n",
              "5        0.259013      0.002645         0.081908        0.003814      10   \n",
              "6        0.194610      0.015786         0.036762        0.003153     100   \n",
              "7        0.170023      0.007241         0.036861        0.001334     100   \n",
              "8        0.183326      0.005678         0.050438        0.001651     100   \n",
              "9        0.284748      0.024397         0.032888        0.002295    1000   \n",
              "10       0.281681      0.016901         0.032639        0.001415    1000   \n",
              "11       0.183461      0.006185         0.037113        0.001119    1000   \n",
              "\n",
              "   param_gamma                        params  split0_test_score  \\\n",
              "0         0.01       {'C': 1, 'gamma': 0.01}           0.917702   \n",
              "1        0.001      {'C': 1, 'gamma': 0.001}           0.886646   \n",
              "2       0.0001     {'C': 1, 'gamma': 0.0001}           0.770186   \n",
              "3         0.01      {'C': 10, 'gamma': 0.01}           0.909938   \n",
              "4        0.001     {'C': 10, 'gamma': 0.001}           0.917702   \n",
              "5       0.0001    {'C': 10, 'gamma': 0.0001}           0.883540   \n",
              "6         0.01     {'C': 100, 'gamma': 0.01}           0.913043   \n",
              "7        0.001    {'C': 100, 'gamma': 0.001}           0.923913   \n",
              "8       0.0001   {'C': 100, 'gamma': 0.0001}           0.919255   \n",
              "9         0.01    {'C': 1000, 'gamma': 0.01}           0.908385   \n",
              "10       0.001   {'C': 1000, 'gamma': 0.001}           0.919255   \n",
              "11      0.0001  {'C': 1000, 'gamma': 0.0001}           0.920807   \n",
              "\n",
              "    split1_test_score  split2_test_score  ...  mean_test_score  \\\n",
              "0            0.939441           0.922360  ...         0.929814   \n",
              "1            0.919255           0.899068  ...         0.904037   \n",
              "2            0.802795           0.791925  ...         0.786025   \n",
              "3            0.944099           0.934783  ...         0.933230   \n",
              "4            0.934783           0.916149  ...         0.928261   \n",
              "5            0.914596           0.899068  ...         0.902174   \n",
              "6            0.937888           0.934783  ...         0.931677   \n",
              "7            0.940994           0.925466  ...         0.933851   \n",
              "8            0.934783           0.917702  ...         0.927019   \n",
              "9            0.922360           0.920807  ...         0.918323   \n",
              "10           0.944099           0.930124  ...         0.933851   \n",
              "11           0.936335           0.925466  ...         0.929193   \n",
              "\n",
              "    std_test_score  rank_test_score  split0_train_score  split1_train_score  \\\n",
              "0         0.008528                5            0.943323            0.940994   \n",
              "1         0.013080               10            0.910326            0.903339   \n",
              "2         0.015322               12            0.789208            0.779503   \n",
              "3         0.012266                3            0.966227            0.966615   \n",
              "4         0.009491                7            0.937112            0.932453   \n",
              "5         0.013749               11            0.909938            0.902174   \n",
              "6         0.010159                4            0.982531            0.979814   \n",
              "7         0.008482                1            0.950311            0.949534   \n",
              "8         0.007349                8            0.934006            0.931289   \n",
              "9         0.005607                9            0.993789            0.992624   \n",
              "10        0.009033                1            0.966615            0.966227   \n",
              "11        0.005777                6            0.940606            0.940994   \n",
              "\n",
              "    split2_train_score  split3_train_score  split4_train_score  \\\n",
              "0             0.945264            0.937112            0.939829   \n",
              "1             0.908773            0.906056            0.904115   \n",
              "2             0.785326            0.791925            0.788820   \n",
              "3             0.967003            0.961568            0.962345   \n",
              "4             0.936335            0.935171            0.931289   \n",
              "5             0.908773            0.905280            0.902562   \n",
              "6             0.982531            0.982143            0.982531   \n",
              "7             0.948758            0.945652            0.939829   \n",
              "8             0.934006            0.930901            0.929348   \n",
              "9             0.992624            0.993012            0.992236   \n",
              "10            0.966615            0.963121            0.966227   \n",
              "11            0.940994            0.937112            0.937500   \n",
              "\n",
              "    mean_train_score  std_train_score  \n",
              "0           0.941304         0.002814  \n",
              "1           0.906522         0.002672  \n",
              "2           0.786957         0.004277  \n",
              "3           0.964752         0.002308  \n",
              "4           0.934472         0.002242  \n",
              "5           0.905745         0.003158  \n",
              "6           0.981910         0.001059  \n",
              "7           0.946817         0.003835  \n",
              "8           0.931910         0.001831  \n",
              "9           0.992857         0.000527  \n",
              "10          0.965761         0.001331  \n",
              "11          0.939441         0.001753  \n",
              "\n",
              "[12 rows x 22 columns]"
            ],
            "text/html": [
              "\n",
              "  <div id=\"df-3b801e2c-5d2e-45ff-8b70-caa0b24c09ac\">\n",
              "    <div class=\"colab-df-container\">\n",
              "      <div>\n",
              "<style scoped>\n",
              "    .dataframe tbody tr th:only-of-type {\n",
              "        vertical-align: middle;\n",
              "    }\n",
              "\n",
              "    .dataframe tbody tr th {\n",
              "        vertical-align: top;\n",
              "    }\n",
              "\n",
              "    .dataframe thead th {\n",
              "        text-align: right;\n",
              "    }\n",
              "</style>\n",
              "<table border=\"1\" class=\"dataframe\">\n",
              "  <thead>\n",
              "    <tr style=\"text-align: right;\">\n",
              "      <th></th>\n",
              "      <th>mean_fit_time</th>\n",
              "      <th>std_fit_time</th>\n",
              "      <th>mean_score_time</th>\n",
              "      <th>std_score_time</th>\n",
              "      <th>param_C</th>\n",
              "      <th>param_gamma</th>\n",
              "      <th>params</th>\n",
              "      <th>split0_test_score</th>\n",
              "      <th>split1_test_score</th>\n",
              "      <th>split2_test_score</th>\n",
              "      <th>...</th>\n",
              "      <th>mean_test_score</th>\n",
              "      <th>std_test_score</th>\n",
              "      <th>rank_test_score</th>\n",
              "      <th>split0_train_score</th>\n",
              "      <th>split1_train_score</th>\n",
              "      <th>split2_train_score</th>\n",
              "      <th>split3_train_score</th>\n",
              "      <th>split4_train_score</th>\n",
              "      <th>mean_train_score</th>\n",
              "      <th>std_train_score</th>\n",
              "    </tr>\n",
              "  </thead>\n",
              "  <tbody>\n",
              "    <tr>\n",
              "      <th>0</th>\n",
              "      <td>0.371175</td>\n",
              "      <td>0.112531</td>\n",
              "      <td>0.104225</td>\n",
              "      <td>0.041479</td>\n",
              "      <td>1</td>\n",
              "      <td>0.01</td>\n",
              "      <td>{'C': 1, 'gamma': 0.01}</td>\n",
              "      <td>0.917702</td>\n",
              "      <td>0.939441</td>\n",
              "      <td>0.922360</td>\n",
              "      <td>...</td>\n",
              "      <td>0.929814</td>\n",
              "      <td>0.008528</td>\n",
              "      <td>5</td>\n",
              "      <td>0.943323</td>\n",
              "      <td>0.940994</td>\n",
              "      <td>0.945264</td>\n",
              "      <td>0.937112</td>\n",
              "      <td>0.939829</td>\n",
              "      <td>0.941304</td>\n",
              "      <td>0.002814</td>\n",
              "    </tr>\n",
              "    <tr>\n",
              "      <th>1</th>\n",
              "      <td>0.258133</td>\n",
              "      <td>0.005080</td>\n",
              "      <td>0.079564</td>\n",
              "      <td>0.001367</td>\n",
              "      <td>1</td>\n",
              "      <td>0.001</td>\n",
              "      <td>{'C': 1, 'gamma': 0.001}</td>\n",
              "      <td>0.886646</td>\n",
              "      <td>0.919255</td>\n",
              "      <td>0.899068</td>\n",
              "      <td>...</td>\n",
              "      <td>0.904037</td>\n",
              "      <td>0.013080</td>\n",
              "      <td>10</td>\n",
              "      <td>0.910326</td>\n",
              "      <td>0.903339</td>\n",
              "      <td>0.908773</td>\n",
              "      <td>0.906056</td>\n",
              "      <td>0.904115</td>\n",
              "      <td>0.906522</td>\n",
              "      <td>0.002672</td>\n",
              "    </tr>\n",
              "    <tr>\n",
              "      <th>2</th>\n",
              "      <td>0.422627</td>\n",
              "      <td>0.005360</td>\n",
              "      <td>0.135408</td>\n",
              "      <td>0.002138</td>\n",
              "      <td>1</td>\n",
              "      <td>0.0001</td>\n",
              "      <td>{'C': 1, 'gamma': 0.0001}</td>\n",
              "      <td>0.770186</td>\n",
              "      <td>0.802795</td>\n",
              "      <td>0.791925</td>\n",
              "      <td>...</td>\n",
              "      <td>0.786025</td>\n",
              "      <td>0.015322</td>\n",
              "      <td>12</td>\n",
              "      <td>0.789208</td>\n",
              "      <td>0.779503</td>\n",
              "      <td>0.785326</td>\n",
              "      <td>0.791925</td>\n",
              "      <td>0.788820</td>\n",
              "      <td>0.786957</td>\n",
              "      <td>0.004277</td>\n",
              "    </tr>\n",
              "    <tr>\n",
              "      <th>3</th>\n",
              "      <td>0.157983</td>\n",
              "      <td>0.004110</td>\n",
              "      <td>0.044115</td>\n",
              "      <td>0.002939</td>\n",
              "      <td>10</td>\n",
              "      <td>0.01</td>\n",
              "      <td>{'C': 10, 'gamma': 0.01}</td>\n",
              "      <td>0.909938</td>\n",
              "      <td>0.944099</td>\n",
              "      <td>0.934783</td>\n",
              "      <td>...</td>\n",
              "      <td>0.933230</td>\n",
              "      <td>0.012266</td>\n",
              "      <td>3</td>\n",
              "      <td>0.966227</td>\n",
              "      <td>0.966615</td>\n",
              "      <td>0.967003</td>\n",
              "      <td>0.961568</td>\n",
              "      <td>0.962345</td>\n",
              "      <td>0.964752</td>\n",
              "      <td>0.002308</td>\n",
              "    </tr>\n",
              "    <tr>\n",
              "      <th>4</th>\n",
              "      <td>0.176798</td>\n",
              "      <td>0.005147</td>\n",
              "      <td>0.050808</td>\n",
              "      <td>0.002135</td>\n",
              "      <td>10</td>\n",
              "      <td>0.001</td>\n",
              "      <td>{'C': 10, 'gamma': 0.001}</td>\n",
              "      <td>0.917702</td>\n",
              "      <td>0.934783</td>\n",
              "      <td>0.916149</td>\n",
              "      <td>...</td>\n",
              "      <td>0.928261</td>\n",
              "      <td>0.009491</td>\n",
              "      <td>7</td>\n",
              "      <td>0.937112</td>\n",
              "      <td>0.932453</td>\n",
              "      <td>0.936335</td>\n",
              "      <td>0.935171</td>\n",
              "      <td>0.931289</td>\n",
              "      <td>0.934472</td>\n",
              "      <td>0.002242</td>\n",
              "    </tr>\n",
              "    <tr>\n",
              "      <th>5</th>\n",
              "      <td>0.259013</td>\n",
              "      <td>0.002645</td>\n",
              "      <td>0.081908</td>\n",
              "      <td>0.003814</td>\n",
              "      <td>10</td>\n",
              "      <td>0.0001</td>\n",
              "      <td>{'C': 10, 'gamma': 0.0001}</td>\n",
              "      <td>0.883540</td>\n",
              "      <td>0.914596</td>\n",
              "      <td>0.899068</td>\n",
              "      <td>...</td>\n",
              "      <td>0.902174</td>\n",
              "      <td>0.013749</td>\n",
              "      <td>11</td>\n",
              "      <td>0.909938</td>\n",
              "      <td>0.902174</td>\n",
              "      <td>0.908773</td>\n",
              "      <td>0.905280</td>\n",
              "      <td>0.902562</td>\n",
              "      <td>0.905745</td>\n",
              "      <td>0.003158</td>\n",
              "    </tr>\n",
              "    <tr>\n",
              "      <th>6</th>\n",
              "      <td>0.194610</td>\n",
              "      <td>0.015786</td>\n",
              "      <td>0.036762</td>\n",
              "      <td>0.003153</td>\n",
              "      <td>100</td>\n",
              "      <td>0.01</td>\n",
              "      <td>{'C': 100, 'gamma': 0.01}</td>\n",
              "      <td>0.913043</td>\n",
              "      <td>0.937888</td>\n",
              "      <td>0.934783</td>\n",
              "      <td>...</td>\n",
              "      <td>0.931677</td>\n",
              "      <td>0.010159</td>\n",
              "      <td>4</td>\n",
              "      <td>0.982531</td>\n",
              "      <td>0.979814</td>\n",
              "      <td>0.982531</td>\n",
              "      <td>0.982143</td>\n",
              "      <td>0.982531</td>\n",
              "      <td>0.981910</td>\n",
              "      <td>0.001059</td>\n",
              "    </tr>\n",
              "    <tr>\n",
              "      <th>7</th>\n",
              "      <td>0.170023</td>\n",
              "      <td>0.007241</td>\n",
              "      <td>0.036861</td>\n",
              "      <td>0.001334</td>\n",
              "      <td>100</td>\n",
              "      <td>0.001</td>\n",
              "      <td>{'C': 100, 'gamma': 0.001}</td>\n",
              "      <td>0.923913</td>\n",
              "      <td>0.940994</td>\n",
              "      <td>0.925466</td>\n",
              "      <td>...</td>\n",
              "      <td>0.933851</td>\n",
              "      <td>0.008482</td>\n",
              "      <td>1</td>\n",
              "      <td>0.950311</td>\n",
              "      <td>0.949534</td>\n",
              "      <td>0.948758</td>\n",
              "      <td>0.945652</td>\n",
              "      <td>0.939829</td>\n",
              "      <td>0.946817</td>\n",
              "      <td>0.003835</td>\n",
              "    </tr>\n",
              "    <tr>\n",
              "      <th>8</th>\n",
              "      <td>0.183326</td>\n",
              "      <td>0.005678</td>\n",
              "      <td>0.050438</td>\n",
              "      <td>0.001651</td>\n",
              "      <td>100</td>\n",
              "      <td>0.0001</td>\n",
              "      <td>{'C': 100, 'gamma': 0.0001}</td>\n",
              "      <td>0.919255</td>\n",
              "      <td>0.934783</td>\n",
              "      <td>0.917702</td>\n",
              "      <td>...</td>\n",
              "      <td>0.927019</td>\n",
              "      <td>0.007349</td>\n",
              "      <td>8</td>\n",
              "      <td>0.934006</td>\n",
              "      <td>0.931289</td>\n",
              "      <td>0.934006</td>\n",
              "      <td>0.930901</td>\n",
              "      <td>0.929348</td>\n",
              "      <td>0.931910</td>\n",
              "      <td>0.001831</td>\n",
              "    </tr>\n",
              "    <tr>\n",
              "      <th>9</th>\n",
              "      <td>0.284748</td>\n",
              "      <td>0.024397</td>\n",
              "      <td>0.032888</td>\n",
              "      <td>0.002295</td>\n",
              "      <td>1000</td>\n",
              "      <td>0.01</td>\n",
              "      <td>{'C': 1000, 'gamma': 0.01}</td>\n",
              "      <td>0.908385</td>\n",
              "      <td>0.922360</td>\n",
              "      <td>0.920807</td>\n",
              "      <td>...</td>\n",
              "      <td>0.918323</td>\n",
              "      <td>0.005607</td>\n",
              "      <td>9</td>\n",
              "      <td>0.993789</td>\n",
              "      <td>0.992624</td>\n",
              "      <td>0.992624</td>\n",
              "      <td>0.993012</td>\n",
              "      <td>0.992236</td>\n",
              "      <td>0.992857</td>\n",
              "      <td>0.000527</td>\n",
              "    </tr>\n",
              "    <tr>\n",
              "      <th>10</th>\n",
              "      <td>0.281681</td>\n",
              "      <td>0.016901</td>\n",
              "      <td>0.032639</td>\n",
              "      <td>0.001415</td>\n",
              "      <td>1000</td>\n",
              "      <td>0.001</td>\n",
              "      <td>{'C': 1000, 'gamma': 0.001}</td>\n",
              "      <td>0.919255</td>\n",
              "      <td>0.944099</td>\n",
              "      <td>0.930124</td>\n",
              "      <td>...</td>\n",
              "      <td>0.933851</td>\n",
              "      <td>0.009033</td>\n",
              "      <td>1</td>\n",
              "      <td>0.966615</td>\n",
              "      <td>0.966227</td>\n",
              "      <td>0.966615</td>\n",
              "      <td>0.963121</td>\n",
              "      <td>0.966227</td>\n",
              "      <td>0.965761</td>\n",
              "      <td>0.001331</td>\n",
              "    </tr>\n",
              "    <tr>\n",
              "      <th>11</th>\n",
              "      <td>0.183461</td>\n",
              "      <td>0.006185</td>\n",
              "      <td>0.037113</td>\n",
              "      <td>0.001119</td>\n",
              "      <td>1000</td>\n",
              "      <td>0.0001</td>\n",
              "      <td>{'C': 1000, 'gamma': 0.0001}</td>\n",
              "      <td>0.920807</td>\n",
              "      <td>0.936335</td>\n",
              "      <td>0.925466</td>\n",
              "      <td>...</td>\n",
              "      <td>0.929193</td>\n",
              "      <td>0.005777</td>\n",
              "      <td>6</td>\n",
              "      <td>0.940606</td>\n",
              "      <td>0.940994</td>\n",
              "      <td>0.940994</td>\n",
              "      <td>0.937112</td>\n",
              "      <td>0.937500</td>\n",
              "      <td>0.939441</td>\n",
              "      <td>0.001753</td>\n",
              "    </tr>\n",
              "  </tbody>\n",
              "</table>\n",
              "<p>12 rows × 22 columns</p>\n",
              "</div>\n",
              "      <button class=\"colab-df-convert\" onclick=\"convertToInteractive('df-3b801e2c-5d2e-45ff-8b70-caa0b24c09ac')\"\n",
              "              title=\"Convert this dataframe to an interactive table.\"\n",
              "              style=\"display:none;\">\n",
              "        \n",
              "  <svg xmlns=\"http://www.w3.org/2000/svg\" height=\"24px\"viewBox=\"0 0 24 24\"\n",
              "       width=\"24px\">\n",
              "    <path d=\"M0 0h24v24H0V0z\" fill=\"none\"/>\n",
              "    <path d=\"M18.56 5.44l.94 2.06.94-2.06 2.06-.94-2.06-.94-.94-2.06-.94 2.06-2.06.94zm-11 1L8.5 8.5l.94-2.06 2.06-.94-2.06-.94L8.5 2.5l-.94 2.06-2.06.94zm10 10l.94 2.06.94-2.06 2.06-.94-2.06-.94-.94-2.06-.94 2.06-2.06.94z\"/><path d=\"M17.41 7.96l-1.37-1.37c-.4-.4-.92-.59-1.43-.59-.52 0-1.04.2-1.43.59L10.3 9.45l-7.72 7.72c-.78.78-.78 2.05 0 2.83L4 21.41c.39.39.9.59 1.41.59.51 0 1.02-.2 1.41-.59l7.78-7.78 2.81-2.81c.8-.78.8-2.07 0-2.86zM5.41 20L4 18.59l7.72-7.72 1.47 1.35L5.41 20z\"/>\n",
              "  </svg>\n",
              "      </button>\n",
              "      \n",
              "  <style>\n",
              "    .colab-df-container {\n",
              "      display:flex;\n",
              "      flex-wrap:wrap;\n",
              "      gap: 12px;\n",
              "    }\n",
              "\n",
              "    .colab-df-convert {\n",
              "      background-color: #E8F0FE;\n",
              "      border: none;\n",
              "      border-radius: 50%;\n",
              "      cursor: pointer;\n",
              "      display: none;\n",
              "      fill: #1967D2;\n",
              "      height: 32px;\n",
              "      padding: 0 0 0 0;\n",
              "      width: 32px;\n",
              "    }\n",
              "\n",
              "    .colab-df-convert:hover {\n",
              "      background-color: #E2EBFA;\n",
              "      box-shadow: 0px 1px 2px rgba(60, 64, 67, 0.3), 0px 1px 3px 1px rgba(60, 64, 67, 0.15);\n",
              "      fill: #174EA6;\n",
              "    }\n",
              "\n",
              "    [theme=dark] .colab-df-convert {\n",
              "      background-color: #3B4455;\n",
              "      fill: #D2E3FC;\n",
              "    }\n",
              "\n",
              "    [theme=dark] .colab-df-convert:hover {\n",
              "      background-color: #434B5C;\n",
              "      box-shadow: 0px 1px 3px 1px rgba(0, 0, 0, 0.15);\n",
              "      filter: drop-shadow(0px 1px 2px rgba(0, 0, 0, 0.3));\n",
              "      fill: #FFFFFF;\n",
              "    }\n",
              "  </style>\n",
              "\n",
              "      <script>\n",
              "        const buttonEl =\n",
              "          document.querySelector('#df-3b801e2c-5d2e-45ff-8b70-caa0b24c09ac button.colab-df-convert');\n",
              "        buttonEl.style.display =\n",
              "          google.colab.kernel.accessAllowed ? 'block' : 'none';\n",
              "\n",
              "        async function convertToInteractive(key) {\n",
              "          const element = document.querySelector('#df-3b801e2c-5d2e-45ff-8b70-caa0b24c09ac');\n",
              "          const dataTable =\n",
              "            await google.colab.kernel.invokeFunction('convertToInteractive',\n",
              "                                                     [key], {});\n",
              "          if (!dataTable) return;\n",
              "\n",
              "          const docLinkHtml = 'Like what you see? Visit the ' +\n",
              "            '<a target=\"_blank\" href=https://colab.research.google.com/notebooks/data_table.ipynb>data table notebook</a>'\n",
              "            + ' to learn more about interactive tables.';\n",
              "          element.innerHTML = '';\n",
              "          dataTable['output_type'] = 'display_data';\n",
              "          await google.colab.output.renderOutput(dataTable, element);\n",
              "          const docLink = document.createElement('div');\n",
              "          docLink.innerHTML = docLinkHtml;\n",
              "          element.appendChild(docLink);\n",
              "        }\n",
              "      </script>\n",
              "    </div>\n",
              "  </div>\n",
              "  "
            ]
          },
          "metadata": {},
          "execution_count": 14
        }
      ],
      "source": [
        "# cv results\n",
        "cv_results = pd.DataFrame(model_cv.cv_results_)\n",
        "cv_results"
      ]
    },
    {
      "cell_type": "code",
      "execution_count": 15,
      "metadata": {
        "id": "kJ5oPJWBQgkq",
        "outputId": "7d66f909-a5b9-4384-83b5-024729da9eec",
        "colab": {
          "base_uri": "https://localhost:8080/",
          "height": 408
        }
      },
      "outputs": [
        {
          "output_type": "display_data",
          "data": {
            "text/plain": [
              "<Figure size 1152x432 with 3 Axes>"
            ],
            "image/png": "[encoded data removed]"
          },
          "metadata": {
            "needs_background": "light"
          }
        }
      ],
      "source": [
        "# converting C to numeric type for plotting on x-axis\n",
        "cv_results['param_C'] = cv_results['param_C'].astype('int')\n",
        "\n",
        "# # plotting\n",
        "plt.figure(figsize=(16,6))\n",
        "\n",
        "# subplot 1/3\n",
        "plt.subplot(131)\n",
        "gamma_01 = cv_results[cv_results['param_gamma']==0.01]\n",
        "\n",
        "plt.plot(gamma_01[\"param_C\"], gamma_01[\"mean_test_score\"])\n",
        "plt.plot(gamma_01[\"param_C\"], gamma_01[\"mean_train_score\"])\n",
        "plt.xlabel('C')\n",
        "plt.ylabel('Accuracy')\n",
        "plt.title(\"Gamma=0.01\")\n",
        "plt.ylim([0.80, 1])\n",
        "plt.legend(['test accuracy', 'train accuracy'], loc='upper left')\n",
        "plt.xscale('log')\n",
        "\n",
        "# subplot 2/3\n",
        "plt.subplot(132)\n",
        "gamma_001 = cv_results[cv_results['param_gamma']==0.001]\n",
        "\n",
        "plt.plot(gamma_001[\"param_C\"], gamma_001[\"mean_test_score\"])\n",
        "plt.plot(gamma_001[\"param_C\"], gamma_001[\"mean_train_score\"])\n",
        "plt.xlabel('C')\n",
        "plt.ylabel('Accuracy')\n",
        "plt.title(\"Gamma=0.001\")\n",
        "plt.ylim([0.80, 1])\n",
        "plt.legend(['test accuracy', 'train accuracy'], loc='upper left')\n",
        "plt.xscale('log')\n",
        "\n",
        "\n",
        "# subplot 3/3\n",
        "plt.subplot(133)\n",
        "gamma_0001 = cv_results[cv_results['param_gamma']==0.0001]\n",
        "\n",
        "plt.plot(gamma_0001[\"param_C\"], gamma_0001[\"mean_test_score\"])\n",
        "plt.plot(gamma_0001[\"param_C\"], gamma_0001[\"mean_train_score\"])\n",
        "plt.xlabel('C')\n",
        "plt.ylabel('Accuracy')\n",
        "plt.title(\"Gamma=0.0001\")\n",
        "plt.ylim([0.80, 1])\n",
        "plt.legend(['test accuracy', 'train accuracy'], loc='upper left')\n",
        "plt.xscale('log')\n"
      ]
    },
    {
      "cell_type": "markdown",
      "metadata": {
        "id": "0JCngKPdQgkr"
      },
      "source": [
        "This plot reveals some interesting insights:\n",
        "- **High values of gamma** lead to **overfitting** (especially at high values of C); note that the training accuracy at gamma=0.01 and C=1000 reaches almost 99% \n",
        "- The **training score increases with higher gamma**, though the **test scores are comparable** (at sufficiently high cost, i.e. C > 10)\n",
        "- The least amount of overfitting (i.e. difference between train and test accuracy) occurs at low gamma, i.e. a quite *simple non-linear model*\n"
      ]
    },
    {
      "cell_type": "code",
      "execution_count": 16,
      "metadata": {
        "id": "7Ug6z-ccQgkr",
        "outputId": "0bdcd19f-8a8e-49c7-db18-7cf7bea84d95",
        "colab": {
          "base_uri": "https://localhost:8080/"
        }
      },
      "outputs": [
        {
          "output_type": "stream",
          "name": "stdout",
          "text": [
            "The best test score is 0.9338509316770185 corresponding to hyperparameters {'C': 100, 'gamma': 0.001}\n"
          ]
        }
      ],
      "source": [
        "# printing the optimal accuracy score and hyperparameters\n",
        "best_score = model_cv.best_score_\n",
        "best_hyperparams = model_cv.best_params_\n",
        "\n",
        "print(\"The best test score is {0} corresponding to hyperparameters {1}\".format(best_score, best_hyperparams))"
      ]
    },
    {
      "cell_type": "markdown",
      "metadata": {
        "id": "hVO2eOOkQgkr"
      },
      "source": [
        "Though sklearn suggests the optimal scores mentioned above (gamma=0.001, C=100), one could argue that it is better to choose a simpler, more non-linear model with gamma=0.0001. This is because the optimal values mentioned here are calculated based on the average test accuracy (but not considering subjective parameters such as model complexity).\n",
        "\n",
        "We can achieve comparable average test accuracy (~92.5%) with gamma=0.0001 as well, though we'll have to increase the cost C for that. So to achieve high accuracy, there's a tradeoff between:\n",
        "- High gamma (i.e. high non-linearity) and average value of C\n",
        "- Low gamma (i.e. less non-linearity) and high value of C\n",
        "\n",
        "We argue that the model will be simpler if it has as less non-linearity as possible, so we choose gamma=0.0001 and a high C=100."
      ]
    },
    {
      "cell_type": "markdown",
      "metadata": {
        "id": "5xOwf4dpQgks"
      },
      "source": [
        "### Building and Evaluating the Final Model\n",
        "\n",
        "Let's now build and evaluate the final model, i.e. the model with highest test accuracy."
      ]
    },
    {
      "cell_type": "code",
      "execution_count": 17,
      "metadata": {
        "id": "3OlrAuRzQgks",
        "outputId": "e8aa093c-49b6-4a8c-92db-1c56c7e399ed",
        "colab": {
          "base_uri": "https://localhost:8080/"
        }
      },
      "outputs": [
        {
          "output_type": "stream",
          "name": "stdout",
          "text": [
            "[[811  38]\n",
            " [ 52 480]] \n",
            "\n",
            "accuracy 0.9348298334540188\n",
            "precision 0.9266409266409267\n",
            "sensitivity/recall 0.9022556390977443\n"
          ]
        }
      ],
      "source": [
        "# specify optimal hyperparameters\n",
        "best_params = {\"C\": 100, \"gamma\": 0.001, \"kernel\":\"rbf\"}\n",
        "\n",
        "# model\n",
        "model = SVC(C=100, gamma=0.001, kernel=\"rbf\")\n",
        "\n",
        "model.fit(X_train, y_train)\n",
        "y_pred = model.predict(X_test)\n",
        "\n",
        "# metrics\n",
        "print(metrics.confusion_matrix(y_test, y_pred), \"\\n\")\n",
        "print(\"accuracy\", metrics.accuracy_score(y_test, y_pred))\n",
        "print(\"precision\", metrics.precision_score(y_test, y_pred))\n",
        "print(\"sensitivity/recall\", metrics.recall_score(y_test, y_pred))"
      ]
    },
    {
      "cell_type": "markdown",
      "metadata": {
        "id": "iuK2niRVQgks"
      },
      "source": [
        "## Conclusion\n",
        "\n",
        "The accuracy achieved using a non-linear kernel is comparable to that of a linear one. Thus, it turns out that for this problem, **you do not really need a non-linear kernel**."
      ]
    }
  ],
  "metadata": {
    "kernelspec": {
      "display_name": "Python 3",
      "language": "python",
      "name": "python3"
    },
    "language_info": {
      "codemirror_mode": {
        "name": "ipython",
        "version": 3
      },
      "file_extension": ".py",
      "mimetype": "text/x-python",
      "name": "python",
      "nbconvert_exporter": "python",
      "pygments_lexer": "ipython3",
      "version": "3.6.6"
    },
    "colab": {
      "name": "Non-Linear+SVM+----+Email+Spam+Classifier.ipynb",
      "provenance": [],
      "include_colab_link": true
    }
  },
  "nbformat": 4,
  "nbformat_minor": 0
}