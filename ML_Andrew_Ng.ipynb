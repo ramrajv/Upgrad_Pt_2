{
  "cells": [
    {
      "cell_type": "markdown",
      "metadata": {
        "id": "view-in-github",
        "colab_type": "text"
      },
      "source": [
        "<a href=\"https://colab.research.google.com/github/ramrajv/Upgrad_Pt_2/blob/main/ML_Andrew_Ng.ipynb\" target=\"_parent\"><img src=\"https://colab.research.google.com/assets/colab-badge.svg\" alt=\"Open In Colab\"/></a>"
      ]
    },
    {
      "cell_type": "code",
      "execution_count": null,
      "id": "0de3c001",
      "metadata": {
        "id": "0de3c001",
        "outputId": "ed875e1e-b2c3-420e-edc3-dbef05c09add"
      },
      "outputs": [
        {
          "data": {
            "text/plain": [
              "'1.0.1'"
            ]
          },
          "execution_count": 1,
          "metadata": {},
          "output_type": "execute_result"
        }
      ],
      "source": [
        "import sklearn\n",
        "\n",
        "sklearn.__version__"
      ]
    },
    {
      "cell_type": "code",
      "execution_count": null,
      "id": "09399144",
      "metadata": {
        "id": "09399144"
      },
      "outputs": [],
      "source": [
        "#!pip install xgboost"
      ]
    },
    {
      "cell_type": "code",
      "execution_count": null,
      "id": "40b0ebfb",
      "metadata": {
        "id": "40b0ebfb"
      },
      "outputs": [],
      "source": [
        "# It is defined by the kaggle/python Docker image: https://github.com/kaggle/docker-python\n",
        "# For example, here's several helpful packages to load\n",
        "#!pip install openpyxl\n",
        "#!pip install pillow\n",
        "import numpy as np # linear algebra\n",
        "import pandas as pd # data processing, CSV file I/O (e.g. pd.read_csv)\n",
        "\n",
        "from sklearn import preprocessing\n",
        "import matplotlib.pyplot as plt\n",
        "import pickle\n",
        "\n",
        "import matplotlib.pyplot as plt\n",
        "\n",
        "plt.style.use('C:\\\\Users\\\\pranav nerurkar\\\\plot_style.txt')\n",
        "\n",
        "import re\n",
        "import os"
      ]
    },
    {
      "cell_type": "code",
      "execution_count": null,
      "id": "f6495eb5",
      "metadata": {
        "id": "f6495eb5"
      },
      "outputs": [],
      "source": [
        "import os\n",
        "if not os.path.exists('C:\\\\Users\\\\pranav nerurkar\\\\cic\\\\db'):\n",
        "    os.mkdir('C:\\\\Users\\\\pranav nerurkar\\\\cic\\\\db')"
      ]
    },
    {
      "cell_type": "code",
      "execution_count": null,
      "id": "3ef93529",
      "metadata": {
        "id": "3ef93529"
      },
      "outputs": [],
      "source": [
        "from sklearn import linear_model\n",
        "from sklearn.model_selection import train_test_split, cross_val_score\n",
        "from sklearn.preprocessing import StandardScaler\n",
        "from sklearn.model_selection import GridSearchCV, RandomizedSearchCV\n",
        "import xgboost as xgb\n",
        "from sklearn import linear_model, discriminant_analysis\n",
        "from sklearn.model_selection import GridSearchCV, RandomizedSearchCV"
      ]
    },
    {
      "cell_type": "code",
      "execution_count": null,
      "id": "9b124de5",
      "metadata": {
        "id": "9b124de5"
      },
      "outputs": [],
      "source": [
        "Xtrain = pd.read_pickle('C:\\\\Users\\\\pranav nerurkar\\\\cic\\\\df\\\\Xresult_benmal_train.pkl')\n",
        "ytrain = pd.read_pickle('C:\\\\Users\\\\pranav nerurkar\\\\cic\\\\df\\\\yresult_benmal_train.pkl')\n",
        "Xtest = pd.read_pickle('C:\\\\Users\\\\pranav nerurkar\\\\cic\\\\df\\\\Xresult_benmal_test.pkl')\n",
        "ytest = pd.read_pickle('C:\\\\Users\\\\pranav nerurkar\\\\cic\\\\df\\\\yresult_benmal_test.pkl')\n"
      ]
    },
    {
      "cell_type": "code",
      "execution_count": null,
      "id": "44dc6c06",
      "metadata": {
        "id": "44dc6c06",
        "outputId": "0c68b10e-885e-4ef4-9d35-a21de0c29c82"
      },
      "outputs": [
        {
          "data": {
            "text/html": [
              "<div>\n",
              "<style scoped>\n",
              "    .dataframe tbody tr th:only-of-type {\n",
              "        vertical-align: middle;\n",
              "    }\n",
              "\n",
              "    .dataframe tbody tr th {\n",
              "        vertical-align: top;\n",
              "    }\n",
              "\n",
              "    .dataframe thead th {\n",
              "        text-align: right;\n",
              "    }\n",
              "</style>\n",
              "<table border=\"1\" class=\"dataframe\">\n",
              "  <thead>\n",
              "    <tr style=\"text-align: right;\">\n",
              "      <th></th>\n",
              "      <th>Label</th>\n",
              "    </tr>\n",
              "  </thead>\n",
              "  <tbody>\n",
              "    <tr>\n",
              "      <th>53097</th>\n",
              "      <td>0</td>\n",
              "    </tr>\n",
              "    <tr>\n",
              "      <th>14625</th>\n",
              "      <td>0</td>\n",
              "    </tr>\n",
              "    <tr>\n",
              "      <th>143451</th>\n",
              "      <td>0</td>\n",
              "    </tr>\n",
              "    <tr>\n",
              "      <th>31676</th>\n",
              "      <td>0</td>\n",
              "    </tr>\n",
              "    <tr>\n",
              "      <th>150631</th>\n",
              "      <td>0</td>\n",
              "    </tr>\n",
              "  </tbody>\n",
              "</table>\n",
              "</div>"
            ],
            "text/plain": [
              "        Label\n",
              "53097       0\n",
              "14625       0\n",
              "143451      0\n",
              "31676       0\n",
              "150631      0"
            ]
          },
          "execution_count": 7,
          "metadata": {},
          "output_type": "execute_result"
        }
      ],
      "source": [
        "ytest.head()"
      ]
    },
    {
      "cell_type": "code",
      "execution_count": null,
      "id": "c78c0c8f",
      "metadata": {
        "id": "c78c0c8f"
      },
      "outputs": [],
      "source": [
        "obj1 = linear_model.RidgeCV()\n",
        "##################\n",
        "obj2 = linear_model.LogisticRegressionCV()\n",
        "\n",
        "\n",
        "\n",
        "#################\n",
        "obj3 = linear_model.SGDClassifier()\n",
        "\n",
        "\n",
        "#########################\n",
        "obj4 = linear_model.Perceptron()\n",
        "\n",
        "##################\n",
        "obj5 = linear_model.PassiveAggressiveClassifier()\n",
        "\n",
        "\n",
        "####################\n",
        "obj6 = discriminant_analysis.LinearDiscriminantAnalysis()\n",
        "\n",
        "\n",
        "######\n",
        "\n",
        "obj7 = discriminant_analysis.QuadraticDiscriminantAnalysis()\n",
        "\n",
        "\n",
        "######\n",
        "\n",
        "\n",
        "from sklearn import svm\n",
        "\n",
        "obj8 = svm.LinearSVC()\n",
        "\n",
        "##########\n",
        "\n",
        "obj9 = svm.NuSVC()\n",
        "\n",
        "\n",
        "##############\n",
        "\n",
        "obj10 = svm.SVC()\n",
        "\n",
        "######\n",
        "\n",
        "\n",
        "from sklearn import tree,neural_network\n",
        "\n",
        "obj11 = neural_network.MLPClassifier()\n",
        "\n",
        "#######################\n",
        "\n",
        "from sklearn import tree\n",
        "obj12 = tree.DecisionTreeClassifier()\n",
        "\n",
        "\n",
        "#####################\n",
        "\n",
        "from sklearn import naive_bayes, gaussian_process\n",
        "\n",
        "obj13 = naive_bayes.GaussianNB()\n",
        "\n",
        "\n",
        "########################\n",
        "\n",
        "\n",
        "obj14 = naive_bayes.MultinomialNB()\n",
        "\n",
        "\n",
        "##########################\n",
        "\n",
        "\n",
        "obj15 = naive_bayes.ComplementNB()\n",
        "\n",
        "\n",
        "#########################\n",
        "\n",
        "\n",
        "obj16 = naive_bayes.BernoulliNB()\n",
        "\n",
        "\n",
        "\n",
        "#########################\n",
        "\n",
        "\n",
        "obj17 = gaussian_process.GaussianProcessClassifier()\n",
        "\n",
        "\n",
        "##################\n",
        "\n",
        "\n",
        "from sklearn import gaussian_process, neighbors\n",
        "\n",
        "obj18 = neighbors.RadiusNeighborsClassifier()\n",
        "\n",
        "\n",
        "#############################\n",
        "\n",
        "\n",
        "obj19 = neighbors.KNeighborsClassifier()\n",
        "\n",
        "\n",
        "####################\n",
        "obj20 = neighbors.NearestCentroid()\n",
        "\n",
        "###################\n",
        "\n",
        "\n",
        "obj21 = xgb.XGBClassifier()\n"
      ]
    },
    {
      "cell_type": "code",
      "execution_count": null,
      "id": "59195968",
      "metadata": {
        "id": "59195968"
      },
      "outputs": [],
      "source": [
        "'''\n",
        "def compute(estimators, title, X, y, param_grids)\n",
        "\n",
        "estimator: object of the machine learning technique\n",
        "X: All the chemical composition [polymers, cb, ....]\n",
        "y: one physical property \n",
        "param_grids: parameter grid for all parameters of the estimator\n",
        "\n",
        "'''\n",
        "\n",
        "def compute(estimators, title):\n",
        "    seed = 7\n",
        "    #test_size = 0.2\n",
        "    #print(X.shape)\n",
        "    #print(y.shape)\n",
        "    print(title)\n",
        "    #print(y.columns[0])\n",
        "    #database=y.columns[0].replace(\" \", \"\")\n",
        "    #database=re.sub(r'[^a-zA-Z0-9]','',database)\n",
        "    #divide data in train-test (80% : 20%) \n",
        "    filename=\"C:\\\\Users\\\\pranav nerurkar\\\\cic\\\\db\\\\\"+'meanerrors_MSE_cicdb_'+title+'_'+'.csv'\n",
        "    #group1,4-dense-combined.loc[0:24,:]\n",
        "    #group2-sponge-combined.loc[25:34,:]\n",
        "    #group3-typeX-combined.loc[35:,:]\n",
        "    if not os.path.isfile(filename):\n",
        "        #X_train, X_test, y_train, y_test = train_test_split(X, y, test_size=test_size, random_state=seed)\n",
        "        \n",
        "        try:\n",
        "            #grid = GridSearchCV(estimator=estimators, param_grid=param_grids, scoring='neg_mean_squared_error', verbose=1, n_jobs=-1)\n",
        "            grid_result = estimators.fit(Xtrain, ytrain)\n",
        "        except:        \n",
        "            data={title+'(f1)':[9999],title+'(acc)':[9999]}\n",
        "            df=pd.DataFrame(data,index=[ytrain.columns[0]])\n",
        "            filename=\"C:\\\\Users\\\\pranav nerurkar\\\\cic\\\\db\\\\\"+'meanerrors_MSE_cicdb_'+title+'_'+'.csv'\n",
        "            df.to_csv(filename)\n",
        "            return\n",
        "\n",
        "        #bestestim = grid.best_estimator_\n",
        "        yhat = grid_result.predict(Xtest)\n",
        "\n",
        "        import pickle\n",
        "\n",
        "        # Save to file in the current working directory\n",
        "        pkl_filename = \"C:\\\\Users\\\\pranav nerurkar\\\\cic\\\\db\\\\\"+'meanerrors_MSE_cicdb_'+title+'_'+\".pkl\"\n",
        "        with open(pkl_filename, 'wb') as file:\n",
        "            pickle.dump(grid_result, file)\n",
        "\n",
        "        \n",
        "        data={title+'(f1)':[sklearn.metrics.f1_score(yhat, ytest)],title+'(acc)':[sklearn.metrics.accuracy_score(yhat, ytest)]}\n",
        "        df=pd.DataFrame(data,index=[ytest.columns[0]])\n",
        "        filename=\"C:\\\\Users\\\\pranav nerurkar\\\\cic\\\\db\\\\\"+'meanerrors_MSE_cicdb_'+title+'_'+'.csv'\n",
        "        df.to_csv(filename)"
      ]
    },
    {
      "cell_type": "code",
      "execution_count": null,
      "id": "454db448",
      "metadata": {
        "id": "454db448"
      },
      "outputs": [],
      "source": [
        "#Apply each machine learning technique on data of  using compute() function\n",
        "\n",
        "def computeall():   \n",
        "    compute(obj1, str(obj1)[:str(obj1).index(\"(\")])    \n",
        "    compute(obj2, str(obj2)[:str(obj2).index(\"(\")])\n",
        "    compute(obj3, str(obj3)[:str(obj3).index(\"(\")])\n",
        "    compute(obj4, str(obj4)[:str(obj4).index(\"(\")])\n",
        "    compute(obj5, str(obj5)[:str(obj5).index(\"(\")])\n",
        "    compute(obj6, str(obj6)[:str(obj6).index(\"(\")])\n",
        "    compute(obj7, str(obj7)[:str(obj7).index(\"(\")])\n",
        "    compute(obj8, str(obj8)[:str(obj8).index(\"(\")])\n",
        "    #compute(obj9, str(obj9)[:str(obj9).index(\"(\")])    \n",
        "    #compute(obj10, str(obj10)[:str(obj10).index(\"(\")])    \n",
        "    compute(obj11, str(obj11)[:str(obj11).index(\"(\")])\n",
        "    compute(obj12, str(obj12)[:str(obj12).index(\"(\")])\n",
        "    compute(obj13, str(obj13)[:str(obj13).index(\"(\")])\n",
        "    compute(obj14, str(obj14)[:str(obj14).index(\"(\")])\n",
        "    compute(obj15, str(obj15)[:str(obj15).index(\"(\")])\n",
        "    compute(obj16, str(obj16)[:str(obj16).index(\"(\")])\n",
        "    compute(obj17, str(obj17)[:str(obj17).index(\"(\")])\n",
        "    compute(obj18, str(obj18)[:str(obj18).index(\"(\")])\n",
        "    compute(obj19, str(obj19)[:str(obj19).index(\"(\")])\n",
        "    compute(obj20, str(obj20)[:str(obj20).index(\"(\")])\n",
        "    compute(obj21, 'XGBReg',param_grid33)"
      ]
    },
    {
      "cell_type": "code",
      "execution_count": null,
      "id": "10b1051d",
      "metadata": {
        "id": "10b1051d"
      },
      "outputs": [],
      "source": [
        "def callcomputeall():    \n",
        "    computeall()"
      ]
    },
    {
      "cell_type": "code",
      "execution_count": null,
      "id": "fe9451f7",
      "metadata": {
        "id": "fe9451f7",
        "outputId": "3528ea34-f71f-47df-8c39-d4c763ba55b8"
      },
      "outputs": [
        {
          "name": "stdout",
          "output_type": "stream",
          "text": [
            "RidgeCV\n",
            "LogisticRegressionCV\n",
            "SGDClassifier\n",
            "Perceptron\n",
            "PassiveAggressiveClassifier\n",
            "LinearDiscriminantAnalysis\n",
            "QuadraticDiscriminantAnalysis\n",
            "LinearSVC\n",
            "MLPClassifier\n"
          ]
        },
        {
          "name": "stderr",
          "output_type": "stream",
          "text": [
            "C:\\Users\\pranav nerurkar\\AppData\\Roaming\\Python\\Python38\\site-packages\\sklearn\\neural_network\\_multilayer_perceptron.py:1109: DataConversionWarning: A column-vector y was passed when a 1d array was expected. Please change the shape of y to (n_samples, ), for example using ravel().\n",
            "  y = column_or_1d(y, warn=True)\n"
          ]
        }
      ],
      "source": [
        "callcomputeall() "
      ]
    },
    {
      "cell_type": "code",
      "execution_count": null,
      "id": "9f016f91",
      "metadata": {
        "id": "9f016f91"
      },
      "outputs": [],
      "source": [
        ""
      ]
    }
  ],
  "metadata": {
    "kernelspec": {
      "display_name": "Python 3 (ipykernel)",
      "language": "python",
      "name": "python3"
    },
    "language_info": {
      "codemirror_mode": {
        "name": "ipython",
        "version": 3
      },
      "file_extension": ".py",
      "mimetype": "text/x-python",
      "name": "python",
      "nbconvert_exporter": "python",
      "pygments_lexer": "ipython3",
      "version": "3.8.12"
    },
    "colab": {
      "name": "ML.ipynb",
      "provenance": [],
      "include_colab_link": true
    }
  },
  "nbformat": 4,
  "nbformat_minor": 5
}