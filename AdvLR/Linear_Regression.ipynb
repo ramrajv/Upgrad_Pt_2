{
  "cells": [
    {
      "cell_type": "markdown",
      "metadata": {
        "id": "view-in-github",
        "colab_type": "text"
      },
      "source": [
        "<a href=\"https://colab.research.google.com/github/ramrajv/Upgrad_Pt_2/blob/main/AdvLR/Linear_Regression.ipynb\" target=\"_parent\"><img src=\"https://colab.research.google.com/assets/colab-badge.svg\" alt=\"Open In Colab\"/></a>"
      ]
    },
    {
      "cell_type": "markdown",
      "metadata": {
        "id": "2xg1OCvqO6YI"
      },
      "source": [
        "Welcome to the module on Advanced Regression. In this module, we will learn how to deal with variables which do not exhibit a linear relationship with the target variable. Furthermore, we will learn how to avoid the perils of overfitting and make a generalisable model."
      ]
    },
    {
      "cell_type": "markdown",
      "metadata": {
        "id": "cWQy3TsbPV2W"
      },
      "source": [
        "Lets start off with a quick recap of simple linear regression. In the first example. we will try to model sales of an online retailer with the help of the marketing spend. Lets see how we go about it"
      ]
    },
    {
      "cell_type": "code",
      "execution_count": 1,
      "metadata": {
        "id": "VdA4-7WU1iil"
      },
      "outputs": [],
      "source": [
        "# importing the requisite libraries\n",
        "\n",
        "import numpy as np\n",
        "import pandas as pd\n",
        "import matplotlib.pyplot as plt\n",
        "import seaborn as sns\n",
        "from sklearn.linear_model import LinearRegression\n",
        "from sklearn.metrics import r2_score, mean_squared_error\n",
        "\n",
        "import warnings\n",
        "warnings.filterwarnings('ignore')\n"
      ]
    },
    {
      "cell_type": "markdown",
      "metadata": {
        "id": "RLXIuxCrmee3"
      },
      "source": [
        "### 1.1 Simple Linear Regression"
      ]
    },
    {
      "cell_type": "markdown",
      "metadata": {
        "id": "Itaw8n9i26ay"
      },
      "source": [
        "#### We will build a model using TV spend on advertisements to predict sales"
      ]
    },
    {
      "cell_type": "code",
      "execution_count": 2,
      "metadata": {
        "id": "S1xgV8ct3Sev"
      },
      "outputs": [],
      "source": [
        "# Reading the dataset\n",
        "\n",
        "url = 'https://raw.githubusercontent.com/ramrajv/Upgrad_Pt_2/main/AdvLR/advertising.csv'\n",
        "\n",
        "df = pd.read_csv(url)"
      ]
    },
    {
      "cell_type": "code",
      "execution_count": 4,
      "metadata": {
        "colab": {
          "base_uri": "https://localhost:8080/"
        },
        "id": "QvemyN_NTXpQ",
        "outputId": "c658fb27-e594-4c5b-b270-13b95da60307"
      },
      "outputs": [
        {
          "output_type": "stream",
          "name": "stdout",
          "text": [
            "<class 'pandas.core.frame.DataFrame'>\n",
            "RangeIndex: 200 entries, 0 to 199\n",
            "Data columns (total 5 columns):\n",
            " #   Column      Non-Null Count  Dtype  \n",
            "---  ------      --------------  -----  \n",
            " 0   Unnamed: 0  200 non-null    int64  \n",
            " 1   TV          200 non-null    float64\n",
            " 2   Radio       200 non-null    float64\n",
            " 3   Newspaper   200 non-null    float64\n",
            " 4   Sales       200 non-null    float64\n",
            "dtypes: float64(4), int64(1)\n",
            "memory usage: 7.9 KB\n"
          ]
        }
      ],
      "source": [
        "df.info()"
      ]
    },
    {
      "cell_type": "code",
      "execution_count": 5,
      "metadata": {
        "colab": {
          "base_uri": "https://localhost:8080/",
          "height": 206
        },
        "id": "j7hsO1-BmpjX",
        "outputId": "787b3654-93b7-4e44-c006-771fc0a38eaa"
      },
      "outputs": [
        {
          "output_type": "execute_result",
          "data": {
            "text/plain": [
              "      TV  Sales\n",
              "0  230.1   22.1\n",
              "1   44.5   10.4\n",
              "2   17.2   12.0\n",
              "3  151.5   16.5\n",
              "4  180.8   17.9"
            ],
            "text/html": [
              "\n",
              "  <div id=\"df-9b27dfc2-ca74-48c7-b16d-3183b14353ce\">\n",
              "    <div class=\"colab-df-container\">\n",
              "      <div>\n",
              "<style scoped>\n",
              "    .dataframe tbody tr th:only-of-type {\n",
              "        vertical-align: middle;\n",
              "    }\n",
              "\n",
              "    .dataframe tbody tr th {\n",
              "        vertical-align: top;\n",
              "    }\n",
              "\n",
              "    .dataframe thead th {\n",
              "        text-align: right;\n",
              "    }\n",
              "</style>\n",
              "<table border=\"1\" class=\"dataframe\">\n",
              "  <thead>\n",
              "    <tr style=\"text-align: right;\">\n",
              "      <th></th>\n",
              "      <th>TV</th>\n",
              "      <th>Sales</th>\n",
              "    </tr>\n",
              "  </thead>\n",
              "  <tbody>\n",
              "    <tr>\n",
              "      <th>0</th>\n",
              "      <td>230.1</td>\n",
              "      <td>22.1</td>\n",
              "    </tr>\n",
              "    <tr>\n",
              "      <th>1</th>\n",
              "      <td>44.5</td>\n",
              "      <td>10.4</td>\n",
              "    </tr>\n",
              "    <tr>\n",
              "      <th>2</th>\n",
              "      <td>17.2</td>\n",
              "      <td>12.0</td>\n",
              "    </tr>\n",
              "    <tr>\n",
              "      <th>3</th>\n",
              "      <td>151.5</td>\n",
              "      <td>16.5</td>\n",
              "    </tr>\n",
              "    <tr>\n",
              "      <th>4</th>\n",
              "      <td>180.8</td>\n",
              "      <td>17.9</td>\n",
              "    </tr>\n",
              "  </tbody>\n",
              "</table>\n",
              "</div>\n",
              "      <button class=\"colab-df-convert\" onclick=\"convertToInteractive('df-9b27dfc2-ca74-48c7-b16d-3183b14353ce')\"\n",
              "              title=\"Convert this dataframe to an interactive table.\"\n",
              "              style=\"display:none;\">\n",
              "        \n",
              "  <svg xmlns=\"http://www.w3.org/2000/svg\" height=\"24px\"viewBox=\"0 0 24 24\"\n",
              "       width=\"24px\">\n",
              "    <path d=\"M0 0h24v24H0V0z\" fill=\"none\"/>\n",
              "    <path d=\"M18.56 5.44l.94 2.06.94-2.06 2.06-.94-2.06-.94-.94-2.06-.94 2.06-2.06.94zm-11 1L8.5 8.5l.94-2.06 2.06-.94-2.06-.94L8.5 2.5l-.94 2.06-2.06.94zm10 10l.94 2.06.94-2.06 2.06-.94-2.06-.94-.94-2.06-.94 2.06-2.06.94z\"/><path d=\"M17.41 7.96l-1.37-1.37c-.4-.4-.92-.59-1.43-.59-.52 0-1.04.2-1.43.59L10.3 9.45l-7.72 7.72c-.78.78-.78 2.05 0 2.83L4 21.41c.39.39.9.59 1.41.59.51 0 1.02-.2 1.41-.59l7.78-7.78 2.81-2.81c.8-.78.8-2.07 0-2.86zM5.41 20L4 18.59l7.72-7.72 1.47 1.35L5.41 20z\"/>\n",
              "  </svg>\n",
              "      </button>\n",
              "      \n",
              "  <style>\n",
              "    .colab-df-container {\n",
              "      display:flex;\n",
              "      flex-wrap:wrap;\n",
              "      gap: 12px;\n",
              "    }\n",
              "\n",
              "    .colab-df-convert {\n",
              "      background-color: #E8F0FE;\n",
              "      border: none;\n",
              "      border-radius: 50%;\n",
              "      cursor: pointer;\n",
              "      display: none;\n",
              "      fill: #1967D2;\n",
              "      height: 32px;\n",
              "      padding: 0 0 0 0;\n",
              "      width: 32px;\n",
              "    }\n",
              "\n",
              "    .colab-df-convert:hover {\n",
              "      background-color: #E2EBFA;\n",
              "      box-shadow: 0px 1px 2px rgba(60, 64, 67, 0.3), 0px 1px 3px 1px rgba(60, 64, 67, 0.15);\n",
              "      fill: #174EA6;\n",
              "    }\n",
              "\n",
              "    [theme=dark] .colab-df-convert {\n",
              "      background-color: #3B4455;\n",
              "      fill: #D2E3FC;\n",
              "    }\n",
              "\n",
              "    [theme=dark] .colab-df-convert:hover {\n",
              "      background-color: #434B5C;\n",
              "      box-shadow: 0px 1px 3px 1px rgba(0, 0, 0, 0.15);\n",
              "      filter: drop-shadow(0px 1px 2px rgba(0, 0, 0, 0.3));\n",
              "      fill: #FFFFFF;\n",
              "    }\n",
              "  </style>\n",
              "\n",
              "      <script>\n",
              "        const buttonEl =\n",
              "          document.querySelector('#df-9b27dfc2-ca74-48c7-b16d-3183b14353ce button.colab-df-convert');\n",
              "        buttonEl.style.display =\n",
              "          google.colab.kernel.accessAllowed ? 'block' : 'none';\n",
              "\n",
              "        async function convertToInteractive(key) {\n",
              "          const element = document.querySelector('#df-9b27dfc2-ca74-48c7-b16d-3183b14353ce');\n",
              "          const dataTable =\n",
              "            await google.colab.kernel.invokeFunction('convertToInteractive',\n",
              "                                                     [key], {});\n",
              "          if (!dataTable) return;\n",
              "\n",
              "          const docLinkHtml = 'Like what you see? Visit the ' +\n",
              "            '<a target=\"_blank\" href=https://colab.research.google.com/notebooks/data_table.ipynb>data table notebook</a>'\n",
              "            + ' to learn more about interactive tables.';\n",
              "          element.innerHTML = '';\n",
              "          dataTable['output_type'] = 'display_data';\n",
              "          await google.colab.output.renderOutput(dataTable, element);\n",
              "          const docLink = document.createElement('div');\n",
              "          docLink.innerHTML = docLinkHtml;\n",
              "          element.appendChild(docLink);\n",
              "        }\n",
              "      </script>\n",
              "    </div>\n",
              "  </div>\n",
              "  "
            ]
          },
          "metadata": {},
          "execution_count": 5
        }
      ],
      "source": [
        "data = df[[\"TV\", \"Sales\"]]\n",
        "data.head()"
      ]
    },
    {
      "cell_type": "code",
      "execution_count": 6,
      "metadata": {
        "colab": {
          "base_uri": "https://localhost:8080/",
          "height": 297
        },
        "id": "lqEh0unm4Mtu",
        "outputId": "95284ea6-ad6f-4105-f567-86f71724d68c"
      },
      "outputs": [
        {
          "output_type": "execute_result",
          "data": {
            "text/plain": [
              "<matplotlib.axes._subplots.AxesSubplot at 0x7f2c1d879c50>"
            ]
          },
          "metadata": {},
          "execution_count": 6
        },
        {
          "output_type": "display_data",
          "data": {
            "text/plain": [
              "<Figure size 432x288 with 1 Axes>"
            ],
            "image/png": "[encoded data removed]"
          },
          "metadata": {
            "needs_background": "light"
          }
        }
      ],
      "source": [
        "# Plotting a scatter plot\n",
        "\n",
        "sns.scatterplot( data = data , x = 'TV' , y = 'Sales')"
      ]
    },
    {
      "cell_type": "markdown",
      "metadata": {
        "id": "1q4YGqIH4Mt0"
      },
      "source": [
        "As you can infer from the above plot, the relationship between the two variables seems to be linear."
      ]
    },
    {
      "cell_type": "code",
      "execution_count": 7,
      "metadata": {
        "id": "YvfGT9qB4Mt0"
      },
      "outputs": [],
      "source": [
        "# Splitting the dataset into X and y\n",
        "\n",
        "X = np.array(data['TV']).reshape(-1,1) # predictor variable\n",
        "y = np.array(data['Sales']).reshape(-1,1) # response variable"
      ]
    },
    {
      "cell_type": "code",
      "execution_count": 8,
      "metadata": {
        "colab": {
          "base_uri": "https://localhost:8080/"
        },
        "id": "zRL8EyJy4Mt3",
        "outputId": "c7266583-1067-4579-9fe1-cb1b429724a6"
      },
      "outputs": [
        {
          "output_type": "execute_result",
          "data": {
            "text/plain": [
              "LinearRegression()"
            ]
          },
          "metadata": {},
          "execution_count": 8
        }
      ],
      "source": [
        "# Building the regression model\n",
        "reg = LinearRegression()\n",
        "reg.fit(X,y)"
      ]
    },
    {
      "cell_type": "code",
      "execution_count": 9,
      "metadata": {
        "id": "pK0ZEIO74Mt6"
      },
      "outputs": [],
      "source": [
        "# Predictions on the basis of the model\n",
        "y_pred = reg.predict(X)\n",
        "# y_pred"
      ]
    },
    {
      "cell_type": "code",
      "execution_count": 10,
      "metadata": {
        "colab": {
          "base_uri": "https://localhost:8080/"
        },
        "id": "sYPVxiBK4Mt9",
        "outputId": "bed43c6c-1e50-4343-e9d0-7b71a7e12008"
      },
      "outputs": [
        {
          "output_type": "execute_result",
          "data": {
            "text/plain": [
              "0.8121757029987414"
            ]
          },
          "metadata": {},
          "execution_count": 10
        }
      ],
      "source": [
        "# Find the value of r squared\n",
        "r2_score(y , y_pred)\n",
        "# The advertising spends on TV explain about 81.21% of the variation in the Sales"
      ]
    },
    {
      "cell_type": "code",
      "execution_count": 11,
      "metadata": {
        "colab": {
          "base_uri": "https://localhost:8080/",
          "height": 279
        },
        "id": "3Udh-iIC4MuB",
        "outputId": "3d04bdc1-7100-4715-f34a-4e130883376e"
      },
      "outputs": [
        {
          "output_type": "display_data",
          "data": {
            "text/plain": [
              "<Figure size 432x288 with 1 Axes>"
            ],
            "image/png": "[encoded data removed]"
          },
          "metadata": {
            "needs_background": "light"
          }
        }
      ],
      "source": [
        "# Visualizing the model fit\n",
        "plt.scatter( X , y , color = 'blue')\n",
        "plt.plot(X , y_pred , color = 'red' , linewidth = 3)\n",
        "plt.xlabel(\"TV (Million $)\")\n",
        "plt.ylabel(\"Sales (Million $)\")\n",
        "plt.show()"
      ]
    },
    {
      "cell_type": "code",
      "execution_count": 12,
      "metadata": {
        "colab": {
          "base_uri": "https://localhost:8080/"
        },
        "id": "58u4eynH4MuH",
        "outputId": "591de411-553f-412b-f5b9-6ae39ef8f3e9"
      },
      "outputs": [
        {
          "output_type": "stream",
          "name": "stdout",
          "text": [
            "[6.97482149]\n",
            "[[0.05546477]]\n"
          ]
        }
      ],
      "source": [
        "# Model Coefficients: beta0 and beta1\n",
        "print(reg.intercept_)\n",
        "print(reg.coef_)"
      ]
    },
    {
      "cell_type": "code",
      "execution_count": 13,
      "metadata": {
        "colab": {
          "base_uri": "https://localhost:8080/"
        },
        "id": "TAQv59Wa4MuJ",
        "outputId": "62cc673b-33c4-472c-eaa1-c31076b5b4c6"
      },
      "outputs": [
        {
          "output_type": "stream",
          "name": "stdout",
          "text": [
            "1043.5487795590257\n",
            "5.2177438977951285\n",
            "2.2842381438447106\n"
          ]
        }
      ],
      "source": [
        "# Metrics to assess model performance \n",
        "rss = np.sum(np.square(y - y_pred)) # sum of the squared difference between the actual and the predicted values\n",
        "print(rss)\n",
        "mse = mean_squared_error(y, y_pred) # MSE is RSS divided by the number of observations\n",
        "print(mse)\n",
        "rmse = mse**0.5 # RMSE is square root of MSE \n",
        "print(rmse)"
      ]
    },
    {
      "cell_type": "markdown",
      "metadata": {
        "id": "KTWZu-OGmpja"
      },
      "source": [
        "#### Checking for assumptions"
      ]
    },
    {
      "cell_type": "code",
      "execution_count": 14,
      "metadata": {
        "id": "eXCl-vtJ4MuM"
      },
      "outputs": [],
      "source": [
        "# Residual analysis\n",
        "y_res = y - y_pred # Residuals"
      ]
    },
    {
      "cell_type": "code",
      "execution_count": 15,
      "metadata": {
        "colab": {
          "base_uri": "https://localhost:8080/",
          "height": 279
        },
        "id": "nOQV3CfY4MuT",
        "outputId": "1164bca2-644c-4202-b4a5-ee6c5c7f8de3"
      },
      "outputs": [
        {
          "output_type": "display_data",
          "data": {
            "text/plain": [
              "<Figure size 432x288 with 1 Axes>"
            ],
            "image/png": "[encoded data removed]"
          },
          "metadata": {
            "needs_background": "light"
          }
        }
      ],
      "source": [
        "# Residual v/s predictions plot\n",
        "data['res'] = y_res\n",
        "plt.scatter( y_pred , data['res'])\n",
        "plt.axhline(y=0, color='r', linestyle=':')\n",
        "plt.xlabel(\"TV Spend (Million $)\")\n",
        "plt.ylabel(\"Residual\")\n",
        "plt.show()"
      ]
    },
    {
      "cell_type": "code",
      "execution_count": 16,
      "metadata": {
        "colab": {
          "base_uri": "https://localhost:8080/",
          "height": 295
        },
        "id": "9nsuKqbL4MuX",
        "outputId": "5403f3a6-0d7f-416c-cd5d-1d66541713cc"
      },
      "outputs": [
        {
          "output_type": "display_data",
          "data": {
            "text/plain": [
              "<Figure size 432x288 with 1 Axes>"
            ],
            "image/png": "[encoded data removed]"
          },
          "metadata": {
            "needs_background": "light"
          }
        }
      ],
      "source": [
        "# Distribution of errors\n",
        "p = sns.distplot(y_res,kde=True)\n",
        "\n",
        "p = plt.title('Normality of error terms/residuals')\n",
        "plt.xlabel(\"Residuals\")\n",
        "plt.show()"
      ]
    },
    {
      "cell_type": "code",
      "execution_count": null,
      "metadata": {
        "id": "4NIf224Impjb"
      },
      "outputs": [],
      "source": [
        ""
      ]
    },
    {
      "cell_type": "code",
      "execution_count": null,
      "metadata": {
        "id": "ImLJRnAmmpjb"
      },
      "outputs": [],
      "source": [
        ""
      ]
    },
    {
      "cell_type": "code",
      "execution_count": null,
      "metadata": {
        "id": "v-xKWGWLmpjb"
      },
      "outputs": [],
      "source": [
        ""
      ]
    },
    {
      "cell_type": "code",
      "execution_count": null,
      "metadata": {
        "id": "5_XBPWJ4mpjb"
      },
      "outputs": [],
      "source": [
        ""
      ]
    },
    {
      "cell_type": "code",
      "execution_count": null,
      "metadata": {
        "id": "Eba7g22Rmpjb"
      },
      "outputs": [],
      "source": [
        ""
      ]
    },
    {
      "cell_type": "code",
      "execution_count": null,
      "metadata": {
        "id": "vMTIxIsfmpjb"
      },
      "outputs": [],
      "source": [
        ""
      ]
    },
    {
      "cell_type": "code",
      "execution_count": null,
      "metadata": {
        "id": "x-yLtYkUmpjc"
      },
      "outputs": [],
      "source": [
        ""
      ]
    },
    {
      "cell_type": "code",
      "execution_count": null,
      "metadata": {
        "id": "b5lgS5C6mpjc"
      },
      "outputs": [],
      "source": [
        ""
      ]
    },
    {
      "cell_type": "code",
      "execution_count": null,
      "metadata": {
        "id": "xF_phXQQmpjc"
      },
      "outputs": [],
      "source": [
        ""
      ]
    },
    {
      "cell_type": "markdown",
      "metadata": {
        "id": "4INVAOzkKBgn"
      },
      "source": [
        "### Normal Equations\n",
        "\n",
        "#### Regression Equation\n",
        "$\\hat{y_i} = b_{0} + b_{1}{x_i}$<br>\n",
        "where slope of trend line is calculated as:<br>\n",
        "$b_{1}=\\frac{\\sum (x_i-\\bar{x})*(y_i-\\bar{y})}{\\sum (x_i-\\bar{x})^{2}}$<br>\n",
        "and the intercept is computed as:<br>\n",
        "$b_{0}=\\bar{y}-b_{1}\\bar{x}$"
      ]
    },
    {
      "cell_type": "code",
      "execution_count": 17,
      "metadata": {
        "id": "HvPFFcOdtALQ"
      },
      "outputs": [],
      "source": [
        "# Computing X and Y\n",
        "X = data['TV'].values # advertising spend on TV\n",
        "Y = data['Sales'].values # Sales"
      ]
    },
    {
      "cell_type": "code",
      "execution_count": 18,
      "metadata": {
        "id": "6-v1ghJMJWRe"
      },
      "outputs": [],
      "source": [
        "# Mean X and Y\n",
        "mean_x = np.mean(X)\n",
        "mean_y = np.mean(Y)\n",
        " \n",
        "# Total number of values\n",
        "n = len(X)"
      ]
    },
    {
      "cell_type": "code",
      "execution_count": 19,
      "metadata": {
        "colab": {
          "base_uri": "https://localhost:8080/"
        },
        "id": "iM-mh5gyJX9h",
        "outputId": "a76a9b40-ab83-4c53-e809-910ee3458e80"
      },
      "outputs": [
        {
          "output_type": "stream",
          "name": "stdout",
          "text": [
            "Coefficients\n",
            "6.974821488229903 0.05546477046955879\n"
          ]
        }
      ],
      "source": [
        "# Using the formula to calculate 'b0' and 'b1'\n",
        "numer = 0\n",
        "denom = 0\n",
        "for i in range(n): # for each observation in the data\n",
        "  numer += (X[i] - mean_x) * (Y[i] - mean_y) # compute the expression and sum over all observations using for loop\n",
        "  denom += (X[i] - mean_x) ** 2\n",
        "b1 = numer / denom\n",
        "b0 = mean_y - (b1 * mean_x)\n",
        " \n",
        "# Printing coefficients\n",
        "print(\"Coefficients\")\n",
        "print(b0, b1)"
      ]
    },
    {
      "cell_type": "markdown",
      "metadata": {
        "id": "O-cQ6OnvKM44"
      },
      "source": [
        "### Linear Regression Model Estimates using Matrix Multiplications\n",
        "\n",
        "$\\widehat{\\beta}=(X^{T}.X)^{-1}.X^{T}.Y$"
      ]
    },
    {
      "cell_type": "code",
      "execution_count": 20,
      "metadata": {
        "id": "pCotKXTvKM5L"
      },
      "outputs": [],
      "source": [
        "# We use NumPy’s vstack to create a 2-d numpy array from two 1d-arrays and create X_mat.\n",
        "X_mat=np.vstack((np.ones(len(X)), X)).T"
      ]
    },
    {
      "cell_type": "code",
      "execution_count": 21,
      "metadata": {
        "colab": {
          "base_uri": "https://localhost:8080/"
        },
        "id": "_qn0nVvcmpjd",
        "outputId": "5ce7ebf9-d8be-4eb1-e2f0-8d9738b4f05a"
      },
      "outputs": [
        {
          "output_type": "execute_result",
          "data": {
            "text/plain": [
              "array([[  1. , 230.1],\n",
              "       [  1. ,  44.5],\n",
              "       [  1. ,  17.2],\n",
              "       [  1. , 151.5],\n",
              "       [  1. , 180.8],\n",
              "       [  1. ,   8.7],\n",
              "       [  1. ,  57.5],\n",
              "       [  1. , 120.2],\n",
              "       [  1. ,   8.6],\n",
              "       [  1. , 199.8],\n",
              "       [  1. ,  66.1],\n",
              "       [  1. , 214.7],\n",
              "       [  1. ,  23.8],\n",
              "       [  1. ,  97.5],\n",
              "       [  1. , 204.1],\n",
              "       [  1. , 195.4],\n",
              "       [  1. ,  67.8],\n",
              "       [  1. , 281.4],\n",
              "       [  1. ,  69.2],\n",
              "       [  1. , 147.3],\n",
              "       [  1. , 218.4],\n",
              "       [  1. , 237.4],\n",
              "       [  1. ,  13.2],\n",
              "       [  1. , 228.3],\n",
              "       [  1. ,  62.3],\n",
              "       [  1. , 262.9],\n",
              "       [  1. , 142.9],\n",
              "       [  1. , 240.1],\n",
              "       [  1. , 248.8],\n",
              "       [  1. ,  70.6],\n",
              "       [  1. , 292.9],\n",
              "       [  1. , 112.9],\n",
              "       [  1. ,  97.2],\n",
              "       [  1. , 265.6],\n",
              "       [  1. ,  95.7],\n",
              "       [  1. , 290.7],\n",
              "       [  1. , 266.9],\n",
              "       [  1. ,  74.7],\n",
              "       [  1. ,  43.1],\n",
              "       [  1. , 228. ],\n",
              "       [  1. , 202.5],\n",
              "       [  1. , 177. ],\n",
              "       [  1. , 293.6],\n",
              "       [  1. , 206.9],\n",
              "       [  1. ,  25.1],\n",
              "       [  1. , 175.1],\n",
              "       [  1. ,  89.7],\n",
              "       [  1. , 239.9],\n",
              "       [  1. , 227.2],\n",
              "       [  1. ,  66.9],\n",
              "       [  1. , 199.8],\n",
              "       [  1. , 100.4],\n",
              "       [  1. , 216.4],\n",
              "       [  1. , 182.6],\n",
              "       [  1. , 262.7],\n",
              "       [  1. , 198.9],\n",
              "       [  1. ,   7.3],\n",
              "       [  1. , 136.2],\n",
              "       [  1. , 210.8],\n",
              "       [  1. , 210.7],\n",
              "       [  1. ,  53.5],\n",
              "       [  1. , 261.3],\n",
              "       [  1. , 239.3],\n",
              "       [  1. , 102.7],\n",
              "       [  1. , 131.1],\n",
              "       [  1. ,  69. ],\n",
              "       [  1. ,  31.5],\n",
              "       [  1. , 139.3],\n",
              "       [  1. , 237.4],\n",
              "       [  1. , 216.8],\n",
              "       [  1. , 199.1],\n",
              "       [  1. , 109.8],\n",
              "       [  1. ,  26.8],\n",
              "       [  1. , 129.4],\n",
              "       [  1. , 213.4],\n",
              "       [  1. ,  16.9],\n",
              "       [  1. ,  27.5],\n",
              "       [  1. , 120.5],\n",
              "       [  1. ,   5.4],\n",
              "       [  1. , 116. ],\n",
              "       [  1. ,  76.4],\n",
              "       [  1. , 239.8],\n",
              "       [  1. ,  75.3],\n",
              "       [  1. ,  68.4],\n",
              "       [  1. , 213.5],\n",
              "       [  1. , 193.2],\n",
              "       [  1. ,  76.3],\n",
              "       [  1. , 110.7],\n",
              "       [  1. ,  88.3],\n",
              "       [  1. , 109.8],\n",
              "       [  1. , 134.3],\n",
              "       [  1. ,  28.6],\n",
              "       [  1. , 217.7],\n",
              "       [  1. , 250.9],\n",
              "       [  1. , 107.4],\n",
              "       [  1. , 163.3],\n",
              "       [  1. , 197.6],\n",
              "       [  1. , 184.9],\n",
              "       [  1. , 289.7],\n",
              "       [  1. , 135.2],\n",
              "       [  1. , 222.4],\n",
              "       [  1. , 296.4],\n",
              "       [  1. , 280.2],\n",
              "       [  1. , 187.9],\n",
              "       [  1. , 238.2],\n",
              "       [  1. , 137.9],\n",
              "       [  1. ,  25. ],\n",
              "       [  1. ,  90.4],\n",
              "       [  1. ,  13.1],\n",
              "       [  1. , 255.4],\n",
              "       [  1. , 225.8],\n",
              "       [  1. , 241.7],\n",
              "       [  1. , 175.7],\n",
              "       [  1. , 209.6],\n",
              "       [  1. ,  78.2],\n",
              "       [  1. ,  75.1],\n",
              "       [  1. , 139.2],\n",
              "       [  1. ,  76.4],\n",
              "       [  1. , 125.7],\n",
              "       [  1. ,  19.4],\n",
              "       [  1. , 141.3],\n",
              "       [  1. ,  18.8],\n",
              "       [  1. , 224. ],\n",
              "       [  1. , 123.1],\n",
              "       [  1. , 229.5],\n",
              "       [  1. ,  87.2],\n",
              "       [  1. ,   7.8],\n",
              "       [  1. ,  80.2],\n",
              "       [  1. , 220.3],\n",
              "       [  1. ,  59.6],\n",
              "       [  1. ,   0.7],\n",
              "       [  1. , 265.2],\n",
              "       [  1. ,   8.4],\n",
              "       [  1. , 219.8],\n",
              "       [  1. ,  36.9],\n",
              "       [  1. ,  48.3],\n",
              "       [  1. ,  25.6],\n",
              "       [  1. , 273.7],\n",
              "       [  1. ,  43. ],\n",
              "       [  1. , 184.9],\n",
              "       [  1. ,  73.4],\n",
              "       [  1. , 193.7],\n",
              "       [  1. , 220.5],\n",
              "       [  1. , 104.6],\n",
              "       [  1. ,  96.2],\n",
              "       [  1. , 140.3],\n",
              "       [  1. , 240.1],\n",
              "       [  1. , 243.2],\n",
              "       [  1. ,  38. ],\n",
              "       [  1. ,  44.7],\n",
              "       [  1. , 280.7],\n",
              "       [  1. , 121. ],\n",
              "       [  1. , 197.6],\n",
              "       [  1. , 171.3],\n",
              "       [  1. , 187.8],\n",
              "       [  1. ,   4.1],\n",
              "       [  1. ,  93.9],\n",
              "       [  1. , 149.8],\n",
              "       [  1. ,  11.7],\n",
              "       [  1. , 131.7],\n",
              "       [  1. , 172.5],\n",
              "       [  1. ,  85.7],\n",
              "       [  1. , 188.4],\n",
              "       [  1. , 163.5],\n",
              "       [  1. , 117.2],\n",
              "       [  1. , 234.5],\n",
              "       [  1. ,  17.9],\n",
              "       [  1. , 206.8],\n",
              "       [  1. , 215.4],\n",
              "       [  1. , 284.3],\n",
              "       [  1. ,  50. ],\n",
              "       [  1. , 164.5],\n",
              "       [  1. ,  19.6],\n",
              "       [  1. , 168.4],\n",
              "       [  1. , 222.4],\n",
              "       [  1. , 276.9],\n",
              "       [  1. , 248.4],\n",
              "       [  1. , 170.2],\n",
              "       [  1. , 276.7],\n",
              "       [  1. , 165.6],\n",
              "       [  1. , 156.6],\n",
              "       [  1. , 218.5],\n",
              "       [  1. ,  56.2],\n",
              "       [  1. , 287.6],\n",
              "       [  1. , 253.8],\n",
              "       [  1. , 205. ],\n",
              "       [  1. , 139.5],\n",
              "       [  1. , 191.1],\n",
              "       [  1. , 286. ],\n",
              "       [  1. ,  18.7],\n",
              "       [  1. ,  39.5],\n",
              "       [  1. ,  75.5],\n",
              "       [  1. ,  17.2],\n",
              "       [  1. , 166.8],\n",
              "       [  1. , 149.7],\n",
              "       [  1. ,  38.2],\n",
              "       [  1. ,  94.2],\n",
              "       [  1. , 177. ],\n",
              "       [  1. , 283.6],\n",
              "       [  1. , 232.1]])"
            ]
          },
          "metadata": {},
          "execution_count": 21
        }
      ],
      "source": [
        "X_mat"
      ]
    },
    {
      "cell_type": "code",
      "execution_count": 22,
      "metadata": {
        "colab": {
          "base_uri": "https://localhost:8080/"
        },
        "id": "Exi4eXEtmpjd",
        "outputId": "1caaddde-0bc4-4c92-9434-3f18c4cd3971"
      },
      "outputs": [
        {
          "output_type": "execute_result",
          "data": {
            "text/plain": [
              "array([22.1, 10.4, 12. , 16.5, 17.9,  7.2, 11.8, 13.2,  4.8, 15.6, 12.6,\n",
              "       17.4,  9.2, 13.7, 19. , 22.4, 12.5, 24.4, 11.3, 14.6, 18. , 17.5,\n",
              "        5.6, 20.5,  9.7, 17. , 15. , 20.9, 18.9, 10.5, 21.4, 11.9, 13.2,\n",
              "       17.4, 11.9, 17.8, 25.4, 14.7, 10.1, 21.5, 16.6, 17.1, 20.7, 17.9,\n",
              "        8.5, 16.1, 10.6, 23.2, 19.8,  9.7, 16.4, 10.7, 22.6, 21.2, 20.2,\n",
              "       23.7,  5.5, 13.2, 23.8, 18.4,  8.1, 24.2, 20.7, 14. , 16. , 11.3,\n",
              "       11. , 13.4, 18.9, 22.3, 18.3, 12.4,  8.8, 11. , 17. ,  8.7,  6.9,\n",
              "       14.2,  5.3, 11. , 11.8, 17.3, 11.3, 13.6, 21.7, 20.2, 12. , 16. ,\n",
              "       12.9, 16.7, 14. ,  7.3, 19.4, 22.2, 11.5, 16.9, 16.7, 20.5, 25.4,\n",
              "       17.2, 16.7, 23.8, 19.8, 19.7, 20.7, 15. ,  7.2, 12. ,  5.3, 19.8,\n",
              "       18.4, 21.8, 17.1, 20.9, 14.6, 12.6, 12.2,  9.4, 15.9,  6.6, 15.5,\n",
              "        7. , 16.6, 15.2, 19.7, 10.6,  6.6, 11.9, 24.7,  9.7,  1.6, 17.7,\n",
              "        5.7, 19.6, 10.8, 11.6,  9.5, 20.8,  9.6, 20.7, 10.9, 19.2, 20.1,\n",
              "       10.4, 12.3, 10.3, 18.2, 25.4, 10.9, 10.1, 16.1, 11.6, 16.6, 16. ,\n",
              "       20.6,  3.2, 15.3, 10.1,  7.3, 12.9, 16.4, 13.3, 19.9, 18. , 11.9,\n",
              "       16.9,  8. , 17.2, 17.1, 20. ,  8.4, 17.5,  7.6, 16.7, 16.5, 27. ,\n",
              "       20.2, 16.7, 16.8, 17.6, 15.5, 17.2,  8.7, 26.2, 17.6, 22.6, 10.3,\n",
              "       17.3, 20.9,  6.7, 10.8, 11.9,  5.9, 19.6, 17.3,  7.6, 14. , 14.8,\n",
              "       25.5, 18.4])"
            ]
          },
          "metadata": {},
          "execution_count": 22
        }
      ],
      "source": [
        "Y"
      ]
    },
    {
      "cell_type": "markdown",
      "metadata": {
        "id": "sYSk3nkXmpjd"
      },
      "source": [
        "$\\widehat{\\beta}=(X^{T}.X)^{-1}.X^{T}.Y$"
      ]
    },
    {
      "cell_type": "code",
      "execution_count": 23,
      "metadata": {
        "id": "QvYamwvoKM5e"
      },
      "outputs": [],
      "source": [
        "# We can implement this using NumPy’s linalg module’s matrix inverse function and matrix multiplication function.\n",
        "beta_hat = np.linalg.inv(X_mat.T.dot(X_mat)).dot(X_mat.T).dot(Y)"
      ]
    },
    {
      "cell_type": "code",
      "execution_count": 24,
      "metadata": {
        "colab": {
          "base_uri": "https://localhost:8080/"
        },
        "id": "vKAfauQbKM5l",
        "outputId": "dbdde947-d3e7-4292-9c8c-51f4a0649dd4"
      },
      "outputs": [
        {
          "output_type": "execute_result",
          "data": {
            "text/plain": [
              "array([6.97482149, 0.05546477])"
            ]
          },
          "metadata": {},
          "execution_count": 24
        }
      ],
      "source": [
        "beta_hat"
      ]
    },
    {
      "cell_type": "code",
      "execution_count": null,
      "metadata": {
        "id": "pNxjlDTgmpje"
      },
      "outputs": [],
      "source": [
        ""
      ]
    },
    {
      "cell_type": "code",
      "execution_count": null,
      "metadata": {
        "id": "XGTlc67Ympje"
      },
      "outputs": [],
      "source": [
        ""
      ]
    },
    {
      "cell_type": "code",
      "execution_count": null,
      "metadata": {
        "id": "6zmj2Ym_mpje"
      },
      "outputs": [],
      "source": [
        ""
      ]
    },
    {
      "cell_type": "code",
      "execution_count": null,
      "metadata": {
        "id": "P_R-Jiz9mpje"
      },
      "outputs": [],
      "source": [
        ""
      ]
    },
    {
      "cell_type": "code",
      "execution_count": null,
      "metadata": {
        "id": "iL_jW-N-mpje"
      },
      "outputs": [],
      "source": [
        ""
      ]
    },
    {
      "cell_type": "code",
      "execution_count": null,
      "metadata": {
        "id": "5y3KsbAWmpje"
      },
      "outputs": [],
      "source": [
        ""
      ]
    },
    {
      "cell_type": "markdown",
      "metadata": {
        "id": "Ts_s172rmjBA"
      },
      "source": [
        "### 1.2 Multiple Linear Regression\n"
      ]
    },
    {
      "cell_type": "markdown",
      "metadata": {
        "id": "ud3Gp7DPrNOf"
      },
      "source": [
        "#### We predict the sales based on the expenditure on TV, Radio and Newspaper advertisements"
      ]
    },
    {
      "cell_type": "code",
      "execution_count": 25,
      "metadata": {
        "id": "HRkxl_hTubB3"
      },
      "outputs": [],
      "source": [
        "# Reading the dataset\n",
        "df = pd.read_csv('https://cdn.upgrad.com/UpGrad/temp/098bb2e9-83fb-48df-9dd1-fac56fbb25ca/advertising.csv')"
      ]
    },
    {
      "cell_type": "code",
      "execution_count": 26,
      "metadata": {
        "colab": {
          "base_uri": "https://localhost:8080/"
        },
        "id": "NgKW8ymOmpjf",
        "outputId": "57c5f619-d1ca-490a-8b20-4e590578eeb0"
      },
      "outputs": [
        {
          "output_type": "stream",
          "name": "stdout",
          "text": [
            "<class 'pandas.core.frame.DataFrame'>\n",
            "RangeIndex: 200 entries, 0 to 199\n",
            "Data columns (total 4 columns):\n",
            " #   Column     Non-Null Count  Dtype  \n",
            "---  ------     --------------  -----  \n",
            " 0   TV         200 non-null    float64\n",
            " 1   Radio      200 non-null    float64\n",
            " 2   Newspaper  200 non-null    float64\n",
            " 3   Sales      200 non-null    float64\n",
            "dtypes: float64(4)\n",
            "memory usage: 6.4 KB\n"
          ]
        }
      ],
      "source": [
        "df.info()"
      ]
    },
    {
      "cell_type": "code",
      "execution_count": 27,
      "metadata": {
        "colab": {
          "base_uri": "https://localhost:8080/"
        },
        "id": "_WgdTDpzubCA",
        "outputId": "f1a5ee4b-5579-4a55-875b-0c1decec3b37"
      },
      "outputs": [
        {
          "output_type": "stream",
          "name": "stdout",
          "text": [
            "      TV  Radio  Newspaper  Sales\n",
            "0  230.1   37.8       69.2   22.1\n",
            "1   44.5   39.3       45.1   10.4\n",
            "2   17.2   45.9       69.3   12.0\n",
            "3  151.5   41.3       58.5   16.5\n",
            "4  180.8   10.8       58.4   17.9\n"
          ]
        }
      ],
      "source": [
        "# Inspecting the dataset\n",
        "print(df.head())"
      ]
    },
    {
      "cell_type": "code",
      "execution_count": 28,
      "metadata": {
        "id": "4uITUQ79ubCE"
      },
      "outputs": [],
      "source": [
        "data  = df"
      ]
    },
    {
      "cell_type": "code",
      "execution_count": 29,
      "metadata": {
        "colab": {
          "base_uri": "https://localhost:8080/",
          "height": 0
        },
        "id": "LsovL1I7ubCH",
        "outputId": "6cc64e2c-e7fc-473b-d8e7-f8d050eba5d9"
      },
      "outputs": [
        {
          "output_type": "execute_result",
          "data": {
            "text/plain": [
              "<matplotlib.axes._subplots.AxesSubplot at 0x7f2c1838a410>"
            ]
          },
          "metadata": {},
          "execution_count": 29
        },
        {
          "output_type": "display_data",
          "data": {
            "text/plain": [
              "<Figure size 432x288 with 1 Axes>"
            ],
            "image/png": "[encoded data removed]"
          },
          "metadata": {
            "needs_background": "light"
          }
        }
      ],
      "source": [
        "# Plotting a scatter plot\n",
        "\n",
        "sns.scatterplot( data = data , x = 'TV' , y = 'Sales') # advertising spend on TV vs Sales"
      ]
    },
    {
      "cell_type": "code",
      "execution_count": 30,
      "metadata": {
        "colab": {
          "base_uri": "https://localhost:8080/",
          "height": 0
        },
        "id": "8hmtqnhXu3h2",
        "outputId": "14a34cbe-6a9c-47bb-e449-e6e7aa1460c0"
      },
      "outputs": [
        {
          "output_type": "execute_result",
          "data": {
            "text/plain": [
              "<matplotlib.axes._subplots.AxesSubplot at 0x7f2c182f4ad0>"
            ]
          },
          "metadata": {},
          "execution_count": 30
        },
        {
          "output_type": "display_data",
          "data": {
            "text/plain": [
              "<Figure size 432x288 with 1 Axes>"
            ],
            "image/png": "[encoded data removed]"
          },
          "metadata": {
            "needs_background": "light"
          }
        }
      ],
      "source": [
        "# Plotting a scatter plot\n",
        "\n",
        "sns.scatterplot( data = data , x = 'Radio' , y = 'Sales') # Advertising spend on radio versus Sales"
      ]
    },
    {
      "cell_type": "code",
      "execution_count": 31,
      "metadata": {
        "colab": {
          "base_uri": "https://localhost:8080/",
          "height": 0
        },
        "id": "gJPGW-yju87i",
        "outputId": "71c99c90-9bdf-4efe-ec66-3c232ac06e85"
      },
      "outputs": [
        {
          "output_type": "execute_result",
          "data": {
            "text/plain": [
              "<matplotlib.axes._subplots.AxesSubplot at 0x7f2c182d3a10>"
            ]
          },
          "metadata": {},
          "execution_count": 31
        },
        {
          "output_type": "display_data",
          "data": {
            "text/plain": [
              "<Figure size 432x288 with 1 Axes>"
            ],
            "image/png": "[encoded data removed]"
          },
          "metadata": {
            "needs_background": "light"
          }
        }
      ],
      "source": [
        "# Plotting a scatter plot\n",
        "\n",
        "sns.scatterplot( data = data , x = 'Newspaper' , y = 'Sales') # Advertising spend on Newspaper versus Sales"
      ]
    },
    {
      "cell_type": "code",
      "execution_count": 32,
      "metadata": {
        "id": "ybm18MPBmpjf"
      },
      "outputs": [],
      "source": [
        "# Linear Regression model"
      ]
    },
    {
      "cell_type": "code",
      "execution_count": 33,
      "metadata": {
        "id": "b1JLDnk-ubCL"
      },
      "outputs": [],
      "source": [
        "# Splitting the dataset into X and y\n",
        "X = data[['TV' , 'Newspaper', 'Radio']]\n",
        "y = np.array(data['Sales']).reshape(-1,1)"
      ]
    },
    {
      "cell_type": "code",
      "execution_count": 34,
      "metadata": {
        "colab": {
          "base_uri": "https://localhost:8080/"
        },
        "id": "lPQgkRnRubCO",
        "outputId": "ce168d59-f157-4b85-aaf6-ca293772aa34"
      },
      "outputs": [
        {
          "output_type": "execute_result",
          "data": {
            "text/plain": [
              "LinearRegression()"
            ]
          },
          "metadata": {},
          "execution_count": 34
        }
      ],
      "source": [
        "# Building the regression model\n",
        "reg = LinearRegression()\n",
        "reg.fit(X,y)"
      ]
    },
    {
      "cell_type": "code",
      "execution_count": 35,
      "metadata": {
        "id": "cgSU1I9rubCQ"
      },
      "outputs": [],
      "source": [
        "# Predictions on the basis of the model\n",
        "y_pred = reg.predict(X)\n",
        "# y_pred"
      ]
    },
    {
      "cell_type": "code",
      "execution_count": 36,
      "metadata": {
        "colab": {
          "base_uri": "https://localhost:8080/"
        },
        "id": "QAlm0hxPubCU",
        "outputId": "fb00ffb0-ec2e-4f51-cfad-743ec5daa33a"
      },
      "outputs": [
        {
          "output_type": "execute_result",
          "data": {
            "text/plain": [
              "0.9025912899684558"
            ]
          },
          "metadata": {},
          "execution_count": 36
        }
      ],
      "source": [
        "# Find the value of r squared\n",
        "r2_score(y , y_pred) # The three predictors considered explain about 90.25% of the variation in the data"
      ]
    },
    {
      "cell_type": "code",
      "execution_count": 37,
      "metadata": {
        "colab": {
          "base_uri": "https://localhost:8080/",
          "height": 0
        },
        "id": "kTiEkPPSubCZ",
        "outputId": "aea7ed36-69f2-4637-ab57-90fbc8a9e504"
      },
      "outputs": [
        {
          "output_type": "display_data",
          "data": {
            "text/plain": [
              "<Figure size 432x288 with 1 Axes>"
            ],
            "image/png": "[encoded data removed]"
          },
          "metadata": {
            "needs_background": "light"
          }
        }
      ],
      "source": [
        "# Visual comparison between predicted and actual values\n",
        "plt.scatter( X['Radio'] , y , color = 'blue') # actual values\n",
        "plt.scatter( X['Radio'] , y_pred , color = 'red' ) # predicted values\n",
        "plt.xlabel(\"Radio (Million $)\")\n",
        "plt.ylabel(\"Sales (Million $)\")\n",
        "plt.show()"
      ]
    },
    {
      "cell_type": "code",
      "execution_count": 38,
      "metadata": {
        "colab": {
          "base_uri": "https://localhost:8080/",
          "height": 0
        },
        "id": "zEr6b9EowVmd",
        "outputId": "9dd1f153-362c-41a3-86ad-8b4df0cdd324"
      },
      "outputs": [
        {
          "output_type": "display_data",
          "data": {
            "text/plain": [
              "<Figure size 432x288 with 1 Axes>"
            ],
            "image/png": "[encoded data removed]"
          },
          "metadata": {
            "needs_background": "light"
          }
        }
      ],
      "source": [
        "plt.scatter( X['TV'] , y , color = 'blue') # actual values\n",
        "plt.scatter( X['TV'] , y_pred , color = 'red' ) # predicted values\n",
        "plt.xlabel(\"TV (Million $)\")\n",
        "plt.ylabel(\"Sales (Million $)\")\n",
        "plt.show()"
      ]
    },
    {
      "cell_type": "code",
      "execution_count": 39,
      "metadata": {
        "colab": {
          "base_uri": "https://localhost:8080/",
          "height": 0
        },
        "id": "WCDIpH-qwhSO",
        "outputId": "f93cde7d-641e-446e-d4b9-4972d9e15bd8"
      },
      "outputs": [
        {
          "output_type": "display_data",
          "data": {
            "text/plain": [
              "<Figure size 432x288 with 1 Axes>"
            ],
            "image/png": "[encoded data removed]"
          },
          "metadata": {
            "needs_background": "light"
          }
        }
      ],
      "source": [
        "plt.scatter( X['Newspaper'] , y , color = 'blue') # actual values\n",
        "plt.scatter( X['Newspaper'] , y_pred , color = 'red' ) # predicted values\n",
        "plt.xlabel(\"TV (Million $)\")\n",
        "plt.ylabel(\"Newspaper (Million $)\")\n",
        "plt.show()"
      ]
    },
    {
      "cell_type": "code",
      "execution_count": 40,
      "metadata": {
        "colab": {
          "base_uri": "https://localhost:8080/"
        },
        "id": "A92ve7F3ubCe",
        "outputId": "8905628b-8c2a-468a-d7c3-4cb4038a0d82"
      },
      "outputs": [
        {
          "output_type": "stream",
          "name": "stdout",
          "text": [
            "[4.62512408]\n",
            "[[0.05444578 0.00033566 0.10700123]]\n"
          ]
        }
      ],
      "source": [
        "# Calculate beta coefficients.\n",
        "print(reg.intercept_)\n",
        "print(reg.coef_)"
      ]
    },
    {
      "cell_type": "code",
      "execution_count": 41,
      "metadata": {
        "colab": {
          "base_uri": "https://localhost:8080/"
        },
        "id": "5LZbp19uubCh",
        "outputId": "d3cc6293-2b05-4c1c-88e3-b0731db07e19"
      },
      "outputs": [
        {
          "output_type": "stream",
          "name": "stdout",
          "text": [
            "541.2012295254631\n",
            "2.706006147627315\n",
            "1.6449942697855562\n"
          ]
        }
      ],
      "source": [
        "# Metrics to give an overall sense of error in the model\n",
        "rss = np.sum(np.square(y - y_pred))\n",
        "print(rss)\n",
        "mse = mean_squared_error(y, y_pred)\n",
        "print(mse)\n",
        "rmse = mse**0.5\n",
        "print(rmse)"
      ]
    },
    {
      "cell_type": "code",
      "execution_count": 42,
      "metadata": {
        "id": "4irnIzqNubCk"
      },
      "outputs": [],
      "source": [
        "# Residual analysis\n",
        "y_res = y - y_pred\n",
        "#y_res"
      ]
    },
    {
      "cell_type": "code",
      "execution_count": 43,
      "metadata": {
        "colab": {
          "base_uri": "https://localhost:8080/",
          "height": 0
        },
        "id": "-izhZAUyE2Cw",
        "outputId": "0b854f9a-4c5b-4162-cd90-4a7e17e8b7a9"
      },
      "outputs": [
        {
          "output_type": "display_data",
          "data": {
            "text/plain": [
              "<Figure size 432x288 with 1 Axes>"
            ],
            "image/png": "[encoded data removed]"
          },
          "metadata": {
            "needs_background": "light"
          }
        }
      ],
      "source": [
        "data['res'] = y_res\n",
        "plt.scatter( y_pred , data['res'])\n",
        "plt.axhline(y=0, color='r', linestyle=':')\n",
        "plt.xlabel(\"Predictions\")\n",
        "plt.ylabel(\"Residual\")\n",
        "plt.show()"
      ]
    },
    {
      "cell_type": "code",
      "execution_count": 44,
      "metadata": {
        "colab": {
          "base_uri": "https://localhost:8080/",
          "height": 0
        },
        "id": "EtNaSD1subCt",
        "outputId": "b192778a-0b4d-40c7-9ae8-766fa6dc470c"
      },
      "outputs": [
        {
          "output_type": "display_data",
          "data": {
            "text/plain": [
              "<Figure size 432x288 with 1 Axes>"
            ],
            "image/png": "[encoded data removed]"
          },
          "metadata": {
            "needs_background": "light"
          }
        }
      ],
      "source": [
        "# Distribution of errors\n",
        "p = sns.distplot(y_res,kde=True)\n",
        "\n",
        "p = plt.title('Normality of error terms/residuals')\n",
        "plt.xlabel(\"Residuals\")\n",
        "plt.show()"
      ]
    },
    {
      "cell_type": "code",
      "execution_count": 44,
      "metadata": {
        "id": "ShSYWKSumpjh"
      },
      "outputs": [],
      "source": [
        ""
      ]
    },
    {
      "cell_type": "code",
      "execution_count": 44,
      "metadata": {
        "id": "ycf3Ar9-mpjh"
      },
      "outputs": [],
      "source": [
        ""
      ]
    },
    {
      "cell_type": "code",
      "execution_count": 44,
      "metadata": {
        "id": "iywXp2OHmpjh"
      },
      "outputs": [],
      "source": [
        ""
      ]
    },
    {
      "cell_type": "code",
      "execution_count": 44,
      "metadata": {
        "id": "vaSdCv9Cmpjh"
      },
      "outputs": [],
      "source": [
        ""
      ]
    },
    {
      "cell_type": "code",
      "execution_count": 44,
      "metadata": {
        "id": "99qQdNpZmpjh"
      },
      "outputs": [],
      "source": [
        ""
      ]
    },
    {
      "cell_type": "code",
      "execution_count": 44,
      "metadata": {
        "id": "JM1zGR2cmpjh"
      },
      "outputs": [],
      "source": [
        ""
      ]
    },
    {
      "cell_type": "code",
      "execution_count": 44,
      "metadata": {
        "id": "9Mep-qpzmpjh"
      },
      "outputs": [],
      "source": [
        ""
      ]
    },
    {
      "cell_type": "code",
      "execution_count": 44,
      "metadata": {
        "id": "lj75vyGmmpjh"
      },
      "outputs": [],
      "source": [
        ""
      ]
    },
    {
      "cell_type": "code",
      "execution_count": 44,
      "metadata": {
        "id": "WUzmfFA3mpjh"
      },
      "outputs": [],
      "source": [
        ""
      ]
    },
    {
      "cell_type": "markdown",
      "metadata": {
        "id": "RG2gLSFMxXD-"
      },
      "source": [
        "### Linear Regression Model Estimates using Matrix Multiplications"
      ]
    },
    {
      "cell_type": "code",
      "execution_count": 45,
      "metadata": {
        "id": "8V4fmWu-ym8n"
      },
      "outputs": [],
      "source": [
        "# We use NumPy’s vstack to create a 2-d numpy array from two 1d-arrays and create X_mat.\n",
        "X_mat=np.vstack((np.ones(len(X)), X.T)).T"
      ]
    },
    {
      "cell_type": "code",
      "execution_count": 46,
      "metadata": {
        "id": "mvuRvl2I4s8M"
      },
      "outputs": [],
      "source": [
        "#X_mat"
      ]
    },
    {
      "cell_type": "markdown",
      "metadata": {
        "id": "jvvP4THCmpji"
      },
      "source": [
        "#### $\\widehat{\\beta}=(X^{T}.X)^{-1}.X^{T}.Y$"
      ]
    },
    {
      "cell_type": "code",
      "execution_count": 47,
      "metadata": {
        "id": "OdIDxc4_xxdx"
      },
      "outputs": [],
      "source": [
        "# We can implement this using NumPy’s linalg module’s matrix inverse function and matrix multiplication function.\n",
        "beta_hat = np.linalg.inv(X_mat.T.dot(X_mat)).dot(X_mat.T).dot(y)"
      ]
    },
    {
      "cell_type": "code",
      "execution_count": 48,
      "metadata": {
        "colab": {
          "base_uri": "https://localhost:8080/"
        },
        "id": "DK-v2WKpysgO",
        "outputId": "253aff61-d3a3-4efe-85cc-0eb83ffe05b0"
      },
      "outputs": [
        {
          "output_type": "execute_result",
          "data": {
            "text/plain": [
              "array([[4.62512408e+00],\n",
              "       [5.44457803e-02],\n",
              "       [3.35657922e-04],\n",
              "       [1.07001228e-01]])"
            ]
          },
          "metadata": {},
          "execution_count": 48
        }
      ],
      "source": [
        "beta_hat"
      ]
    },
    {
      "cell_type": "code",
      "execution_count": 49,
      "metadata": {
        "id": "Ca_mcHPWSuqt"
      },
      "outputs": [],
      "source": [
        "beta_hat_list = [beta_hat[i][0] for i in range(len(beta_hat))]\n",
        "coefficients = ['b0', 'b1(TV)', 'b2(Radio)', 'b3(Newspaper)']\n",
        "betas = dict(zip(coefficients, beta_hat_list))"
      ]
    },
    {
      "cell_type": "code",
      "execution_count": 50,
      "metadata": {
        "colab": {
          "base_uri": "https://localhost:8080/"
        },
        "id": "ToRCGj3sSuqu",
        "outputId": "21dd12ce-dabf-48ca-c2ff-24f83c4026d0"
      },
      "outputs": [
        {
          "output_type": "execute_result",
          "data": {
            "text/plain": [
              "{'b0': 4.625124078808704,\n",
              " 'b1(TV)': 0.054445780337570825,\n",
              " 'b2(Radio)': 0.00033565792233105837,\n",
              " 'b3(Newspaper)': 0.10700122823870138}"
            ]
          },
          "metadata": {},
          "execution_count": 50
        }
      ],
      "source": [
        "betas"
      ]
    },
    {
      "cell_type": "code",
      "execution_count": 50,
      "metadata": {
        "id": "dL0Igc3Ympji"
      },
      "outputs": [],
      "source": [
        ""
      ]
    },
    {
      "cell_type": "code",
      "execution_count": 50,
      "metadata": {
        "id": "4HZoV-cjmpjj"
      },
      "outputs": [],
      "source": [
        ""
      ]
    },
    {
      "cell_type": "code",
      "execution_count": 50,
      "metadata": {
        "id": "lGvaH81Xmpjj"
      },
      "outputs": [],
      "source": [
        ""
      ]
    },
    {
      "cell_type": "code",
      "execution_count": 50,
      "metadata": {
        "id": "H1IHvhq6mpjj"
      },
      "outputs": [],
      "source": [
        ""
      ]
    },
    {
      "cell_type": "code",
      "execution_count": 50,
      "metadata": {
        "id": "IGv4zMLMmpjj"
      },
      "outputs": [],
      "source": [
        ""
      ]
    },
    {
      "cell_type": "code",
      "execution_count": 50,
      "metadata": {
        "id": "HIHhcf9_mpjj"
      },
      "outputs": [],
      "source": [
        ""
      ]
    },
    {
      "cell_type": "code",
      "execution_count": 50,
      "metadata": {
        "id": "VviOzP4Nmpjj"
      },
      "outputs": [],
      "source": [
        ""
      ]
    },
    {
      "cell_type": "code",
      "execution_count": 50,
      "metadata": {
        "id": "3ErB5E5Jmpjj"
      },
      "outputs": [],
      "source": [
        ""
      ]
    },
    {
      "cell_type": "markdown",
      "metadata": {
        "id": "AB-7WEzzmvET"
      },
      "source": [
        "### Modeling non-linear relationships using data transformation"
      ]
    },
    {
      "cell_type": "markdown",
      "metadata": {
        "id": "8k50BFpznpkw"
      },
      "source": [
        "Here, we need to make a model which predicts how much distance is covered by a truck in a given time unit after a break is applied."
      ]
    },
    {
      "cell_type": "code",
      "execution_count": 51,
      "metadata": {
        "colab": {
          "base_uri": "https://localhost:8080/",
          "height": 206
        },
        "id": "OCXjKgllP0Lk",
        "outputId": "f644a644-95f3-4680-a654-6f5b443dca24"
      },
      "outputs": [
        {
          "output_type": "execute_result",
          "data": {
            "text/plain": [
              "   time  distance\n",
              "0     1  0.419660\n",
              "1     2  1.350692\n",
              "2     3  2.470342\n",
              "3     4  1.566856\n",
              "4     5  1.595280"
            ],
            "text/html": [
              "\n",
              "  <div id=\"df-781124bf-59e5-492a-9293-2bfa4ef31cc3\">\n",
              "    <div class=\"colab-df-container\">\n",
              "      <div>\n",
              "<style scoped>\n",
              "    .dataframe tbody tr th:only-of-type {\n",
              "        vertical-align: middle;\n",
              "    }\n",
              "\n",
              "    .dataframe tbody tr th {\n",
              "        vertical-align: top;\n",
              "    }\n",
              "\n",
              "    .dataframe thead th {\n",
              "        text-align: right;\n",
              "    }\n",
              "</style>\n",
              "<table border=\"1\" class=\"dataframe\">\n",
              "  <thead>\n",
              "    <tr style=\"text-align: right;\">\n",
              "      <th></th>\n",
              "      <th>time</th>\n",
              "      <th>distance</th>\n",
              "    </tr>\n",
              "  </thead>\n",
              "  <tbody>\n",
              "    <tr>\n",
              "      <th>0</th>\n",
              "      <td>1</td>\n",
              "      <td>0.419660</td>\n",
              "    </tr>\n",
              "    <tr>\n",
              "      <th>1</th>\n",
              "      <td>2</td>\n",
              "      <td>1.350692</td>\n",
              "    </tr>\n",
              "    <tr>\n",
              "      <th>2</th>\n",
              "      <td>3</td>\n",
              "      <td>2.470342</td>\n",
              "    </tr>\n",
              "    <tr>\n",
              "      <th>3</th>\n",
              "      <td>4</td>\n",
              "      <td>1.566856</td>\n",
              "    </tr>\n",
              "    <tr>\n",
              "      <th>4</th>\n",
              "      <td>5</td>\n",
              "      <td>1.595280</td>\n",
              "    </tr>\n",
              "  </tbody>\n",
              "</table>\n",
              "</div>\n",
              "      <button class=\"colab-df-convert\" onclick=\"convertToInteractive('df-781124bf-59e5-492a-9293-2bfa4ef31cc3')\"\n",
              "              title=\"Convert this dataframe to an interactive table.\"\n",
              "              style=\"display:none;\">\n",
              "        \n",
              "  <svg xmlns=\"http://www.w3.org/2000/svg\" height=\"24px\"viewBox=\"0 0 24 24\"\n",
              "       width=\"24px\">\n",
              "    <path d=\"M0 0h24v24H0V0z\" fill=\"none\"/>\n",
              "    <path d=\"M18.56 5.44l.94 2.06.94-2.06 2.06-.94-2.06-.94-.94-2.06-.94 2.06-2.06.94zm-11 1L8.5 8.5l.94-2.06 2.06-.94-2.06-.94L8.5 2.5l-.94 2.06-2.06.94zm10 10l.94 2.06.94-2.06 2.06-.94-2.06-.94-.94-2.06-.94 2.06-2.06.94z\"/><path d=\"M17.41 7.96l-1.37-1.37c-.4-.4-.92-.59-1.43-.59-.52 0-1.04.2-1.43.59L10.3 9.45l-7.72 7.72c-.78.78-.78 2.05 0 2.83L4 21.41c.39.39.9.59 1.41.59.51 0 1.02-.2 1.41-.59l7.78-7.78 2.81-2.81c.8-.78.8-2.07 0-2.86zM5.41 20L4 18.59l7.72-7.72 1.47 1.35L5.41 20z\"/>\n",
              "  </svg>\n",
              "      </button>\n",
              "      \n",
              "  <style>\n",
              "    .colab-df-container {\n",
              "      display:flex;\n",
              "      flex-wrap:wrap;\n",
              "      gap: 12px;\n",
              "    }\n",
              "\n",
              "    .colab-df-convert {\n",
              "      background-color: #E8F0FE;\n",
              "      border: none;\n",
              "      border-radius: 50%;\n",
              "      cursor: pointer;\n",
              "      display: none;\n",
              "      fill: #1967D2;\n",
              "      height: 32px;\n",
              "      padding: 0 0 0 0;\n",
              "      width: 32px;\n",
              "    }\n",
              "\n",
              "    .colab-df-convert:hover {\n",
              "      background-color: #E2EBFA;\n",
              "      box-shadow: 0px 1px 2px rgba(60, 64, 67, 0.3), 0px 1px 3px 1px rgba(60, 64, 67, 0.15);\n",
              "      fill: #174EA6;\n",
              "    }\n",
              "\n",
              "    [theme=dark] .colab-df-convert {\n",
              "      background-color: #3B4455;\n",
              "      fill: #D2E3FC;\n",
              "    }\n",
              "\n",
              "    [theme=dark] .colab-df-convert:hover {\n",
              "      background-color: #434B5C;\n",
              "      box-shadow: 0px 1px 3px 1px rgba(0, 0, 0, 0.15);\n",
              "      filter: drop-shadow(0px 1px 2px rgba(0, 0, 0, 0.3));\n",
              "      fill: #FFFFFF;\n",
              "    }\n",
              "  </style>\n",
              "\n",
              "      <script>\n",
              "        const buttonEl =\n",
              "          document.querySelector('#df-781124bf-59e5-492a-9293-2bfa4ef31cc3 button.colab-df-convert');\n",
              "        buttonEl.style.display =\n",
              "          google.colab.kernel.accessAllowed ? 'block' : 'none';\n",
              "\n",
              "        async function convertToInteractive(key) {\n",
              "          const element = document.querySelector('#df-781124bf-59e5-492a-9293-2bfa4ef31cc3');\n",
              "          const dataTable =\n",
              "            await google.colab.kernel.invokeFunction('convertToInteractive',\n",
              "                                                     [key], {});\n",
              "          if (!dataTable) return;\n",
              "\n",
              "          const docLinkHtml = 'Like what you see? Visit the ' +\n",
              "            '<a target=\"_blank\" href=https://colab.research.google.com/notebooks/data_table.ipynb>data table notebook</a>'\n",
              "            + ' to learn more about interactive tables.';\n",
              "          element.innerHTML = '';\n",
              "          dataTable['output_type'] = 'display_data';\n",
              "          await google.colab.output.renderOutput(dataTable, element);\n",
              "          const docLink = document.createElement('div');\n",
              "          docLink.innerHTML = docLinkHtml;\n",
              "          element.appendChild(docLink);\n",
              "        }\n",
              "      </script>\n",
              "    </div>\n",
              "  </div>\n",
              "  "
            ]
          },
          "metadata": {},
          "execution_count": 51
        }
      ],
      "source": [
        "url = 'https://raw.githubusercontent.com/ramrajv/Upgrad_Pt_2/main/AdvLR/AR%20-%20Examples%20-%201.5.csv'\n",
        "dist = pd.read_csv(url)\n",
        "dist.head()"
      ]
    },
    {
      "cell_type": "code",
      "execution_count": 52,
      "metadata": {
        "colab": {
          "base_uri": "https://localhost:8080/",
          "height": 279
        },
        "id": "OVCCqjyvQRRt",
        "outputId": "93e89bef-5f4b-4ef5-e6e9-c8b2f368c733"
      },
      "outputs": [
        {
          "output_type": "display_data",
          "data": {
            "text/plain": [
              "<Figure size 432x288 with 1 Axes>"
            ],
            "image/png": "[encoded data removed]"
          },
          "metadata": {
            "needs_background": "light"
          }
        }
      ],
      "source": [
        "# Plotting a scatter plot\n",
        "sns.scatterplot( data = dist , x ='time' , y='distance')\n",
        "plt.show()"
      ]
    },
    {
      "cell_type": "code",
      "execution_count": 53,
      "metadata": {
        "id": "J7ixDMYcQ0ZI"
      },
      "outputs": [],
      "source": [
        "# Splitting the dataset into X and y\n",
        "X = np.array(dist['time']).reshape(-1,1)\n",
        "y = np.array(dist['distance']).reshape(-1,1)"
      ]
    },
    {
      "cell_type": "code",
      "execution_count": 54,
      "metadata": {
        "id": "4qSfoX2TQbDE"
      },
      "outputs": [],
      "source": [
        "# Building the regression model\n",
        "model = LinearRegression()"
      ]
    },
    {
      "cell_type": "code",
      "execution_count": 55,
      "metadata": {
        "colab": {
          "base_uri": "https://localhost:8080/"
        },
        "id": "7zQZyMkYQxZd",
        "outputId": "08fdbd4d-55ba-4f44-901e-8e953303e71e"
      },
      "outputs": [
        {
          "output_type": "execute_result",
          "data": {
            "text/plain": [
              "LinearRegression()"
            ]
          },
          "metadata": {},
          "execution_count": 55
        }
      ],
      "source": [
        "model.fit(X, y)"
      ]
    },
    {
      "cell_type": "code",
      "execution_count": 56,
      "metadata": {
        "id": "QYPbYCKfRVck"
      },
      "outputs": [],
      "source": [
        "# Predictions on the basis of the model\n",
        "y_pred2 = model.predict(X)\n",
        "# y_pred2"
      ]
    },
    {
      "cell_type": "code",
      "execution_count": 57,
      "metadata": {
        "colab": {
          "base_uri": "https://localhost:8080/"
        },
        "id": "YOHRRYgYRnZh",
        "outputId": "1d5792f8-cdbf-4914-e30d-f634f1554b44"
      },
      "outputs": [
        {
          "output_type": "execute_result",
          "data": {
            "text/plain": [
              "0.7019700219367477"
            ]
          },
          "metadata": {},
          "execution_count": 57
        }
      ],
      "source": [
        "# Find the value of r squared\n",
        "r2_score(y, y_pred2)"
      ]
    },
    {
      "cell_type": "code",
      "execution_count": 58,
      "metadata": {
        "colab": {
          "base_uri": "https://localhost:8080/",
          "height": 279
        },
        "id": "jQdf6g8Ompjl",
        "outputId": "f3d97c2f-edd5-4b99-86a9-8f880fd89ccf"
      },
      "outputs": [
        {
          "output_type": "display_data",
          "data": {
            "text/plain": [
              "<Figure size 432x288 with 1 Axes>"
            ],
            "image/png": "[encoded data removed]"
          },
          "metadata": {
            "needs_background": "light"
          }
        }
      ],
      "source": [
        "plt.scatter( X , y , color = 'blue')\n",
        "plt.plot(X , y_pred2 , color = 'red' , linewidth = 3)\n",
        "plt.xlabel(\"time\")\n",
        "plt.ylabel(\"distance\")\n",
        "plt.show()"
      ]
    },
    {
      "cell_type": "code",
      "execution_count": 59,
      "metadata": {
        "colab": {
          "base_uri": "https://localhost:8080/"
        },
        "id": "Ed_rLssSU_AN",
        "outputId": "80720f0a-cb2a-4748-e38b-7ae7b2f649d5"
      },
      "outputs": [
        {
          "output_type": "stream",
          "name": "stdout",
          "text": [
            "[3.01233335]\n",
            "[[0.02494362]]\n"
          ]
        }
      ],
      "source": [
        "# Calculate beta0 and beta1.\n",
        "print(model.intercept_)\n",
        "print(model.coef_)"
      ]
    },
    {
      "cell_type": "code",
      "execution_count": 60,
      "metadata": {
        "colab": {
          "base_uri": "https://localhost:8080/"
        },
        "id": "SdZ4Pg2qU_A0",
        "outputId": "439b9131-8ef9-4bbc-f35c-1370dad4a045"
      },
      "outputs": [
        {
          "output_type": "stream",
          "name": "stdout",
          "text": [
            "38.03580844870773\n",
            "0.3169650704058978\n",
            "0.5629965101187553\n"
          ]
        }
      ],
      "source": [
        "# Metrics to give an overall sense of error in the model\n",
        "rss = np.sum(np.square(y - y_pred2))\n",
        "print(rss)\n",
        "mse = mean_squared_error(y, y_pred2)\n",
        "print(mse)\n",
        "rmse = mse**0.5\n",
        "print(rmse)\n"
      ]
    },
    {
      "cell_type": "code",
      "execution_count": 61,
      "metadata": {
        "id": "yjkyLZthRyrz"
      },
      "outputs": [],
      "source": [
        "#residual\n",
        "residual = y - y_pred2"
      ]
    },
    {
      "cell_type": "code",
      "execution_count": 62,
      "metadata": {
        "colab": {
          "base_uri": "https://localhost:8080/",
          "height": 279
        },
        "id": "yq1zygHBR7uT",
        "outputId": "a821a21e-bd94-47a7-86ae-540607817200"
      },
      "outputs": [
        {
          "output_type": "display_data",
          "data": {
            "text/plain": [
              "<Figure size 432x288 with 1 Axes>"
            ],
            "image/png": "[encoded data removed]"
          },
          "metadata": {
            "needs_background": "light"
          }
        }
      ],
      "source": [
        "# Scatter plot of the predicted values on the x-axis and the residuals on the y-axis\n",
        "plt.scatter( y_pred2 , residual)\n",
        "plt.axhline(y=0, color='r', linestyle=':')\n",
        "plt.xlabel(\"Predicted Distance (metres)\")\n",
        "plt.ylabel(\"Residual\")\n",
        "plt.show()"
      ]
    },
    {
      "cell_type": "code",
      "execution_count": 63,
      "metadata": {
        "colab": {
          "base_uri": "https://localhost:8080/",
          "height": 295
        },
        "id": "kWRnv8RmU_A7",
        "outputId": "76ca4c8d-60c6-4db9-9d51-4b702d5bdfbf"
      },
      "outputs": [
        {
          "output_type": "display_data",
          "data": {
            "text/plain": [
              "<Figure size 432x288 with 1 Axes>"
            ],
            "image/png": "[encoded data removed]"
          },
          "metadata": {
            "needs_background": "light"
          }
        }
      ],
      "source": [
        "# Distribution of errors\n",
        "p = sns.distplot(residual,kde=True)\n",
        "p = plt.title('Normality of error terms/residuals')\n",
        "plt.xlabel(\"Residual\")\n",
        "plt.show()"
      ]
    },
    {
      "cell_type": "code",
      "execution_count": 64,
      "metadata": {
        "id": "iZydkRm_GZTg"
      },
      "outputs": [],
      "source": [
        "# As we can see that the residuals do not fulfill the conditions for linear regression, Lets see if we can make some changes so that the residuals are normally distributed.\n",
        "\n",
        "dist['time (seconds)(log)'] = np.log(dist['time'])"
      ]
    },
    {
      "cell_type": "code",
      "execution_count": 65,
      "metadata": {
        "colab": {
          "base_uri": "https://localhost:8080/",
          "height": 279
        },
        "id": "L5pRvbyzP56h",
        "outputId": "9aa34530-7d18-45c5-dd3b-4a0a7115ecaa"
      },
      "outputs": [
        {
          "output_type": "display_data",
          "data": {
            "text/plain": [
              "<Figure size 432x288 with 1 Axes>"
            ],
            "image/png": "[encoded data removed]"
          },
          "metadata": {
            "needs_background": "light"
          }
        }
      ],
      "source": [
        "# Plotting a scatter plot\n",
        "sns.scatterplot( data = dist , x ='time (seconds)(log)' , y='distance')\n",
        "plt.show()"
      ]
    },
    {
      "cell_type": "code",
      "execution_count": 66,
      "metadata": {
        "id": "eGaZ6aH2GeR5"
      },
      "outputs": [],
      "source": [
        "# Splitting the dataset into X and y\n",
        "X = np.array(dist['time (seconds)(log)']).reshape(-1,1)\n",
        "y = np.array(dist['distance']).reshape(-1,1)"
      ]
    },
    {
      "cell_type": "code",
      "execution_count": 67,
      "metadata": {
        "colab": {
          "base_uri": "https://localhost:8080/"
        },
        "id": "F4CkavBbGeli",
        "outputId": "78fba779-ad31-4ea2-9d27-e88099c41f76"
      },
      "outputs": [
        {
          "output_type": "execute_result",
          "data": {
            "text/plain": [
              "LinearRegression()"
            ]
          },
          "metadata": {},
          "execution_count": 67
        }
      ],
      "source": [
        "# Building the regression model\n",
        "model = LinearRegression()\n",
        "\n",
        "model.fit(X, y)"
      ]
    },
    {
      "cell_type": "code",
      "execution_count": 68,
      "metadata": {
        "id": "w0tcA9ZYGe7l"
      },
      "outputs": [],
      "source": [
        "# Predictions on the basis of the model\n",
        "y_pred2 = model.predict(X)\n",
        "# y_pred2"
      ]
    },
    {
      "cell_type": "code",
      "execution_count": 69,
      "metadata": {
        "colab": {
          "base_uri": "https://localhost:8080/"
        },
        "id": "mi0YdcvhGfKv",
        "outputId": "dee4ca58-4fe7-4abe-95f4-d35b58cbdd04"
      },
      "outputs": [
        {
          "output_type": "execute_result",
          "data": {
            "text/plain": [
              "0.8717123012103077"
            ]
          },
          "metadata": {},
          "execution_count": 69
        }
      ],
      "source": [
        "# Find the value of r squared\n",
        "r2_score(y, y_pred2)"
      ]
    },
    {
      "cell_type": "code",
      "execution_count": 70,
      "metadata": {
        "colab": {
          "base_uri": "https://localhost:8080/",
          "height": 279
        },
        "id": "FH8rFQRGmpjn",
        "outputId": "618c650a-6f6d-4540-a88e-5aaf6d59f4db"
      },
      "outputs": [
        {
          "output_type": "display_data",
          "data": {
            "text/plain": [
              "<Figure size 432x288 with 1 Axes>"
            ],
            "image/png": "[encoded data removed]"
          },
          "metadata": {
            "needs_background": "light"
          }
        }
      ],
      "source": [
        "plt.scatter( X , y , color = 'blue')\n",
        "plt.plot(X , y_pred2 , color = 'red' , linewidth = 3)\n",
        "plt.xlabel(\"time (seconds)(log)\")\n",
        "plt.ylabel(\"distance\")\n",
        "plt.show()"
      ]
    },
    {
      "cell_type": "code",
      "execution_count": 71,
      "metadata": {
        "colab": {
          "base_uri": "https://localhost:8080/"
        },
        "id": "F5_SnhXPGgGR",
        "outputId": "811b6993-4a42-43d1-c18f-570d372b3c07"
      },
      "outputs": [
        {
          "output_type": "stream",
          "name": "stdout",
          "text": [
            "[0.58066733]\n",
            "[[1.03293534]]\n"
          ]
        }
      ],
      "source": [
        "# Calculate beta0 and beta1.\n",
        "print(model.intercept_)\n",
        "print(model.coef_)"
      ]
    },
    {
      "cell_type": "code",
      "execution_count": 72,
      "metadata": {
        "colab": {
          "base_uri": "https://localhost:8080/"
        },
        "id": "Awrqfc0TGt9H",
        "outputId": "1e2bba08-7380-449e-9935-b58248dad14d"
      },
      "outputs": [
        {
          "output_type": "stream",
          "name": "stdout",
          "text": [
            "16.372602411340793\n",
            "0.13643835342783994\n",
            "0.369375626466934\n"
          ]
        }
      ],
      "source": [
        "# Metrics to give an overall sense of error in the model\n",
        "rss = np.sum(np.square(y - y_pred2))\n",
        "print(rss)\n",
        "mse = mean_squared_error(y, y_pred2)\n",
        "print(mse)\n",
        "rmse = mse**0.5\n",
        "print(rmse)"
      ]
    },
    {
      "cell_type": "code",
      "execution_count": 73,
      "metadata": {
        "id": "o-eMLCGCGfi_"
      },
      "outputs": [],
      "source": [
        "#residual\n",
        "residual = y - y_pred2"
      ]
    },
    {
      "cell_type": "code",
      "execution_count": 74,
      "metadata": {
        "colab": {
          "base_uri": "https://localhost:8080/",
          "height": 279
        },
        "id": "YxL2MJuLGf1r",
        "outputId": "b0aaf315-4317-44d4-f877-df7b191867f7"
      },
      "outputs": [
        {
          "output_type": "display_data",
          "data": {
            "text/plain": [
              "<Figure size 432x288 with 1 Axes>"
            ],
            "image/png": "[encoded data removed]"
          },
          "metadata": {
            "needs_background": "light"
          }
        }
      ],
      "source": [
        "plt.scatter( y_pred2 , residual)\n",
        "plt.axhline(y=0, color='r', linestyle=':')\n",
        "plt.xlabel(\"Predicted Distance (metres)\")\n",
        "plt.ylabel(\"Residual\")\n",
        "plt.show()"
      ]
    },
    {
      "cell_type": "code",
      "execution_count": 75,
      "metadata": {
        "colab": {
          "base_uri": "https://localhost:8080/",
          "height": 295
        },
        "id": "Mo-yITcvGt2s",
        "outputId": "e91ba94f-7461-497b-b5ac-c5c39cdb484e"
      },
      "outputs": [
        {
          "output_type": "display_data",
          "data": {
            "text/plain": [
              "<Figure size 432x288 with 1 Axes>"
            ],
            "image/png": "[encoded data removed]"
          },
          "metadata": {
            "needs_background": "light"
          }
        }
      ],
      "source": [
        "\n",
        "# Distribution of errors\n",
        "p = sns.distplot(residual,kde=True)\n",
        "p = plt.title('Normality of error terms/residuals')\n",
        "plt.xlabel(\"Residual\")\n",
        "plt.show()"
      ]
    },
    {
      "cell_type": "markdown",
      "metadata": {
        "id": "UyR0EdRHm3lb"
      },
      "source": [
        "### Modeling non-linear relationship using Polynomial Regression"
      ]
    },
    {
      "cell_type": "code",
      "execution_count": 78,
      "metadata": {
        "colab": {
          "base_uri": "https://localhost:8080/",
          "height": 206
        },
        "id": "8KNPRGw2VYJ6",
        "outputId": "d9a5cab3-3e5d-465b-8675-85e8e38a8c0d"
      },
      "outputs": [
        {
          "output_type": "execute_result",
          "data": {
            "text/plain": [
              "   number_courses  time_study   Marks\n",
              "0               3       4.508  19.202\n",
              "1               4       0.096   7.734\n",
              "2               4       3.133  13.811\n",
              "3               6       7.909  53.018\n",
              "4               8       7.811  55.299"
            ],
            "text/html": [
              "\n",
              "  <div id=\"df-4149799a-edf3-4280-a015-53ca4992a5fc\">\n",
              "    <div class=\"colab-df-container\">\n",
              "      <div>\n",
              "<style scoped>\n",
              "    .dataframe tbody tr th:only-of-type {\n",
              "        vertical-align: middle;\n",
              "    }\n",
              "\n",
              "    .dataframe tbody tr th {\n",
              "        vertical-align: top;\n",
              "    }\n",
              "\n",
              "    .dataframe thead th {\n",
              "        text-align: right;\n",
              "    }\n",
              "</style>\n",
              "<table border=\"1\" class=\"dataframe\">\n",
              "  <thead>\n",
              "    <tr style=\"text-align: right;\">\n",
              "      <th></th>\n",
              "      <th>number_courses</th>\n",
              "      <th>time_study</th>\n",
              "      <th>Marks</th>\n",
              "    </tr>\n",
              "  </thead>\n",
              "  <tbody>\n",
              "    <tr>\n",
              "      <th>0</th>\n",
              "      <td>3</td>\n",
              "      <td>4.508</td>\n",
              "      <td>19.202</td>\n",
              "    </tr>\n",
              "    <tr>\n",
              "      <th>1</th>\n",
              "      <td>4</td>\n",
              "      <td>0.096</td>\n",
              "      <td>7.734</td>\n",
              "    </tr>\n",
              "    <tr>\n",
              "      <th>2</th>\n",
              "      <td>4</td>\n",
              "      <td>3.133</td>\n",
              "      <td>13.811</td>\n",
              "    </tr>\n",
              "    <tr>\n",
              "      <th>3</th>\n",
              "      <td>6</td>\n",
              "      <td>7.909</td>\n",
              "      <td>53.018</td>\n",
              "    </tr>\n",
              "    <tr>\n",
              "      <th>4</th>\n",
              "      <td>8</td>\n",
              "      <td>7.811</td>\n",
              "      <td>55.299</td>\n",
              "    </tr>\n",
              "  </tbody>\n",
              "</table>\n",
              "</div>\n",
              "      <button class=\"colab-df-convert\" onclick=\"convertToInteractive('df-4149799a-edf3-4280-a015-53ca4992a5fc')\"\n",
              "              title=\"Convert this dataframe to an interactive table.\"\n",
              "              style=\"display:none;\">\n",
              "        \n",
              "  <svg xmlns=\"http://www.w3.org/2000/svg\" height=\"24px\"viewBox=\"0 0 24 24\"\n",
              "       width=\"24px\">\n",
              "    <path d=\"M0 0h24v24H0V0z\" fill=\"none\"/>\n",
              "    <path d=\"M18.56 5.44l.94 2.06.94-2.06 2.06-.94-2.06-.94-.94-2.06-.94 2.06-2.06.94zm-11 1L8.5 8.5l.94-2.06 2.06-.94-2.06-.94L8.5 2.5l-.94 2.06-2.06.94zm10 10l.94 2.06.94-2.06 2.06-.94-2.06-.94-.94-2.06-.94 2.06-2.06.94z\"/><path d=\"M17.41 7.96l-1.37-1.37c-.4-.4-.92-.59-1.43-.59-.52 0-1.04.2-1.43.59L10.3 9.45l-7.72 7.72c-.78.78-.78 2.05 0 2.83L4 21.41c.39.39.9.59 1.41.59.51 0 1.02-.2 1.41-.59l7.78-7.78 2.81-2.81c.8-.78.8-2.07 0-2.86zM5.41 20L4 18.59l7.72-7.72 1.47 1.35L5.41 20z\"/>\n",
              "  </svg>\n",
              "      </button>\n",
              "      \n",
              "  <style>\n",
              "    .colab-df-container {\n",
              "      display:flex;\n",
              "      flex-wrap:wrap;\n",
              "      gap: 12px;\n",
              "    }\n",
              "\n",
              "    .colab-df-convert {\n",
              "      background-color: #E8F0FE;\n",
              "      border: none;\n",
              "      border-radius: 50%;\n",
              "      cursor: pointer;\n",
              "      display: none;\n",
              "      fill: #1967D2;\n",
              "      height: 32px;\n",
              "      padding: 0 0 0 0;\n",
              "      width: 32px;\n",
              "    }\n",
              "\n",
              "    .colab-df-convert:hover {\n",
              "      background-color: #E2EBFA;\n",
              "      box-shadow: 0px 1px 2px rgba(60, 64, 67, 0.3), 0px 1px 3px 1px rgba(60, 64, 67, 0.15);\n",
              "      fill: #174EA6;\n",
              "    }\n",
              "\n",
              "    [theme=dark] .colab-df-convert {\n",
              "      background-color: #3B4455;\n",
              "      fill: #D2E3FC;\n",
              "    }\n",
              "\n",
              "    [theme=dark] .colab-df-convert:hover {\n",
              "      background-color: #434B5C;\n",
              "      box-shadow: 0px 1px 3px 1px rgba(0, 0, 0, 0.15);\n",
              "      filter: drop-shadow(0px 1px 2px rgba(0, 0, 0, 0.3));\n",
              "      fill: #FFFFFF;\n",
              "    }\n",
              "  </style>\n",
              "\n",
              "      <script>\n",
              "        const buttonEl =\n",
              "          document.querySelector('#df-4149799a-edf3-4280-a015-53ca4992a5fc button.colab-df-convert');\n",
              "        buttonEl.style.display =\n",
              "          google.colab.kernel.accessAllowed ? 'block' : 'none';\n",
              "\n",
              "        async function convertToInteractive(key) {\n",
              "          const element = document.querySelector('#df-4149799a-edf3-4280-a015-53ca4992a5fc');\n",
              "          const dataTable =\n",
              "            await google.colab.kernel.invokeFunction('convertToInteractive',\n",
              "                                                     [key], {});\n",
              "          if (!dataTable) return;\n",
              "\n",
              "          const docLinkHtml = 'Like what you see? Visit the ' +\n",
              "            '<a target=\"_blank\" href=https://colab.research.google.com/notebooks/data_table.ipynb>data table notebook</a>'\n",
              "            + ' to learn more about interactive tables.';\n",
              "          element.innerHTML = '';\n",
              "          dataTable['output_type'] = 'display_data';\n",
              "          await google.colab.output.renderOutput(dataTable, element);\n",
              "          const docLink = document.createElement('div');\n",
              "          docLink.innerHTML = docLinkHtml;\n",
              "          element.appendChild(docLink);\n",
              "        }\n",
              "      </script>\n",
              "    </div>\n",
              "  </div>\n",
              "  "
            ]
          },
          "metadata": {},
          "execution_count": 78
        }
      ],
      "source": [
        "# Model to predict marks given the number of courses taken and the time the student gives to study \n",
        "# on a daily basis.\n",
        "url = 'https://raw.githubusercontent.com/ramrajv/Upgrad_Pt_2/main/AdvLR/AR%20-%20Examples%20-%201.6.csv'\n",
        "data = pd.read_csv(url)\n",
        "data.head()"
      ]
    },
    {
      "cell_type": "code",
      "execution_count": 79,
      "metadata": {
        "colab": {
          "base_uri": "https://localhost:8080/",
          "height": 298
        },
        "id": "nQQC0bwpYH0n",
        "outputId": "1a8fdca0-14d5-4169-f4b0-33b2f15300be"
      },
      "outputs": [
        {
          "output_type": "execute_result",
          "data": {
            "text/plain": [
              "<matplotlib.axes._subplots.AxesSubplot at 0x7f2c17eefe10>"
            ]
          },
          "metadata": {},
          "execution_count": 79
        },
        {
          "output_type": "display_data",
          "data": {
            "text/plain": [
              "<Figure size 432x288 with 1 Axes>"
            ],
            "image/png": "[encoded data removed]"
          },
          "metadata": {
            "needs_background": "light"
          }
        }
      ],
      "source": [
        "# Plotting a scatter plot\n",
        "sns.scatterplot( data = data , x = 'number_courses' , y = 'Marks')"
      ]
    },
    {
      "cell_type": "code",
      "execution_count": 80,
      "metadata": {
        "colab": {
          "base_uri": "https://localhost:8080/",
          "height": 298
        },
        "id": "H-YVPqtbYH0r",
        "outputId": "e98f6495-fcc7-44fb-c8fa-39e677b96481"
      },
      "outputs": [
        {
          "output_type": "execute_result",
          "data": {
            "text/plain": [
              "<matplotlib.axes._subplots.AxesSubplot at 0x7f2c17ef2550>"
            ]
          },
          "metadata": {},
          "execution_count": 80
        },
        {
          "output_type": "display_data",
          "data": {
            "text/plain": [
              "<Figure size 432x288 with 1 Axes>"
            ],
            "image/png": "[encoded data removed]"
          },
          "metadata": {
            "needs_background": "light"
          }
        }
      ],
      "source": [
        "# Plotting a scatter plot\n",
        "sns.scatterplot( data = data , x = 'time_study' , y = 'Marks')"
      ]
    },
    {
      "cell_type": "code",
      "execution_count": 81,
      "metadata": {
        "id": "wyzsOLxvYH0y"
      },
      "outputs": [],
      "source": [
        "# Splitting the dataset into X and y\n",
        "X = data[['number_courses' , 'time_study']]\n",
        "y = np.array(data['Marks']).reshape(-1,1)"
      ]
    },
    {
      "cell_type": "code",
      "execution_count": 82,
      "metadata": {
        "colab": {
          "base_uri": "https://localhost:8080/"
        },
        "id": "aGX4nAAPYH00",
        "outputId": "0513db29-169b-48d6-8a7f-f38608e9b85c"
      },
      "outputs": [
        {
          "output_type": "execute_result",
          "data": {
            "text/plain": [
              "LinearRegression()"
            ]
          },
          "metadata": {},
          "execution_count": 82
        }
      ],
      "source": [
        "# Building the regression model\n",
        "reg = LinearRegression()\n",
        "reg.fit(X,y)"
      ]
    },
    {
      "cell_type": "code",
      "execution_count": 83,
      "metadata": {
        "id": "IqDN8e84YH02"
      },
      "outputs": [],
      "source": [
        "# Predictions on the basis of the model\n",
        "y_pred = reg.predict(X)\n",
        "#y_pred"
      ]
    },
    {
      "cell_type": "code",
      "execution_count": 84,
      "metadata": {
        "colab": {
          "base_uri": "https://localhost:8080/"
        },
        "id": "pegMvW_DYH04",
        "outputId": "96dcf2db-cd81-4219-c502-a55ea4d7df58"
      },
      "outputs": [
        {
          "output_type": "execute_result",
          "data": {
            "text/plain": [
              "0.9403656320238896"
            ]
          },
          "metadata": {},
          "execution_count": 84
        }
      ],
      "source": [
        "# Find the value of r squared\n",
        "r2_score(y , y_pred)"
      ]
    },
    {
      "cell_type": "code",
      "execution_count": 85,
      "metadata": {
        "colab": {
          "base_uri": "https://localhost:8080/"
        },
        "id": "ekn8Kn8ZYH1D",
        "outputId": "26af4c92-720b-4e71-ff4b-5b6a0b06b967"
      },
      "outputs": [
        {
          "output_type": "stream",
          "name": "stdout",
          "text": [
            "[-7.45634623]\n",
            "[[1.86405074 5.39917879]]\n"
          ]
        }
      ],
      "source": [
        "# Calculate beta0 and beta1.\n",
        "print(reg.intercept_)\n",
        "print(reg.coef_)"
      ]
    },
    {
      "cell_type": "code",
      "execution_count": 86,
      "metadata": {
        "colab": {
          "base_uri": "https://localhost:8080/"
        },
        "id": "cdlVIYH1YH1F",
        "outputId": "b40d1e6f-ebc4-4e66-86ab-8e7fa477cd74"
      },
      "outputs": [
        {
          "output_type": "stream",
          "name": "stdout",
          "text": [
            "1211.6962069108945\n",
            "12.116962069108945\n",
            "3.48094269833747\n"
          ]
        }
      ],
      "source": [
        "# Metrics to give an overall sense of error in the model\n",
        "rss = np.sum(np.square(y - y_pred))\n",
        "print(rss)\n",
        "mse = mean_squared_error(y, y_pred)\n",
        "print(mse)\n",
        "rmse = mse**0.5\n",
        "print(rmse)"
      ]
    },
    {
      "cell_type": "code",
      "execution_count": 87,
      "metadata": {
        "id": "J9PaDywRYH1H"
      },
      "outputs": [],
      "source": [
        "# Residual analysis\n",
        "y_res = y - y_pred\n",
        "#y_res"
      ]
    },
    {
      "cell_type": "code",
      "execution_count": 88,
      "metadata": {
        "colab": {
          "base_uri": "https://localhost:8080/",
          "height": 279
        },
        "id": "TLShNOYsM737",
        "outputId": "54e68acd-a903-4715-8a66-53d696bc2e63"
      },
      "outputs": [
        {
          "output_type": "display_data",
          "data": {
            "text/plain": [
              "<Figure size 432x288 with 1 Axes>"
            ],
            "image/png": "[encoded data removed]"
          },
          "metadata": {
            "needs_background": "light"
          }
        }
      ],
      "source": [
        "data['res'] = y_res\n",
        "plt.scatter( y_pred , data['res'])\n",
        "plt.axhline(y=0, color='r', linestyle=':')\n",
        "plt.xlabel(\"Predictions\")\n",
        "plt.ylabel(\"Residual\")\n",
        "plt.show()"
      ]
    },
    {
      "cell_type": "markdown",
      "metadata": {
        "id": "_cfKdanUmpjp"
      },
      "source": [
        "Checking which variable is non-linearly related to the response value"
      ]
    },
    {
      "cell_type": "code",
      "execution_count": 89,
      "metadata": {
        "colab": {
          "base_uri": "https://localhost:8080/",
          "height": 279
        },
        "id": "EAT8NM-KYH1K",
        "outputId": "e54f35f3-7f48-460a-d0a6-cd77cd3ef73b"
      },
      "outputs": [
        {
          "output_type": "display_data",
          "data": {
            "text/plain": [
              "<Figure size 432x288 with 1 Axes>"
            ],
            "image/png": "[encoded data removed]"
          },
          "metadata": {
            "needs_background": "light"
          }
        }
      ],
      "source": [
        "data['res'] = y_res\n",
        "plt.scatter( data['number_courses'] , data['res'])\n",
        "plt.axhline(y=0, color='r', linestyle=':')\n",
        "plt.xlabel(\"Number courses\")\n",
        "plt.ylabel(\"Residual\")\n",
        "plt.show()"
      ]
    },
    {
      "cell_type": "code",
      "execution_count": 90,
      "metadata": {
        "colab": {
          "base_uri": "https://localhost:8080/",
          "height": 279
        },
        "id": "5Y2GAw74Z2yf",
        "outputId": "9eaefee3-9106-4d90-ea4f-f975e26dfbd9"
      },
      "outputs": [
        {
          "output_type": "display_data",
          "data": {
            "text/plain": [
              "<Figure size 432x288 with 1 Axes>"
            ],
            "image/png": "[encoded data removed]"
          },
          "metadata": {
            "needs_background": "light"
          }
        }
      ],
      "source": [
        "plt.scatter( data['time_study'] , data['res'])\n",
        "plt.axhline(y=0, color='r', linestyle=':')\n",
        "plt.xlabel(\"Time study\")\n",
        "plt.ylabel(\"Residual\")\n",
        "plt.show()"
      ]
    },
    {
      "cell_type": "code",
      "execution_count": 91,
      "metadata": {
        "colab": {
          "base_uri": "https://localhost:8080/",
          "height": 295
        },
        "id": "SR569GE7YH1M",
        "outputId": "7fad48c8-1393-43cd-906b-9420a1bdc6cc"
      },
      "outputs": [
        {
          "output_type": "display_data",
          "data": {
            "text/plain": [
              "<Figure size 432x288 with 1 Axes>"
            ],
            "image/png": "[encoded data removed]"
          },
          "metadata": {
            "needs_background": "light"
          }
        }
      ],
      "source": [
        "# Distribution of errors\n",
        "p = sns.distplot(y_res,kde=True)\n",
        "\n",
        "p = plt.title('Normality of error terms/residuals')\n",
        "plt.xlabel(\"Residuals\")\n",
        "plt.show()"
      ]
    },
    {
      "cell_type": "code",
      "execution_count": null,
      "metadata": {
        "id": "C14Q5Wnlmpjq"
      },
      "outputs": [],
      "source": [
        ""
      ]
    },
    {
      "cell_type": "code",
      "execution_count": null,
      "metadata": {
        "id": "hBrwT-Pbmpjq"
      },
      "outputs": [],
      "source": [
        ""
      ]
    },
    {
      "cell_type": "code",
      "execution_count": null,
      "metadata": {
        "id": "UPR5l1K2mpjq"
      },
      "outputs": [],
      "source": [
        ""
      ]
    },
    {
      "cell_type": "code",
      "execution_count": null,
      "metadata": {
        "id": "xhI4PPLHmpjq"
      },
      "outputs": [],
      "source": [
        ""
      ]
    },
    {
      "cell_type": "code",
      "execution_count": null,
      "metadata": {
        "id": "XfDLKbxompjq"
      },
      "outputs": [],
      "source": [
        ""
      ]
    },
    {
      "cell_type": "code",
      "execution_count": null,
      "metadata": {
        "id": "qKjdVkWqmpjq"
      },
      "outputs": [],
      "source": [
        ""
      ]
    },
    {
      "cell_type": "code",
      "execution_count": null,
      "metadata": {
        "id": "TFChjSJKmpjq"
      },
      "outputs": [],
      "source": [
        ""
      ]
    },
    {
      "cell_type": "code",
      "execution_count": null,
      "metadata": {
        "id": "b4FDDeHOmpjq"
      },
      "outputs": [],
      "source": [
        ""
      ]
    },
    {
      "cell_type": "code",
      "execution_count": null,
      "metadata": {
        "id": "THujG-Chmpjq"
      },
      "outputs": [],
      "source": [
        ""
      ]
    },
    {
      "cell_type": "code",
      "execution_count": null,
      "metadata": {
        "id": "zd-pr2rrmpjq"
      },
      "outputs": [],
      "source": [
        ""
      ]
    },
    {
      "cell_type": "code",
      "execution_count": null,
      "metadata": {
        "id": "supzImz9mpjq"
      },
      "outputs": [],
      "source": [
        ""
      ]
    },
    {
      "cell_type": "markdown",
      "metadata": {
        "id": "2sJeRTkqvtW5"
      },
      "source": [
        "### Fitting Polynomial Regression Model "
      ]
    },
    {
      "cell_type": "code",
      "execution_count": 92,
      "metadata": {
        "id": "1Y7IkfB4aGhC"
      },
      "outputs": [],
      "source": [
        "# Transforming the time_study variable\n",
        "data['time_study_squared'] = data['time_study']*data['time_study']"
      ]
    },
    {
      "cell_type": "code",
      "execution_count": 93,
      "metadata": {
        "colab": {
          "base_uri": "https://localhost:8080/",
          "height": 279
        },
        "id": "dYSB-UWCQ2Jq",
        "outputId": "605670ca-308a-4eb0-c66e-980dbcf7d880"
      },
      "outputs": [
        {
          "output_type": "display_data",
          "data": {
            "text/plain": [
              "<Figure size 432x288 with 1 Axes>"
            ],
            "image/png": "[encoded data removed]"
          },
          "metadata": {
            "needs_background": "light"
          }
        }
      ],
      "source": [
        "plt.scatter( data['time_study_squared'] , data['Marks'])\n",
        "plt.xlabel(\"Time study squared\")\n",
        "plt.ylabel(\"Marks\")\n",
        "plt.show()"
      ]
    },
    {
      "cell_type": "code",
      "execution_count": 94,
      "metadata": {
        "id": "Asbt6moioop2"
      },
      "outputs": [],
      "source": [
        "# Splitting the dataset into X and y\n",
        "X = data[['number_courses' , 'time_study', 'time_study_squared']] \n",
        "y = np.array(data['Marks']).reshape(-1,1)"
      ]
    },
    {
      "cell_type": "code",
      "execution_count": 95,
      "metadata": {
        "colab": {
          "base_uri": "https://localhost:8080/"
        },
        "id": "aRbQ3STYoop6",
        "outputId": "93de5e1c-df89-474d-e9c1-ccda25017962"
      },
      "outputs": [
        {
          "output_type": "execute_result",
          "data": {
            "text/plain": [
              "LinearRegression()"
            ]
          },
          "metadata": {},
          "execution_count": 95
        }
      ],
      "source": [
        "# Building the regression model\n",
        "reg = LinearRegression()\n",
        "reg.fit(X,y)"
      ]
    },
    {
      "cell_type": "code",
      "execution_count": 96,
      "metadata": {
        "id": "iwlR0PG6oop9"
      },
      "outputs": [],
      "source": [
        "# Predictions on the basis of the model\n",
        "y_pred = reg.predict(X)\n",
        "# y_pred"
      ]
    },
    {
      "cell_type": "code",
      "execution_count": 97,
      "metadata": {
        "colab": {
          "base_uri": "https://localhost:8080/"
        },
        "id": "bUGyZkBSooqA",
        "outputId": "8ca3581d-cae7-4815-a411-7a1431a63d40"
      },
      "outputs": [
        {
          "output_type": "execute_result",
          "data": {
            "text/plain": [
              "0.9996529294889802"
            ]
          },
          "metadata": {},
          "execution_count": 97
        }
      ],
      "source": [
        "# Find the value of r squared\n",
        "r2_score(y , y_pred)"
      ]
    },
    {
      "cell_type": "code",
      "execution_count": 98,
      "metadata": {
        "colab": {
          "base_uri": "https://localhost:8080/",
          "height": 279
        },
        "id": "HgAjmrchooqC",
        "outputId": "8772f8af-c22b-469c-e0fa-05daad018396"
      },
      "outputs": [
        {
          "output_type": "display_data",
          "data": {
            "text/plain": [
              "<Figure size 432x288 with 1 Axes>"
            ],
            "image/png": "[encoded data removed]"
          },
          "metadata": {
            "needs_background": "light"
          }
        }
      ],
      "source": [
        "plt.scatter( X['number_courses'] , y , color = 'red')\n",
        "plt.scatter( X['number_courses'] , y_pred , color = 'blue' )\n",
        "plt.xlabel(\"Number Courses\")\n",
        "plt.ylabel(\"Marks\")\n",
        "plt.show()"
      ]
    },
    {
      "cell_type": "code",
      "execution_count": 99,
      "metadata": {
        "colab": {
          "base_uri": "https://localhost:8080/",
          "height": 279
        },
        "id": "yFdPbj-EooqE",
        "outputId": "7ac74175-d841-4dcd-aba4-ab787951f54d"
      },
      "outputs": [
        {
          "output_type": "display_data",
          "data": {
            "text/plain": [
              "<Figure size 432x288 with 1 Axes>"
            ],
            "image/png": "[encoded data removed]"
          },
          "metadata": {
            "needs_background": "light"
          }
        }
      ],
      "source": [
        "plt.scatter( X['time_study_squared'] , y , color = 'red')\n",
        "plt.scatter( X['time_study_squared'] , y_pred , color = 'blue' )\n",
        "plt.xlabel(\"Time Study Squared\")\n",
        "plt.ylabel(\"Marks\")\n",
        "plt.show()"
      ]
    },
    {
      "cell_type": "code",
      "execution_count": 100,
      "metadata": {
        "colab": {
          "base_uri": "https://localhost:8080/"
        },
        "id": "nr6m2q7PooqG",
        "outputId": "47c5f826-ff04-42aa-8ca9-0bb6e10cdfc2"
      },
      "outputs": [
        {
          "output_type": "stream",
          "name": "stdout",
          "text": [
            "[0.56299581]\n",
            "[[ 1.70546941 -0.02855268  0.67346253]]\n"
          ]
        }
      ],
      "source": [
        "# Calculate beta0 and beta1.\n",
        "print(reg.intercept_)\n",
        "print(reg.coef_)"
      ]
    },
    {
      "cell_type": "code",
      "execution_count": 101,
      "metadata": {
        "colab": {
          "base_uri": "https://localhost:8080/"
        },
        "id": "AgaZ_6gbooqI",
        "outputId": "8b526361-7803-4a99-f02f-9347dfbadfcc"
      },
      "outputs": [
        {
          "output_type": "stream",
          "name": "stdout",
          "text": [
            "7.052041230683787\n",
            "0.07052041230683787\n",
            "0.2655567967626471\n"
          ]
        }
      ],
      "source": [
        "#Residual Sum of Squares = Mean_Squared_Error * Total number of datapoints\n",
        "rss = np.sum(np.square(y - y_pred))\n",
        "print(rss)\n",
        "mse = mean_squared_error(y, y_pred)\n",
        "print(mse)\n",
        "rmse = mse**0.5\n",
        "print(rmse)"
      ]
    },
    {
      "cell_type": "code",
      "execution_count": 102,
      "metadata": {
        "id": "jHrr08xdooqK"
      },
      "outputs": [],
      "source": [
        "# Residual analysis\n",
        "y_res = y - y_pred\n",
        "#y_res"
      ]
    },
    {
      "cell_type": "code",
      "execution_count": 103,
      "metadata": {
        "colab": {
          "base_uri": "https://localhost:8080/",
          "height": 279
        },
        "id": "jRYsuF5nmpjs",
        "outputId": "a5d0d46f-e506-4e2a-d03e-5fa59dfe7b9c"
      },
      "outputs": [
        {
          "output_type": "display_data",
          "data": {
            "text/plain": [
              "<Figure size 432x288 with 1 Axes>"
            ],
            "image/png": "[encoded data removed]"
          },
          "metadata": {
            "needs_background": "light"
          }
        }
      ],
      "source": [
        "data['res'] = y_res\n",
        "plt.scatter( y_pred , data['res'])\n",
        "plt.axhline(y=0, color='r', linestyle=':')\n",
        "plt.xlabel(\"Predictions\")\n",
        "plt.ylabel(\"Residual\")\n",
        "plt.show()"
      ]
    },
    {
      "cell_type": "code",
      "execution_count": 104,
      "metadata": {
        "colab": {
          "base_uri": "https://localhost:8080/",
          "height": 279
        },
        "id": "YH1-x6xlooqN",
        "outputId": "f3bb8bb7-9de9-4841-e454-d563bf43da3f"
      },
      "outputs": [
        {
          "output_type": "display_data",
          "data": {
            "text/plain": [
              "<Figure size 432x288 with 1 Axes>"
            ],
            "image/png": "[encoded data removed]"
          },
          "metadata": {
            "needs_background": "light"
          }
        }
      ],
      "source": [
        "data['res'] = y_res\n",
        "plt.scatter( data['number_courses'] , data['res'])\n",
        "plt.axhline(y=0, color='r', linestyle=':')\n",
        "plt.xlabel(\"Number courses\")\n",
        "plt.ylabel(\"Residual\")\n",
        "plt.show()"
      ]
    },
    {
      "cell_type": "code",
      "execution_count": 105,
      "metadata": {
        "colab": {
          "base_uri": "https://localhost:8080/",
          "height": 279
        },
        "id": "XcE_5tXRooqP",
        "outputId": "39b1aad3-065e-40f8-c2bf-82b931997956"
      },
      "outputs": [
        {
          "output_type": "display_data",
          "data": {
            "text/plain": [
              "<Figure size 432x288 with 1 Axes>"
            ],
            "image/png": "[encoded data removed]"
          },
          "metadata": {
            "needs_background": "light"
          }
        }
      ],
      "source": [
        "plt.scatter( data['time_study_squared'] , data['res'])\n",
        "plt.axhline(y=0, color='r', linestyle=':')\n",
        "plt.xlabel(\"Time study Squared\")\n",
        "plt.ylabel(\"Residual\")\n",
        "plt.show()"
      ]
    },
    {
      "cell_type": "code",
      "execution_count": 106,
      "metadata": {
        "colab": {
          "base_uri": "https://localhost:8080/",
          "height": 295
        },
        "id": "806WZJMvooqT",
        "outputId": "df521878-2e3b-42f1-ac89-b5e11406a4ad"
      },
      "outputs": [
        {
          "output_type": "display_data",
          "data": {
            "text/plain": [
              "<Figure size 432x288 with 1 Axes>"
            ],
            "image/png": "[encoded data removed]"
          },
          "metadata": {
            "needs_background": "light"
          }
        }
      ],
      "source": [
        "# Distribution of errors\n",
        "p = sns.distplot(y_res,kde=True)\n",
        "\n",
        "p = plt.title('Normality of error terms/residuals')\n",
        "plt.xlabel(\"Residuals\")\n",
        "plt.show()"
      ]
    },
    {
      "cell_type": "code",
      "execution_count": null,
      "metadata": {
        "id": "arw-Zo8mSRV7"
      },
      "outputs": [],
      "source": [
        ""
      ]
    }
  ],
  "metadata": {
    "colab": {
      "collapsed_sections": [
        "jKO61s769a9M",
        "Ts_s172rmjBA",
        "fKybRYJkMEPG",
        "ud3Gp7DPrNOf",
        "RG2gLSFMxXD-",
        "xCkrXw5-Mxfi",
        "gArjGH_6M0Dc"
      ],
      "name": "Linear_Regression.ipynb",
      "provenance": [],
      "include_colab_link": true
    },
    "kernelspec": {
      "display_name": "Python 3",
      "language": "python",
      "name": "python3"
    },
    "language_info": {
      "codemirror_mode": {
        "name": "ipython",
        "version": 3
      },
      "file_extension": ".py",
      "mimetype": "text/x-python",
      "name": "python",
      "nbconvert_exporter": "python",
      "pygments_lexer": "ipython3",
      "version": "3.8.3"
    }
  },
  "nbformat": 4,
  "nbformat_minor": 0
}